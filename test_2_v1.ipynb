{
  "cells": [
    {
      "cell_type": "markdown",
      "id": "a36bf4af",
      "metadata": {
        "id": "a36bf4af"
      },
      "source": [
        "# **Identificação**:"
      ]
    },
    {
      "cell_type": "markdown",
      "id": "259b4fd9",
      "metadata": {
        "id": "259b4fd9"
      },
      "source": [
        "- `Número de aluno`: 222203209\n",
        "- `Nome`: Francisco Gomes\n",
        "- `Data`:03/06/2025"
      ]
    },
    {
      "cell_type": "markdown",
      "id": "2625e089",
      "metadata": {
        "id": "2625e089"
      },
      "source": [
        "# **Instruções:**\n",
        "- Justifique suas respostas quando solicitado.\n",
        "- Não é permitido a consulta a outros alunos ou a qualquer material externo.\n",
        "- Eletronic devices estão proibidos durante o teste.\n",
        "- Teste seus códigos com diferentes entradas para garantir seu funcionamento.\n",
        "- Salve o notebook com seu `número de aluno` antes de entregar. Exemplo: `2022000000.ipynb`.\n",
        "- Faça silêncio em respeito aos alunos que ainda estão realizando o teste."
      ]
    },
    {
      "cell_type": "markdown",
      "id": "bf3670f9",
      "metadata": {
        "id": "bf3670f9"
      },
      "source": [
        "## Importando bibliotecas"
      ]
    },
    {
      "cell_type": "code",
      "execution_count": 1,
      "id": "mWXZ_8_WP2Ul",
      "metadata": {
        "colab": {
          "base_uri": "https://localhost:8080/"
        },
        "id": "mWXZ_8_WP2Ul",
        "outputId": "7d7ce4c5-4f79-4635-de85-55e2b13aca8e"
      },
      "outputs": [
        {
          "output_type": "stream",
          "name": "stdout",
          "text": [
            "Requirement already satisfied: numpy==1.24.4 in /usr/local/lib/python3.11/dist-packages (1.24.4)\n",
            "Requirement already satisfied: scipy==1.10.1 in /usr/local/lib/python3.11/dist-packages (1.10.1)\n",
            "Requirement already satisfied: gensim==4.3.3 in /usr/local/lib/python3.11/dist-packages (4.3.3)\n",
            "Requirement already satisfied: umap in /usr/local/lib/python3.11/dist-packages (0.1.1)\n",
            "Requirement already satisfied: umap-learn in /usr/local/lib/python3.11/dist-packages (0.5.7)\n",
            "Requirement already satisfied: smart-open>=1.8.1 in /usr/local/lib/python3.11/dist-packages (from gensim==4.3.3) (7.1.0)\n",
            "Requirement already satisfied: scikit-learn>=0.22 in /usr/local/lib/python3.11/dist-packages (from umap-learn) (1.6.1)\n",
            "Requirement already satisfied: numba>=0.51.2 in /usr/local/lib/python3.11/dist-packages (from umap-learn) (0.60.0)\n",
            "Requirement already satisfied: pynndescent>=0.5 in /usr/local/lib/python3.11/dist-packages (from umap-learn) (0.5.13)\n",
            "Requirement already satisfied: tqdm in /usr/local/lib/python3.11/dist-packages (from umap-learn) (4.67.1)\n",
            "Requirement already satisfied: llvmlite<0.44,>=0.43.0dev0 in /usr/local/lib/python3.11/dist-packages (from numba>=0.51.2->umap-learn) (0.43.0)\n",
            "Requirement already satisfied: joblib>=0.11 in /usr/local/lib/python3.11/dist-packages (from pynndescent>=0.5->umap-learn) (1.5.0)\n",
            "Requirement already satisfied: threadpoolctl>=3.1.0 in /usr/local/lib/python3.11/dist-packages (from scikit-learn>=0.22->umap-learn) (3.6.0)\n",
            "Requirement already satisfied: wrapt in /usr/local/lib/python3.11/dist-packages (from smart-open>=1.8.1->gensim==4.3.3) (1.17.2)\n"
          ]
        }
      ],
      "source": [
        "!pip install numpy==1.24.4 scipy==1.10.1 gensim==4.3.3 umap umap-learn"
      ]
    },
    {
      "cell_type": "code",
      "execution_count": 2,
      "id": "Q946i0tUP9K9",
      "metadata": {
        "colab": {
          "base_uri": "https://localhost:8080/"
        },
        "id": "Q946i0tUP9K9",
        "outputId": "3b4b53e3-ca45-49dd-cc2b-4769d68ba101"
      },
      "outputs": [
        {
          "output_type": "stream",
          "name": "stdout",
          "text": [
            "Requirement already satisfied: nltk in /usr/local/lib/python3.11/dist-packages (3.9.1)\n",
            "Requirement already satisfied: click in /usr/local/lib/python3.11/dist-packages (from nltk) (8.2.1)\n",
            "Requirement already satisfied: joblib in /usr/local/lib/python3.11/dist-packages (from nltk) (1.5.0)\n",
            "Requirement already satisfied: regex>=2021.8.3 in /usr/local/lib/python3.11/dist-packages (from nltk) (2024.11.6)\n",
            "Requirement already satisfied: tqdm in /usr/local/lib/python3.11/dist-packages (from nltk) (4.67.1)\n",
            "Requirement already satisfied: spacy in /usr/local/lib/python3.11/dist-packages (3.8.6)\n",
            "Requirement already satisfied: spacy-legacy<3.1.0,>=3.0.11 in /usr/local/lib/python3.11/dist-packages (from spacy) (3.0.12)\n",
            "Requirement already satisfied: spacy-loggers<2.0.0,>=1.0.0 in /usr/local/lib/python3.11/dist-packages (from spacy) (1.0.5)\n",
            "Requirement already satisfied: murmurhash<1.1.0,>=0.28.0 in /usr/local/lib/python3.11/dist-packages (from spacy) (1.0.12)\n",
            "Requirement already satisfied: cymem<2.1.0,>=2.0.2 in /usr/local/lib/python3.11/dist-packages (from spacy) (2.0.11)\n",
            "Requirement already satisfied: preshed<3.1.0,>=3.0.2 in /usr/local/lib/python3.11/dist-packages (from spacy) (3.0.9)\n",
            "Requirement already satisfied: thinc<8.4.0,>=8.3.4 in /usr/local/lib/python3.11/dist-packages (from spacy) (8.3.6)\n",
            "Requirement already satisfied: wasabi<1.2.0,>=0.9.1 in /usr/local/lib/python3.11/dist-packages (from spacy) (1.1.3)\n",
            "Requirement already satisfied: srsly<3.0.0,>=2.4.3 in /usr/local/lib/python3.11/dist-packages (from spacy) (2.5.1)\n",
            "Requirement already satisfied: catalogue<2.1.0,>=2.0.6 in /usr/local/lib/python3.11/dist-packages (from spacy) (2.0.10)\n",
            "Requirement already satisfied: weasel<0.5.0,>=0.1.0 in /usr/local/lib/python3.11/dist-packages (from spacy) (0.4.1)\n",
            "Requirement already satisfied: typer<1.0.0,>=0.3.0 in /usr/local/lib/python3.11/dist-packages (from spacy) (0.15.3)\n",
            "Requirement already satisfied: tqdm<5.0.0,>=4.38.0 in /usr/local/lib/python3.11/dist-packages (from spacy) (4.67.1)\n",
            "Requirement already satisfied: numpy>=1.19.0 in /usr/local/lib/python3.11/dist-packages (from spacy) (1.24.4)\n",
            "Requirement already satisfied: requests<3.0.0,>=2.13.0 in /usr/local/lib/python3.11/dist-packages (from spacy) (2.32.3)\n",
            "Requirement already satisfied: pydantic!=1.8,!=1.8.1,<3.0.0,>=1.7.4 in /usr/local/lib/python3.11/dist-packages (from spacy) (2.11.4)\n",
            "Requirement already satisfied: jinja2 in /usr/local/lib/python3.11/dist-packages (from spacy) (3.1.6)\n",
            "Requirement already satisfied: setuptools in /usr/local/lib/python3.11/dist-packages (from spacy) (75.2.0)\n",
            "Requirement already satisfied: packaging>=20.0 in /usr/local/lib/python3.11/dist-packages (from spacy) (24.2)\n",
            "Requirement already satisfied: langcodes<4.0.0,>=3.2.0 in /usr/local/lib/python3.11/dist-packages (from spacy) (3.5.0)\n",
            "Requirement already satisfied: language-data>=1.2 in /usr/local/lib/python3.11/dist-packages (from langcodes<4.0.0,>=3.2.0->spacy) (1.3.0)\n",
            "Requirement already satisfied: annotated-types>=0.6.0 in /usr/local/lib/python3.11/dist-packages (from pydantic!=1.8,!=1.8.1,<3.0.0,>=1.7.4->spacy) (0.7.0)\n",
            "Requirement already satisfied: pydantic-core==2.33.2 in /usr/local/lib/python3.11/dist-packages (from pydantic!=1.8,!=1.8.1,<3.0.0,>=1.7.4->spacy) (2.33.2)\n",
            "Requirement already satisfied: typing-extensions>=4.12.2 in /usr/local/lib/python3.11/dist-packages (from pydantic!=1.8,!=1.8.1,<3.0.0,>=1.7.4->spacy) (4.13.2)\n",
            "Requirement already satisfied: typing-inspection>=0.4.0 in /usr/local/lib/python3.11/dist-packages (from pydantic!=1.8,!=1.8.1,<3.0.0,>=1.7.4->spacy) (0.4.1)\n",
            "Requirement already satisfied: charset-normalizer<4,>=2 in /usr/local/lib/python3.11/dist-packages (from requests<3.0.0,>=2.13.0->spacy) (3.4.2)\n",
            "Requirement already satisfied: idna<4,>=2.5 in /usr/local/lib/python3.11/dist-packages (from requests<3.0.0,>=2.13.0->spacy) (3.10)\n",
            "Requirement already satisfied: urllib3<3,>=1.21.1 in /usr/local/lib/python3.11/dist-packages (from requests<3.0.0,>=2.13.0->spacy) (2.4.0)\n",
            "Requirement already satisfied: certifi>=2017.4.17 in /usr/local/lib/python3.11/dist-packages (from requests<3.0.0,>=2.13.0->spacy) (2025.4.26)\n",
            "Requirement already satisfied: blis<1.4.0,>=1.3.0 in /usr/local/lib/python3.11/dist-packages (from thinc<8.4.0,>=8.3.4->spacy) (1.3.0)\n",
            "Requirement already satisfied: confection<1.0.0,>=0.0.1 in /usr/local/lib/python3.11/dist-packages (from thinc<8.4.0,>=8.3.4->spacy) (0.1.5)\n",
            "Collecting numpy>=1.19.0 (from spacy)\n",
            "  Using cached numpy-2.2.6-cp311-cp311-manylinux_2_17_x86_64.manylinux2014_x86_64.whl.metadata (62 kB)\n",
            "Requirement already satisfied: click>=8.0.0 in /usr/local/lib/python3.11/dist-packages (from typer<1.0.0,>=0.3.0->spacy) (8.2.1)\n",
            "Requirement already satisfied: shellingham>=1.3.0 in /usr/local/lib/python3.11/dist-packages (from typer<1.0.0,>=0.3.0->spacy) (1.5.4)\n",
            "Requirement already satisfied: rich>=10.11.0 in /usr/local/lib/python3.11/dist-packages (from typer<1.0.0,>=0.3.0->spacy) (13.9.4)\n",
            "Requirement already satisfied: cloudpathlib<1.0.0,>=0.7.0 in /usr/local/lib/python3.11/dist-packages (from weasel<0.5.0,>=0.1.0->spacy) (0.21.1)\n",
            "Requirement already satisfied: smart-open<8.0.0,>=5.2.1 in /usr/local/lib/python3.11/dist-packages (from weasel<0.5.0,>=0.1.0->spacy) (7.1.0)\n",
            "Requirement already satisfied: MarkupSafe>=2.0 in /usr/local/lib/python3.11/dist-packages (from jinja2->spacy) (3.0.2)\n",
            "Requirement already satisfied: marisa-trie>=1.1.0 in /usr/local/lib/python3.11/dist-packages (from language-data>=1.2->langcodes<4.0.0,>=3.2.0->spacy) (1.2.1)\n",
            "Requirement already satisfied: markdown-it-py>=2.2.0 in /usr/local/lib/python3.11/dist-packages (from rich>=10.11.0->typer<1.0.0,>=0.3.0->spacy) (3.0.0)\n",
            "Requirement already satisfied: pygments<3.0.0,>=2.13.0 in /usr/local/lib/python3.11/dist-packages (from rich>=10.11.0->typer<1.0.0,>=0.3.0->spacy) (2.19.1)\n",
            "Requirement already satisfied: wrapt in /usr/local/lib/python3.11/dist-packages (from smart-open<8.0.0,>=5.2.1->weasel<0.5.0,>=0.1.0->spacy) (1.17.2)\n",
            "Requirement already satisfied: mdurl~=0.1 in /usr/local/lib/python3.11/dist-packages (from markdown-it-py>=2.2.0->rich>=10.11.0->typer<1.0.0,>=0.3.0->spacy) (0.1.2)\n",
            "Using cached numpy-2.2.6-cp311-cp311-manylinux_2_17_x86_64.manylinux2014_x86_64.whl (16.8 MB)\n",
            "Installing collected packages: numpy\n",
            "  Attempting uninstall: numpy\n",
            "    Found existing installation: numpy 1.24.4\n",
            "    Uninstalling numpy-1.24.4:\n",
            "      Successfully uninstalled numpy-1.24.4\n",
            "\u001b[31mERROR: pip's dependency resolver does not currently take into account all the packages that are installed. This behaviour is the source of the following dependency conflicts.\n",
            "gensim 4.3.3 requires numpy<2.0,>=1.18.5, but you have numpy 2.2.6 which is incompatible.\n",
            "scipy 1.10.1 requires numpy<1.27.0,>=1.19.5, but you have numpy 2.2.6 which is incompatible.\n",
            "jaxlib 0.5.1 requires scipy>=1.11.1, but you have scipy 1.10.1 which is incompatible.\n",
            "scikit-image 0.25.2 requires scipy>=1.11.4, but you have scipy 1.10.1 which is incompatible.\n",
            "numba 0.60.0 requires numpy<2.1,>=1.22, but you have numpy 2.2.6 which is incompatible.\n",
            "jax 0.5.2 requires scipy>=1.11.1, but you have scipy 1.10.1 which is incompatible.\n",
            "tensorflow 2.18.0 requires numpy<2.1.0,>=1.26.0, but you have numpy 2.2.6 which is incompatible.\n",
            "tsfresh 0.21.0 requires scipy>=1.14.0; python_version >= \"3.10\", but you have scipy 1.10.1 which is incompatible.\n",
            "cvxpy 1.6.5 requires scipy>=1.11.0, but you have scipy 1.10.1 which is incompatible.\u001b[0m\u001b[31m\n",
            "\u001b[0mSuccessfully installed numpy-2.2.6\n",
            "/usr/local/lib/python3.11/dist-packages/scipy/__init__.py:143: UserWarning: A NumPy version >=1.19.5 and <1.27.0 is required for this version of SciPy (detected version 2.2.6)\n",
            "  warnings.warn(f\"A NumPy version >={np_minversion} and <{np_maxversion}\"\n",
            "\n",
            "A module that was compiled using NumPy 1.x cannot be run in\n",
            "NumPy 2.2.6 as it may crash. To support both 1.x and 2.x\n",
            "versions of NumPy, modules must be compiled with NumPy 2.0.\n",
            "Some module may need to rebuild instead e.g. with 'pybind11>=2.12'.\n",
            "\n",
            "If you are a user of the module, the easiest solution will be to\n",
            "downgrade to 'numpy<2' or try to upgrade the affected module.\n",
            "We expect that some modules will need time to support NumPy 2.\n",
            "\n",
            "Traceback (most recent call last):  File \"<frozen runpy>\", line 189, in _run_module_as_main\n",
            "  File \"<frozen runpy>\", line 148, in _get_module_details\n",
            "  File \"<frozen runpy>\", line 112, in _get_module_details\n",
            "  File \"/usr/local/lib/python3.11/dist-packages/spacy/__init__.py\", line 6, in <module>\n",
            "    from .errors import setup_default_warnings\n",
            "  File \"/usr/local/lib/python3.11/dist-packages/spacy/errors.py\", line 3, in <module>\n",
            "    from .compat import Literal\n",
            "  File \"/usr/local/lib/python3.11/dist-packages/spacy/compat.py\", line 4, in <module>\n",
            "    from thinc.util import copy_array\n",
            "  File \"/usr/local/lib/python3.11/dist-packages/thinc/__init__.py\", line 5, in <module>\n",
            "    from .config import registry\n",
            "  File \"/usr/local/lib/python3.11/dist-packages/thinc/config.py\", line 2, in <module>\n",
            "    import confection\n",
            "  File \"/usr/local/lib/python3.11/dist-packages/confection/__init__.py\", line 35, in <module>\n",
            "    import srsly\n",
            "  File \"/usr/local/lib/python3.11/dist-packages/srsly/__init__.py\", line 5, in <module>\n",
            "    from ._msgpack_api import read_msgpack, write_msgpack, msgpack_dumps, msgpack_loads\n",
            "  File \"/usr/local/lib/python3.11/dist-packages/srsly/_msgpack_api.py\", line 3, in <module>\n",
            "    from . import msgpack\n",
            "  File \"/usr/local/lib/python3.11/dist-packages/srsly/msgpack/__init__.py\", line 18, in <module>\n",
            "    from ._msgpack_numpy import encode_numpy as _encode_numpy\n",
            "  File \"/usr/local/lib/python3.11/dist-packages/srsly/msgpack/_msgpack_numpy.py\", line 19, in <module>\n",
            "    import cupy\n",
            "  File \"/usr/local/lib/python3.11/dist-packages/cupy/__init__.py\", line 30, in <module>\n",
            "    import cupyx as _cupyx  # NOQA\n",
            "  File \"/usr/local/lib/python3.11/dist-packages/cupyx/__init__.py\", line 8, in <module>\n",
            "    from cupyx import linalg  # NOQA\n",
            "  File \"/usr/local/lib/python3.11/dist-packages/cupyx/linalg/__init__.py\", line 2, in <module>\n",
            "    from cupyx.linalg import sparse  # NOQA\n",
            "  File \"/usr/local/lib/python3.11/dist-packages/cupyx/linalg/sparse/__init__.py\", line 3, in <module>\n",
            "    from cupyx.linalg.sparse._solve import lschol  # NOQA\n",
            "  File \"/usr/local/lib/python3.11/dist-packages/cupyx/linalg/sparse/_solve.py\", line 6, in <module>\n",
            "    from cupyx.scipy import sparse\n",
            "  File \"/usr/local/lib/python3.11/dist-packages/cupyx/scipy/__init__.py\", line 4, in <module>\n",
            "    from cupyx.scipy.sparse._base import spmatrix as _spmatrix\n",
            "  File \"/usr/local/lib/python3.11/dist-packages/cupyx/scipy/sparse/__init__.py\", line 1, in <module>\n",
            "    from cupyx.scipy.sparse._base import issparse  # NOQA\n",
            "  File \"/usr/local/lib/python3.11/dist-packages/cupyx/scipy/sparse/_base.py\", line 10, in <module>\n",
            "    import scipy.sparse as _sparse\n",
            "  File \"/usr/local/lib/python3.11/dist-packages/scipy/sparse/__init__.py\", line 267, in <module>\n",
            "    from ._csr import *\n",
            "  File \"/usr/local/lib/python3.11/dist-packages/scipy/sparse/_csr.py\", line 10, in <module>\n",
            "    from ._sparsetools import (csr_tocsc, csr_tobsr, csr_count_blocks,\n",
            "AttributeError: _ARRAY_API not found\n",
            "\n",
            "A module that was compiled using NumPy 1.x cannot be run in\n",
            "NumPy 2.2.6 as it may crash. To support both 1.x and 2.x\n",
            "versions of NumPy, modules must be compiled with NumPy 2.0.\n",
            "Some module may need to rebuild instead e.g. with 'pybind11>=2.12'.\n",
            "\n",
            "If you are a user of the module, the easiest solution will be to\n",
            "downgrade to 'numpy<2' or try to upgrade the affected module.\n",
            "We expect that some modules will need time to support NumPy 2.\n",
            "\n",
            "Traceback (most recent call last):  File \"<frozen runpy>\", line 189, in _run_module_as_main\n",
            "  File \"<frozen runpy>\", line 148, in _get_module_details\n",
            "  File \"<frozen runpy>\", line 112, in _get_module_details\n",
            "  File \"/usr/local/lib/python3.11/dist-packages/spacy/__init__.py\", line 6, in <module>\n",
            "    from .errors import setup_default_warnings\n",
            "  File \"/usr/local/lib/python3.11/dist-packages/spacy/errors.py\", line 3, in <module>\n",
            "    from .compat import Literal\n",
            "  File \"/usr/local/lib/python3.11/dist-packages/spacy/compat.py\", line 4, in <module>\n",
            "    from thinc.util import copy_array\n",
            "  File \"/usr/local/lib/python3.11/dist-packages/thinc/__init__.py\", line 5, in <module>\n",
            "    from .config import registry\n",
            "  File \"/usr/local/lib/python3.11/dist-packages/thinc/config.py\", line 2, in <module>\n",
            "    import confection\n",
            "  File \"/usr/local/lib/python3.11/dist-packages/confection/__init__.py\", line 35, in <module>\n",
            "    import srsly\n",
            "  File \"/usr/local/lib/python3.11/dist-packages/srsly/__init__.py\", line 5, in <module>\n",
            "    from ._msgpack_api import read_msgpack, write_msgpack, msgpack_dumps, msgpack_loads\n",
            "  File \"/usr/local/lib/python3.11/dist-packages/srsly/_msgpack_api.py\", line 3, in <module>\n",
            "    from . import msgpack\n",
            "  File \"/usr/local/lib/python3.11/dist-packages/srsly/msgpack/__init__.py\", line 18, in <module>\n",
            "    from ._msgpack_numpy import encode_numpy as _encode_numpy\n",
            "  File \"/usr/local/lib/python3.11/dist-packages/srsly/msgpack/_msgpack_numpy.py\", line 19, in <module>\n",
            "    import cupy\n",
            "  File \"/usr/local/lib/python3.11/dist-packages/cupy/__init__.py\", line 30, in <module>\n",
            "    import cupyx as _cupyx  # NOQA\n",
            "  File \"/usr/local/lib/python3.11/dist-packages/cupyx/__init__.py\", line 8, in <module>\n",
            "    from cupyx import linalg  # NOQA\n",
            "  File \"/usr/local/lib/python3.11/dist-packages/cupyx/linalg/__init__.py\", line 2, in <module>\n",
            "    from cupyx.linalg import sparse  # NOQA\n",
            "  File \"/usr/local/lib/python3.11/dist-packages/cupyx/linalg/sparse/__init__.py\", line 3, in <module>\n",
            "    from cupyx.linalg.sparse._solve import lschol  # NOQA\n",
            "  File \"/usr/local/lib/python3.11/dist-packages/cupyx/linalg/sparse/_solve.py\", line 6, in <module>\n",
            "    from cupyx.scipy import sparse\n",
            "  File \"/usr/local/lib/python3.11/dist-packages/cupyx/scipy/__init__.py\", line 4, in <module>\n",
            "    from cupyx.scipy.sparse._base import spmatrix as _spmatrix\n",
            "  File \"/usr/local/lib/python3.11/dist-packages/cupyx/scipy/sparse/__init__.py\", line 6, in <module>\n",
            "    from cupyx.scipy.sparse._coo import coo_matrix  # NOQA\n",
            "  File \"/usr/local/lib/python3.11/dist-packages/cupyx/scipy/sparse/_coo.py\", line 3, in <module>\n",
            "    import scipy.sparse\n",
            "  File \"/usr/local/lib/python3.11/dist-packages/scipy/sparse/__init__.py\", line 267, in <module>\n",
            "    from ._csr import *\n",
            "  File \"/usr/local/lib/python3.11/dist-packages/scipy/sparse/_csr.py\", line 10, in <module>\n",
            "    from ._sparsetools import (csr_tocsc, csr_tobsr, csr_count_blocks,\n",
            "AttributeError: _ARRAY_API not found\n",
            "\n",
            "A module that was compiled using NumPy 1.x cannot be run in\n",
            "NumPy 2.2.6 as it may crash. To support both 1.x and 2.x\n",
            "versions of NumPy, modules must be compiled with NumPy 2.0.\n",
            "Some module may need to rebuild instead e.g. with 'pybind11>=2.12'.\n",
            "\n",
            "If you are a user of the module, the easiest solution will be to\n",
            "downgrade to 'numpy<2' or try to upgrade the affected module.\n",
            "We expect that some modules will need time to support NumPy 2.\n",
            "\n",
            "Traceback (most recent call last):  File \"<frozen runpy>\", line 189, in _run_module_as_main\n",
            "  File \"<frozen runpy>\", line 148, in _get_module_details\n",
            "  File \"<frozen runpy>\", line 112, in _get_module_details\n",
            "  File \"/usr/local/lib/python3.11/dist-packages/spacy/__init__.py\", line 6, in <module>\n",
            "    from .errors import setup_default_warnings\n",
            "  File \"/usr/local/lib/python3.11/dist-packages/spacy/errors.py\", line 3, in <module>\n",
            "    from .compat import Literal\n",
            "  File \"/usr/local/lib/python3.11/dist-packages/spacy/compat.py\", line 4, in <module>\n",
            "    from thinc.util import copy_array\n",
            "  File \"/usr/local/lib/python3.11/dist-packages/thinc/__init__.py\", line 5, in <module>\n",
            "    from .config import registry\n",
            "  File \"/usr/local/lib/python3.11/dist-packages/thinc/config.py\", line 2, in <module>\n",
            "    import confection\n",
            "  File \"/usr/local/lib/python3.11/dist-packages/confection/__init__.py\", line 35, in <module>\n",
            "    import srsly\n",
            "  File \"/usr/local/lib/python3.11/dist-packages/srsly/__init__.py\", line 5, in <module>\n",
            "    from ._msgpack_api import read_msgpack, write_msgpack, msgpack_dumps, msgpack_loads\n",
            "  File \"/usr/local/lib/python3.11/dist-packages/srsly/_msgpack_api.py\", line 3, in <module>\n",
            "    from . import msgpack\n",
            "  File \"/usr/local/lib/python3.11/dist-packages/srsly/msgpack/__init__.py\", line 18, in <module>\n",
            "    from ._msgpack_numpy import encode_numpy as _encode_numpy\n",
            "  File \"/usr/local/lib/python3.11/dist-packages/srsly/msgpack/_msgpack_numpy.py\", line 19, in <module>\n",
            "    import cupy\n",
            "  File \"/usr/local/lib/python3.11/dist-packages/cupy/__init__.py\", line 30, in <module>\n",
            "    import cupyx as _cupyx  # NOQA\n",
            "  File \"/usr/local/lib/python3.11/dist-packages/cupyx/__init__.py\", line 8, in <module>\n",
            "    from cupyx import linalg  # NOQA\n",
            "  File \"/usr/local/lib/python3.11/dist-packages/cupyx/linalg/__init__.py\", line 2, in <module>\n",
            "    from cupyx.linalg import sparse  # NOQA\n",
            "  File \"/usr/local/lib/python3.11/dist-packages/cupyx/linalg/sparse/__init__.py\", line 3, in <module>\n",
            "    from cupyx.linalg.sparse._solve import lschol  # NOQA\n",
            "  File \"/usr/local/lib/python3.11/dist-packages/cupyx/linalg/sparse/_solve.py\", line 6, in <module>\n",
            "    from cupyx.scipy import sparse\n",
            "  File \"/usr/local/lib/python3.11/dist-packages/cupyx/scipy/__init__.py\", line 4, in <module>\n",
            "    from cupyx.scipy.sparse._base import spmatrix as _spmatrix\n",
            "  File \"/usr/local/lib/python3.11/dist-packages/cupyx/scipy/sparse/__init__.py\", line 6, in <module>\n",
            "    from cupyx.scipy.sparse._coo import coo_matrix  # NOQA\n",
            "  File \"/usr/local/lib/python3.11/dist-packages/cupyx/scipy/sparse/_coo.py\", line 11, in <module>\n",
            "    from cupyx.scipy.sparse import _csc\n",
            "  File \"/usr/local/lib/python3.11/dist-packages/cupyx/scipy/sparse/_csc.py\", line 2, in <module>\n",
            "    import scipy.sparse\n",
            "  File \"/usr/local/lib/python3.11/dist-packages/scipy/sparse/__init__.py\", line 267, in <module>\n",
            "    from ._csr import *\n",
            "  File \"/usr/local/lib/python3.11/dist-packages/scipy/sparse/_csr.py\", line 10, in <module>\n",
            "    from ._sparsetools import (csr_tocsc, csr_tobsr, csr_count_blocks,\n",
            "AttributeError: _ARRAY_API not found\n",
            "\n",
            "A module that was compiled using NumPy 1.x cannot be run in\n",
            "NumPy 2.2.6 as it may crash. To support both 1.x and 2.x\n",
            "versions of NumPy, modules must be compiled with NumPy 2.0.\n",
            "Some module may need to rebuild instead e.g. with 'pybind11>=2.12'.\n",
            "\n",
            "If you are a user of the module, the easiest solution will be to\n",
            "downgrade to 'numpy<2' or try to upgrade the affected module.\n",
            "We expect that some modules will need time to support NumPy 2.\n",
            "\n",
            "Traceback (most recent call last):  File \"<frozen runpy>\", line 189, in _run_module_as_main\n",
            "  File \"<frozen runpy>\", line 148, in _get_module_details\n",
            "  File \"<frozen runpy>\", line 112, in _get_module_details\n",
            "  File \"/usr/local/lib/python3.11/dist-packages/spacy/__init__.py\", line 6, in <module>\n",
            "    from .errors import setup_default_warnings\n",
            "  File \"/usr/local/lib/python3.11/dist-packages/spacy/errors.py\", line 3, in <module>\n",
            "    from .compat import Literal\n",
            "  File \"/usr/local/lib/python3.11/dist-packages/spacy/compat.py\", line 4, in <module>\n",
            "    from thinc.util import copy_array\n",
            "  File \"/usr/local/lib/python3.11/dist-packages/thinc/__init__.py\", line 5, in <module>\n",
            "    from .config import registry\n",
            "  File \"/usr/local/lib/python3.11/dist-packages/thinc/config.py\", line 2, in <module>\n",
            "    import confection\n",
            "  File \"/usr/local/lib/python3.11/dist-packages/confection/__init__.py\", line 35, in <module>\n",
            "    import srsly\n",
            "  File \"/usr/local/lib/python3.11/dist-packages/srsly/__init__.py\", line 5, in <module>\n",
            "    from ._msgpack_api import read_msgpack, write_msgpack, msgpack_dumps, msgpack_loads\n",
            "  File \"/usr/local/lib/python3.11/dist-packages/srsly/_msgpack_api.py\", line 3, in <module>\n",
            "    from . import msgpack\n",
            "  File \"/usr/local/lib/python3.11/dist-packages/srsly/msgpack/__init__.py\", line 18, in <module>\n",
            "    from ._msgpack_numpy import encode_numpy as _encode_numpy\n",
            "  File \"/usr/local/lib/python3.11/dist-packages/srsly/msgpack/_msgpack_numpy.py\", line 19, in <module>\n",
            "    import cupy\n",
            "  File \"/usr/local/lib/python3.11/dist-packages/cupy/__init__.py\", line 30, in <module>\n",
            "    import cupyx as _cupyx  # NOQA\n",
            "  File \"/usr/local/lib/python3.11/dist-packages/cupyx/__init__.py\", line 8, in <module>\n",
            "    from cupyx import linalg  # NOQA\n",
            "  File \"/usr/local/lib/python3.11/dist-packages/cupyx/linalg/__init__.py\", line 2, in <module>\n",
            "    from cupyx.linalg import sparse  # NOQA\n",
            "  File \"/usr/local/lib/python3.11/dist-packages/cupyx/linalg/sparse/__init__.py\", line 3, in <module>\n",
            "    from cupyx.linalg.sparse._solve import lschol  # NOQA\n",
            "  File \"/usr/local/lib/python3.11/dist-packages/cupyx/linalg/sparse/_solve.py\", line 6, in <module>\n",
            "    from cupyx.scipy import sparse\n",
            "  File \"/usr/local/lib/python3.11/dist-packages/cupyx/scipy/__init__.py\", line 4, in <module>\n",
            "    from cupyx.scipy.sparse._base import spmatrix as _spmatrix\n",
            "  File \"/usr/local/lib/python3.11/dist-packages/cupyx/scipy/sparse/__init__.py\", line 6, in <module>\n",
            "    from cupyx.scipy.sparse._coo import coo_matrix  # NOQA\n",
            "  File \"/usr/local/lib/python3.11/dist-packages/cupyx/scipy/sparse/_coo.py\", line 11, in <module>\n",
            "    from cupyx.scipy.sparse import _csc\n",
            "  File \"/usr/local/lib/python3.11/dist-packages/cupyx/scipy/sparse/_csc.py\", line 12, in <module>\n",
            "    from cupyx.scipy.sparse import _compressed\n",
            "  File \"/usr/local/lib/python3.11/dist-packages/cupyx/scipy/sparse/_compressed.py\", line 6, in <module>\n",
            "    import scipy.sparse\n",
            "  File \"/usr/local/lib/python3.11/dist-packages/scipy/sparse/__init__.py\", line 267, in <module>\n",
            "    from ._csr import *\n",
            "  File \"/usr/local/lib/python3.11/dist-packages/scipy/sparse/_csr.py\", line 10, in <module>\n",
            "    from ._sparsetools import (csr_tocsc, csr_tobsr, csr_count_blocks,\n",
            "AttributeError: _ARRAY_API not found\n",
            "\n",
            "A module that was compiled using NumPy 1.x cannot be run in\n",
            "NumPy 2.2.6 as it may crash. To support both 1.x and 2.x\n",
            "versions of NumPy, modules must be compiled with NumPy 2.0.\n",
            "Some module may need to rebuild instead e.g. with 'pybind11>=2.12'.\n",
            "\n",
            "If you are a user of the module, the easiest solution will be to\n",
            "downgrade to 'numpy<2' or try to upgrade the affected module.\n",
            "We expect that some modules will need time to support NumPy 2.\n",
            "\n",
            "Traceback (most recent call last):  File \"<frozen runpy>\", line 189, in _run_module_as_main\n",
            "  File \"<frozen runpy>\", line 148, in _get_module_details\n",
            "  File \"<frozen runpy>\", line 112, in _get_module_details\n",
            "  File \"/usr/local/lib/python3.11/dist-packages/spacy/__init__.py\", line 6, in <module>\n",
            "    from .errors import setup_default_warnings\n",
            "  File \"/usr/local/lib/python3.11/dist-packages/spacy/errors.py\", line 3, in <module>\n",
            "    from .compat import Literal\n",
            "  File \"/usr/local/lib/python3.11/dist-packages/spacy/compat.py\", line 4, in <module>\n",
            "    from thinc.util import copy_array\n",
            "  File \"/usr/local/lib/python3.11/dist-packages/thinc/__init__.py\", line 5, in <module>\n",
            "    from .config import registry\n",
            "  File \"/usr/local/lib/python3.11/dist-packages/thinc/config.py\", line 2, in <module>\n",
            "    import confection\n",
            "  File \"/usr/local/lib/python3.11/dist-packages/confection/__init__.py\", line 35, in <module>\n",
            "    import srsly\n",
            "  File \"/usr/local/lib/python3.11/dist-packages/srsly/__init__.py\", line 5, in <module>\n",
            "    from ._msgpack_api import read_msgpack, write_msgpack, msgpack_dumps, msgpack_loads\n",
            "  File \"/usr/local/lib/python3.11/dist-packages/srsly/_msgpack_api.py\", line 3, in <module>\n",
            "    from . import msgpack\n",
            "  File \"/usr/local/lib/python3.11/dist-packages/srsly/msgpack/__init__.py\", line 18, in <module>\n",
            "    from ._msgpack_numpy import encode_numpy as _encode_numpy\n",
            "  File \"/usr/local/lib/python3.11/dist-packages/srsly/msgpack/_msgpack_numpy.py\", line 19, in <module>\n",
            "    import cupy\n",
            "  File \"/usr/local/lib/python3.11/dist-packages/cupy/__init__.py\", line 30, in <module>\n",
            "    import cupyx as _cupyx  # NOQA\n",
            "  File \"/usr/local/lib/python3.11/dist-packages/cupyx/__init__.py\", line 8, in <module>\n",
            "    from cupyx import linalg  # NOQA\n",
            "  File \"/usr/local/lib/python3.11/dist-packages/cupyx/linalg/__init__.py\", line 2, in <module>\n",
            "    from cupyx.linalg import sparse  # NOQA\n",
            "  File \"/usr/local/lib/python3.11/dist-packages/cupyx/linalg/sparse/__init__.py\", line 3, in <module>\n",
            "    from cupyx.linalg.sparse._solve import lschol  # NOQA\n",
            "  File \"/usr/local/lib/python3.11/dist-packages/cupyx/linalg/sparse/_solve.py\", line 6, in <module>\n",
            "    from cupyx.scipy import sparse\n",
            "  File \"/usr/local/lib/python3.11/dist-packages/cupyx/scipy/__init__.py\", line 4, in <module>\n",
            "    from cupyx.scipy.sparse._base import spmatrix as _spmatrix\n",
            "  File \"/usr/local/lib/python3.11/dist-packages/cupyx/scipy/sparse/__init__.py\", line 6, in <module>\n",
            "    from cupyx.scipy.sparse._coo import coo_matrix  # NOQA\n",
            "  File \"/usr/local/lib/python3.11/dist-packages/cupyx/scipy/sparse/_coo.py\", line 11, in <module>\n",
            "    from cupyx.scipy.sparse import _csc\n",
            "  File \"/usr/local/lib/python3.11/dist-packages/cupyx/scipy/sparse/_csc.py\", line 12, in <module>\n",
            "    from cupyx.scipy.sparse import _compressed\n",
            "  File \"/usr/local/lib/python3.11/dist-packages/cupyx/scipy/sparse/_compressed.py\", line 23, in <module>\n",
            "    from cupyx.scipy.sparse import _index\n",
            "  File \"/usr/local/lib/python3.11/dist-packages/cupyx/scipy/sparse/_index.py\", line 16, in <module>\n",
            "    import scipy.sparse\n",
            "  File \"/usr/local/lib/python3.11/dist-packages/scipy/sparse/__init__.py\", line 267, in <module>\n",
            "    from ._csr import *\n",
            "  File \"/usr/local/lib/python3.11/dist-packages/scipy/sparse/_csr.py\", line 10, in <module>\n",
            "    from ._sparsetools import (csr_tocsc, csr_tobsr, csr_count_blocks,\n",
            "AttributeError: _ARRAY_API not found\n",
            "\n",
            "A module that was compiled using NumPy 1.x cannot be run in\n",
            "NumPy 2.2.6 as it may crash. To support both 1.x and 2.x\n",
            "versions of NumPy, modules must be compiled with NumPy 2.0.\n",
            "Some module may need to rebuild instead e.g. with 'pybind11>=2.12'.\n",
            "\n",
            "If you are a user of the module, the easiest solution will be to\n",
            "downgrade to 'numpy<2' or try to upgrade the affected module.\n",
            "We expect that some modules will need time to support NumPy 2.\n",
            "\n",
            "Traceback (most recent call last):  File \"<frozen runpy>\", line 189, in _run_module_as_main\n",
            "  File \"<frozen runpy>\", line 148, in _get_module_details\n",
            "  File \"<frozen runpy>\", line 112, in _get_module_details\n",
            "  File \"/usr/local/lib/python3.11/dist-packages/spacy/__init__.py\", line 6, in <module>\n",
            "    from .errors import setup_default_warnings\n",
            "  File \"/usr/local/lib/python3.11/dist-packages/spacy/errors.py\", line 3, in <module>\n",
            "    from .compat import Literal\n",
            "  File \"/usr/local/lib/python3.11/dist-packages/spacy/compat.py\", line 4, in <module>\n",
            "    from thinc.util import copy_array\n",
            "  File \"/usr/local/lib/python3.11/dist-packages/thinc/__init__.py\", line 5, in <module>\n",
            "    from .config import registry\n",
            "  File \"/usr/local/lib/python3.11/dist-packages/thinc/config.py\", line 2, in <module>\n",
            "    import confection\n",
            "  File \"/usr/local/lib/python3.11/dist-packages/confection/__init__.py\", line 35, in <module>\n",
            "    import srsly\n",
            "  File \"/usr/local/lib/python3.11/dist-packages/srsly/__init__.py\", line 5, in <module>\n",
            "    from ._msgpack_api import read_msgpack, write_msgpack, msgpack_dumps, msgpack_loads\n",
            "  File \"/usr/local/lib/python3.11/dist-packages/srsly/_msgpack_api.py\", line 3, in <module>\n",
            "    from . import msgpack\n",
            "  File \"/usr/local/lib/python3.11/dist-packages/srsly/msgpack/__init__.py\", line 18, in <module>\n",
            "    from ._msgpack_numpy import encode_numpy as _encode_numpy\n",
            "  File \"/usr/local/lib/python3.11/dist-packages/srsly/msgpack/_msgpack_numpy.py\", line 19, in <module>\n",
            "    import cupy\n",
            "  File \"/usr/local/lib/python3.11/dist-packages/cupy/__init__.py\", line 30, in <module>\n",
            "    import cupyx as _cupyx  # NOQA\n",
            "  File \"/usr/local/lib/python3.11/dist-packages/cupyx/__init__.py\", line 8, in <module>\n",
            "    from cupyx import linalg  # NOQA\n",
            "  File \"/usr/local/lib/python3.11/dist-packages/cupyx/linalg/__init__.py\", line 2, in <module>\n",
            "    from cupyx.linalg import sparse  # NOQA\n",
            "  File \"/usr/local/lib/python3.11/dist-packages/cupyx/linalg/sparse/__init__.py\", line 3, in <module>\n",
            "    from cupyx.linalg.sparse._solve import lschol  # NOQA\n",
            "  File \"/usr/local/lib/python3.11/dist-packages/cupyx/linalg/sparse/_solve.py\", line 6, in <module>\n",
            "    from cupyx.scipy import sparse\n",
            "  File \"/usr/local/lib/python3.11/dist-packages/cupyx/scipy/__init__.py\", line 4, in <module>\n",
            "    from cupyx.scipy.sparse._base import spmatrix as _spmatrix\n",
            "  File \"/usr/local/lib/python3.11/dist-packages/cupyx/scipy/sparse/__init__.py\", line 6, in <module>\n",
            "    from cupyx.scipy.sparse._coo import coo_matrix  # NOQA\n",
            "  File \"/usr/local/lib/python3.11/dist-packages/cupyx/scipy/sparse/_coo.py\", line 12, in <module>\n",
            "    from cupyx.scipy.sparse import _csr\n",
            "  File \"/usr/local/lib/python3.11/dist-packages/cupyx/scipy/sparse/_csr.py\", line 7, in <module>\n",
            "    import scipy.sparse\n",
            "  File \"/usr/local/lib/python3.11/dist-packages/scipy/sparse/__init__.py\", line 267, in <module>\n",
            "    from ._csr import *\n",
            "  File \"/usr/local/lib/python3.11/dist-packages/scipy/sparse/_csr.py\", line 10, in <module>\n",
            "    from ._sparsetools import (csr_tocsc, csr_tobsr, csr_count_blocks,\n",
            "AttributeError: _ARRAY_API not found\n",
            "\n",
            "A module that was compiled using NumPy 1.x cannot be run in\n",
            "NumPy 2.2.6 as it may crash. To support both 1.x and 2.x\n",
            "versions of NumPy, modules must be compiled with NumPy 2.0.\n",
            "Some module may need to rebuild instead e.g. with 'pybind11>=2.12'.\n",
            "\n",
            "If you are a user of the module, the easiest solution will be to\n",
            "downgrade to 'numpy<2' or try to upgrade the affected module.\n",
            "We expect that some modules will need time to support NumPy 2.\n",
            "\n",
            "Traceback (most recent call last):  File \"<frozen runpy>\", line 189, in _run_module_as_main\n",
            "  File \"<frozen runpy>\", line 148, in _get_module_details\n",
            "  File \"<frozen runpy>\", line 112, in _get_module_details\n",
            "  File \"/usr/local/lib/python3.11/dist-packages/spacy/__init__.py\", line 6, in <module>\n",
            "    from .errors import setup_default_warnings\n",
            "  File \"/usr/local/lib/python3.11/dist-packages/spacy/errors.py\", line 3, in <module>\n",
            "    from .compat import Literal\n",
            "  File \"/usr/local/lib/python3.11/dist-packages/spacy/compat.py\", line 4, in <module>\n",
            "    from thinc.util import copy_array\n",
            "  File \"/usr/local/lib/python3.11/dist-packages/thinc/__init__.py\", line 5, in <module>\n",
            "    from .config import registry\n",
            "  File \"/usr/local/lib/python3.11/dist-packages/thinc/config.py\", line 2, in <module>\n",
            "    import confection\n",
            "  File \"/usr/local/lib/python3.11/dist-packages/confection/__init__.py\", line 35, in <module>\n",
            "    import srsly\n",
            "  File \"/usr/local/lib/python3.11/dist-packages/srsly/__init__.py\", line 5, in <module>\n",
            "    from ._msgpack_api import read_msgpack, write_msgpack, msgpack_dumps, msgpack_loads\n",
            "  File \"/usr/local/lib/python3.11/dist-packages/srsly/_msgpack_api.py\", line 3, in <module>\n",
            "    from . import msgpack\n",
            "  File \"/usr/local/lib/python3.11/dist-packages/srsly/msgpack/__init__.py\", line 18, in <module>\n",
            "    from ._msgpack_numpy import encode_numpy as _encode_numpy\n",
            "  File \"/usr/local/lib/python3.11/dist-packages/srsly/msgpack/_msgpack_numpy.py\", line 19, in <module>\n",
            "    import cupy\n",
            "  File \"/usr/local/lib/python3.11/dist-packages/cupy/__init__.py\", line 30, in <module>\n",
            "    import cupyx as _cupyx  # NOQA\n",
            "  File \"/usr/local/lib/python3.11/dist-packages/cupyx/__init__.py\", line 8, in <module>\n",
            "    from cupyx import linalg  # NOQA\n",
            "  File \"/usr/local/lib/python3.11/dist-packages/cupyx/linalg/__init__.py\", line 2, in <module>\n",
            "    from cupyx.linalg import sparse  # NOQA\n",
            "  File \"/usr/local/lib/python3.11/dist-packages/cupyx/linalg/sparse/__init__.py\", line 3, in <module>\n",
            "    from cupyx.linalg.sparse._solve import lschol  # NOQA\n",
            "  File \"/usr/local/lib/python3.11/dist-packages/cupyx/linalg/sparse/_solve.py\", line 6, in <module>\n",
            "    from cupyx.scipy import sparse\n",
            "  File \"/usr/local/lib/python3.11/dist-packages/cupyx/scipy/__init__.py\", line 4, in <module>\n",
            "    from cupyx.scipy.sparse._base import spmatrix as _spmatrix\n",
            "  File \"/usr/local/lib/python3.11/dist-packages/cupyx/scipy/sparse/__init__.py\", line 12, in <module>\n",
            "    from cupyx.scipy.sparse._dia import dia_matrix  # NOQA\n",
            "  File \"/usr/local/lib/python3.11/dist-packages/cupyx/scipy/sparse/_dia.py\", line 2, in <module>\n",
            "    import scipy.sparse\n",
            "  File \"/usr/local/lib/python3.11/dist-packages/scipy/sparse/__init__.py\", line 267, in <module>\n",
            "    from ._csr import *\n",
            "  File \"/usr/local/lib/python3.11/dist-packages/scipy/sparse/_csr.py\", line 10, in <module>\n",
            "    from ._sparsetools import (csr_tocsc, csr_tobsr, csr_count_blocks,\n",
            "AttributeError: _ARRAY_API not found\n",
            "Traceback (most recent call last):\n",
            "  File \"<frozen runpy>\", line 189, in _run_module_as_main\n",
            "  File \"<frozen runpy>\", line 148, in _get_module_details\n",
            "  File \"<frozen runpy>\", line 112, in _get_module_details\n",
            "  File \"/usr/local/lib/python3.11/dist-packages/spacy/__init__.py\", line 6, in <module>\n",
            "    from .errors import setup_default_warnings\n",
            "  File \"/usr/local/lib/python3.11/dist-packages/spacy/errors.py\", line 3, in <module>\n",
            "    from .compat import Literal\n",
            "  File \"/usr/local/lib/python3.11/dist-packages/spacy/compat.py\", line 4, in <module>\n",
            "    from thinc.util import copy_array\n",
            "  File \"/usr/local/lib/python3.11/dist-packages/thinc/__init__.py\", line 5, in <module>\n",
            "    from .config import registry\n",
            "  File \"/usr/local/lib/python3.11/dist-packages/thinc/config.py\", line 2, in <module>\n",
            "    import confection\n",
            "  File \"/usr/local/lib/python3.11/dist-packages/confection/__init__.py\", line 35, in <module>\n",
            "    import srsly\n",
            "  File \"/usr/local/lib/python3.11/dist-packages/srsly/__init__.py\", line 5, in <module>\n",
            "    from ._msgpack_api import read_msgpack, write_msgpack, msgpack_dumps, msgpack_loads\n",
            "  File \"/usr/local/lib/python3.11/dist-packages/srsly/_msgpack_api.py\", line 3, in <module>\n",
            "    from . import msgpack\n",
            "  File \"/usr/local/lib/python3.11/dist-packages/srsly/msgpack/__init__.py\", line 18, in <module>\n",
            "    from ._msgpack_numpy import encode_numpy as _encode_numpy\n",
            "  File \"/usr/local/lib/python3.11/dist-packages/srsly/msgpack/_msgpack_numpy.py\", line 19, in <module>\n",
            "    import cupy\n",
            "  File \"/usr/local/lib/python3.11/dist-packages/cupy/__init__.py\", line 527, in <module>\n",
            "    from cupy.lib._polynomial import poly1d  # NOQA\n",
            "    ^^^^^^^^^^^^^^^^^^^^^^^^^^^^^^^^^^^^^^^\n",
            "  File \"cupy/lib/_polynomial.pyx\", line 8, in init cupy.lib._polynomial\n",
            "  File \"/usr/local/lib/python3.11/dist-packages/cupy/lib/_routines_poly.py\", line 8, in <module>\n",
            "    import cupyx.scipy.fft\n",
            "  File \"/usr/local/lib/python3.11/dist-packages/cupyx/scipy/fft/__init__.py\", line 2, in <module>\n",
            "    from cupyx.scipy.fft._fft import (\n",
            "  File \"/usr/local/lib/python3.11/dist-packages/cupyx/scipy/fft/_fft.py\", line 15, in <module>\n",
            "    import scipy.fft as _scipy_fft\n",
            "  File \"/usr/local/lib/python3.11/dist-packages/scipy/fft/__init__.py\", line 90, in <module>\n",
            "    from ._fftlog import fhtoffset\n",
            "  File \"/usr/local/lib/python3.11/dist-packages/scipy/fft/_fftlog.py\", line 11, in <module>\n",
            "    from ..special import loggamma, poch\n",
            "  File \"/usr/local/lib/python3.11/dist-packages/scipy/special/__init__.py\", line 663, in <module>\n",
            "    from . import _ufuncs\n",
            "  File \"scipy/special/_ufuncs.pyx\", line 1, in init scipy.special._ufuncs\n",
            "ValueError: numpy.dtype size changed, may indicate binary incompatibility. Expected 96 from C header, got 88 from PyObject\n",
            "Requirement already satisfied: scikit-learn in /usr/local/lib/python3.11/dist-packages (1.6.1)\n",
            "Requirement already satisfied: numpy>=1.19.5 in /usr/local/lib/python3.11/dist-packages (from scikit-learn) (2.2.6)\n",
            "Requirement already satisfied: scipy>=1.6.0 in /usr/local/lib/python3.11/dist-packages (from scikit-learn) (1.10.1)\n",
            "Requirement already satisfied: joblib>=1.2.0 in /usr/local/lib/python3.11/dist-packages (from scikit-learn) (1.5.0)\n",
            "Requirement already satisfied: threadpoolctl>=3.1.0 in /usr/local/lib/python3.11/dist-packages (from scikit-learn) (3.6.0)\n",
            "Collecting numpy>=1.19.5 (from scikit-learn)\n",
            "  Using cached numpy-1.26.4-cp311-cp311-manylinux_2_17_x86_64.manylinux2014_x86_64.whl.metadata (61 kB)\n",
            "Using cached numpy-1.26.4-cp311-cp311-manylinux_2_17_x86_64.manylinux2014_x86_64.whl (18.3 MB)\n",
            "Installing collected packages: numpy\n",
            "  Attempting uninstall: numpy\n",
            "    Found existing installation: numpy 2.2.6\n",
            "    Uninstalling numpy-2.2.6:\n",
            "      Successfully uninstalled numpy-2.2.6\n",
            "\u001b[31mERROR: pip's dependency resolver does not currently take into account all the packages that are installed. This behaviour is the source of the following dependency conflicts.\n",
            "jaxlib 0.5.1 requires scipy>=1.11.1, but you have scipy 1.10.1 which is incompatible.\n",
            "scikit-image 0.25.2 requires scipy>=1.11.4, but you have scipy 1.10.1 which is incompatible.\n",
            "jax 0.5.2 requires scipy>=1.11.1, but you have scipy 1.10.1 which is incompatible.\n",
            "tsfresh 0.21.0 requires scipy>=1.14.0; python_version >= \"3.10\", but you have scipy 1.10.1 which is incompatible.\n",
            "thinc 8.3.6 requires numpy<3.0.0,>=2.0.0, but you have numpy 1.26.4 which is incompatible.\n",
            "cvxpy 1.6.5 requires scipy>=1.11.0, but you have scipy 1.10.1 which is incompatible.\u001b[0m\u001b[31m\n",
            "\u001b[0mSuccessfully installed numpy-1.26.4\n"
          ]
        }
      ],
      "source": [
        "!pip install nltk\n",
        "!pip install spacy\n",
        "!python -m spacy download pt_core_news_sm\n",
        "!pip install scikit-learn"
      ]
    },
    {
      "cell_type": "code",
      "execution_count": 3,
      "id": "ae83b804",
      "metadata": {
        "id": "ae83b804",
        "colab": {
          "base_uri": "https://localhost:8080/"
        },
        "outputId": "5e1dfee7-123e-4516-a4f9-11252abb99a1"
      },
      "outputs": [
        {
          "output_type": "stream",
          "name": "stdout",
          "text": [
            "Requirement already satisfied: pandas in /usr/local/lib/python3.11/dist-packages (2.2.2)\n",
            "Requirement already satisfied: networkx in /usr/local/lib/python3.11/dist-packages (3.4.2)\n",
            "Requirement already satisfied: matplotlib in /usr/local/lib/python3.11/dist-packages (3.10.0)\n",
            "Requirement already satisfied: numpy>=1.23.2 in /usr/local/lib/python3.11/dist-packages (from pandas) (1.26.4)\n",
            "Requirement already satisfied: python-dateutil>=2.8.2 in /usr/local/lib/python3.11/dist-packages (from pandas) (2.9.0.post0)\n",
            "Requirement already satisfied: pytz>=2020.1 in /usr/local/lib/python3.11/dist-packages (from pandas) (2025.2)\n",
            "Requirement already satisfied: tzdata>=2022.7 in /usr/local/lib/python3.11/dist-packages (from pandas) (2025.2)\n",
            "Requirement already satisfied: contourpy>=1.0.1 in /usr/local/lib/python3.11/dist-packages (from matplotlib) (1.3.2)\n",
            "Requirement already satisfied: cycler>=0.10 in /usr/local/lib/python3.11/dist-packages (from matplotlib) (0.12.1)\n",
            "Requirement already satisfied: fonttools>=4.22.0 in /usr/local/lib/python3.11/dist-packages (from matplotlib) (4.58.0)\n",
            "Requirement already satisfied: kiwisolver>=1.3.1 in /usr/local/lib/python3.11/dist-packages (from matplotlib) (1.4.8)\n",
            "Requirement already satisfied: packaging>=20.0 in /usr/local/lib/python3.11/dist-packages (from matplotlib) (24.2)\n",
            "Requirement already satisfied: pillow>=8 in /usr/local/lib/python3.11/dist-packages (from matplotlib) (11.2.1)\n",
            "Requirement already satisfied: pyparsing>=2.3.1 in /usr/local/lib/python3.11/dist-packages (from matplotlib) (3.2.3)\n",
            "Requirement already satisfied: six>=1.5 in /usr/local/lib/python3.11/dist-packages (from python-dateutil>=2.8.2->pandas) (1.17.0)\n"
          ]
        }
      ],
      "source": [
        "!pip install pandas networkx matplotlib"
      ]
    },
    {
      "cell_type": "code",
      "execution_count": 4,
      "id": "CF-nWCEMeeMw",
      "metadata": {
        "id": "CF-nWCEMeeMw",
        "colab": {
          "base_uri": "https://localhost:8080/"
        },
        "outputId": "0aff7f12-9b11-4f2c-91c7-bf5bdb780c8d"
      },
      "outputs": [
        {
          "output_type": "stream",
          "name": "stdout",
          "text": [
            "Requirement already satisfied: pyLDAvis in /usr/local/lib/python3.11/dist-packages (3.4.1)\n",
            "Requirement already satisfied: numpy>=1.24.2 in /usr/local/lib/python3.11/dist-packages (from pyLDAvis) (1.26.4)\n",
            "Requirement already satisfied: scipy in /usr/local/lib/python3.11/dist-packages (from pyLDAvis) (1.10.1)\n",
            "Requirement already satisfied: pandas>=2.0.0 in /usr/local/lib/python3.11/dist-packages (from pyLDAvis) (2.2.2)\n",
            "Requirement already satisfied: joblib>=1.2.0 in /usr/local/lib/python3.11/dist-packages (from pyLDAvis) (1.5.0)\n",
            "Requirement already satisfied: jinja2 in /usr/local/lib/python3.11/dist-packages (from pyLDAvis) (3.1.6)\n",
            "Requirement already satisfied: numexpr in /usr/local/lib/python3.11/dist-packages (from pyLDAvis) (2.10.2)\n",
            "Requirement already satisfied: funcy in /usr/local/lib/python3.11/dist-packages (from pyLDAvis) (2.0)\n",
            "Requirement already satisfied: scikit-learn>=1.0.0 in /usr/local/lib/python3.11/dist-packages (from pyLDAvis) (1.6.1)\n",
            "Requirement already satisfied: gensim in /usr/local/lib/python3.11/dist-packages (from pyLDAvis) (4.3.3)\n",
            "Requirement already satisfied: setuptools in /usr/local/lib/python3.11/dist-packages (from pyLDAvis) (75.2.0)\n",
            "Requirement already satisfied: python-dateutil>=2.8.2 in /usr/local/lib/python3.11/dist-packages (from pandas>=2.0.0->pyLDAvis) (2.9.0.post0)\n",
            "Requirement already satisfied: pytz>=2020.1 in /usr/local/lib/python3.11/dist-packages (from pandas>=2.0.0->pyLDAvis) (2025.2)\n",
            "Requirement already satisfied: tzdata>=2022.7 in /usr/local/lib/python3.11/dist-packages (from pandas>=2.0.0->pyLDAvis) (2025.2)\n",
            "Requirement already satisfied: threadpoolctl>=3.1.0 in /usr/local/lib/python3.11/dist-packages (from scikit-learn>=1.0.0->pyLDAvis) (3.6.0)\n",
            "Requirement already satisfied: smart-open>=1.8.1 in /usr/local/lib/python3.11/dist-packages (from gensim->pyLDAvis) (7.1.0)\n",
            "Requirement already satisfied: MarkupSafe>=2.0 in /usr/local/lib/python3.11/dist-packages (from jinja2->pyLDAvis) (3.0.2)\n",
            "Requirement already satisfied: six>=1.5 in /usr/local/lib/python3.11/dist-packages (from python-dateutil>=2.8.2->pandas>=2.0.0->pyLDAvis) (1.17.0)\n",
            "Requirement already satisfied: wrapt in /usr/local/lib/python3.11/dist-packages (from smart-open>=1.8.1->gensim->pyLDAvis) (1.17.2)\n"
          ]
        }
      ],
      "source": [
        "!pip install pyLDAvis"
      ]
    },
    {
      "cell_type": "code",
      "execution_count": 5,
      "id": "7T-1EVrLcz1-",
      "metadata": {
        "colab": {
          "base_uri": "https://localhost:8080/"
        },
        "id": "7T-1EVrLcz1-",
        "outputId": "ca1a4894-e3a2-4e00-f167-abca8da964bd"
      },
      "outputs": [
        {
          "output_type": "stream",
          "name": "stdout",
          "text": [
            "Reading package lists... Done\n",
            "Building dependency tree... Done\n",
            "Reading state information... Done\n",
            "graphviz is already the newest version (2.42.2-6ubuntu0.1).\n",
            "libgraphviz-dev is already the newest version (2.42.2-6ubuntu0.1).\n",
            "0 upgraded, 0 newly installed, 0 to remove and 35 not upgraded.\n",
            "Requirement already satisfied: pygraphviz in /usr/local/lib/python3.11/dist-packages (1.14)\n"
          ]
        }
      ],
      "source": [
        "# Instalar o Graphviz e PyGraphviz\n",
        "!apt-get install -y graphviz libgraphviz-dev\n",
        "!pip install pygraphviz"
      ]
    },
    {
      "cell_type": "code",
      "execution_count": 6,
      "id": "524fdee2",
      "metadata": {
        "id": "524fdee2"
      },
      "outputs": [],
      "source": [
        "import numpy as np\n",
        "import networkx as nx"
      ]
    },
    {
      "cell_type": "markdown",
      "id": "388376fb",
      "metadata": {
        "id": "388376fb"
      },
      "source": [
        "# **Questões:**"
      ]
    },
    {
      "cell_type": "markdown",
      "id": "1e9ddbda",
      "metadata": {
        "id": "1e9ddbda"
      },
      "source": [
        "## 1. Considerando o grafo abaixo:"
      ]
    },
    {
      "cell_type": "code",
      "execution_count": 7,
      "id": "4648fe31",
      "metadata": {
        "id": "4648fe31"
      },
      "outputs": [],
      "source": [
        "# graph\n",
        "g = {'S': {('A',7),('B',2),('C',3)},\n",
        "    'A': {('B',3),('D',4),('S',7)},\n",
        "    'B': {('A',3),('D',4),('H',1),('S',2)},\n",
        "    'C': {('L',2),('S',3)},\n",
        "    'D': {('A',4),('B',4),('F',5)},\n",
        "    'E': {('K',5),('G',2)},\n",
        "    'F': {('D',5),('H',4)},\n",
        "    'G': {('H',2),('E',2)},\n",
        "    'H': {('B',1),('F',4),('G',2)},\n",
        "    'I':{('L',4),('J',6),('K',4)},\n",
        "    'J':{('L',4),('I',6),('K',4)},\n",
        "    'K':{('I',4),('J',4),('E',5)},\n",
        "    'L':{('C',2),('J',4),('I',4)}\n",
        "}"
      ]
    },
    {
      "cell_type": "code",
      "execution_count": 24,
      "id": "19cdbc49",
      "metadata": {
        "id": "19cdbc49",
        "colab": {
          "base_uri": "https://localhost:8080/",
          "height": 516
        },
        "outputId": "0a8db88a-5c6c-4dd7-b761-8ccc45bc9d5b"
      },
      "outputs": [
        {
          "output_type": "display_data",
          "data": {
            "text/plain": [
              "<Figure size 640x480 with 1 Axes>"
            ],
            "image/png": "[encoded data removed]"
          },
          "metadata": {}
        }
      ],
      "source": [
        "import matplotlib.pyplot as plt\n",
        "\n",
        "def show_weighted_graph(graph):\n",
        "    \"\"\"\n",
        "    Function to visualize the graph using NetworkX and Matplotlib.\n",
        "    Enters a graph represented as an adjacency list and displays it.\n",
        "    The graph is displayed with nodes, edges, and weights.\n",
        "\n",
        "    Expected format for the graph:\n",
        "    {\n",
        "        'Node1': {('Node2', weight), ('Node3', weight)},\n",
        "        'Node2': {('Node1', weight), ('Node4', weight)},\n",
        "        ...\n",
        "        'NodeN': {('NodeM', weight), ...}\n",
        "    }\n",
        "\n",
        "        Args:\n",
        "            graph (dict): The graph represented as an adjacency list.\n",
        "    \"\"\"\n",
        "\n",
        "    G = nx.Graph()\n",
        "    for node, edges in graph.items():\n",
        "        for edge in edges:\n",
        "            G.add_edge(node, edge[0], weight=edge[1])\n",
        "    pos = nx.spring_layout(G)\n",
        "    nx.draw(G, pos, with_labels=True, node_color='lightblue', node_size=300, font_size=10)\n",
        "    labels = nx.get_edge_attributes(G, 'weight')\n",
        "    nx.draw_networkx_edge_labels(G, pos, edge_labels=labels)\n",
        "\n",
        "    plt.show()\n",
        "\n",
        "show_weighted_graph(g)"
      ]
    },
    {
      "cell_type": "markdown",
      "id": "b7f2740d",
      "metadata": {
        "id": "b7f2740d"
      },
      "source": [
        "## 1.2. Qual ou quais dos algoritmos abaixo eu poderia utilizar para encontrar o caminho com menor custo no grafo acima?\n",
        "\n",
        "- a) [ ] Breadth-First Search (BFS)\n",
        "- b) [ ] Depth-First Search (DFS)\n",
        "- c) [ ] Dijkstra\n",
        "- d) [ ] Minimax"
      ]
    },
    {
      "cell_type": "code",
      "execution_count": 9,
      "id": "3dc8587a",
      "metadata": {
        "id": "3dc8587a"
      },
      "outputs": [],
      "source": [
        "# sua resposta\n",
        "A opção C"
      ]
    },
    {
      "cell_type": "markdown",
      "id": "8d7d399a",
      "metadata": {
        "id": "8d7d399a"
      },
      "source": [
        "## 1.3. Explique sua escolha(s) na questão anterior:"
      ]
    },
    {
      "cell_type": "code",
      "execution_count": 10,
      "id": "51ae66c3",
      "metadata": {
        "id": "51ae66c3"
      },
      "outputs": [],
      "source": [
        "O Dijkstra é um algoritmo para encontrar o caminho com menor custo num grafo ponderado, desde que os pesos sejam positivos."
      ]
    },
    {
      "cell_type": "markdown",
      "id": "ac169bb6",
      "metadata": {
        "id": "ac169bb6"
      },
      "source": [
        "## 1.4. Partindo do nó inicial \"S\" (`start_node = 'S'`) e tendo como objetivo chegar ao nó \"E\" (`goal_node = 'E'`), qual o caminho e menor custo possível?"
      ]
    },
    {
      "cell_type": "code",
      "execution_count": 11,
      "id": "6187e56b",
      "metadata": {
        "id": "6187e56b"
      },
      "outputs": [],
      "source": [
        "# start node\n",
        "start_node = 'S'\n",
        "\n",
        "# goal node\n",
        "goal_node = 'E'"
      ]
    },
    {
      "cell_type": "code",
      "execution_count": 25,
      "id": "1c6e287c",
      "metadata": {
        "id": "1c6e287c",
        "colab": {
          "base_uri": "https://localhost:8080/"
        },
        "outputId": "ebfb4486-9509-4e61-dae9-9a939d688599"
      },
      "outputs": [
        {
          "output_type": "stream",
          "name": "stdout",
          "text": [
            "Caminho mais curto de 'S' até 'E': ['S', 'B', 'H', 'G', 'E']\n",
            "Custo total: 7\n"
          ]
        }
      ],
      "source": [
        "# sua resposta\n",
        "import networkx as nx\n",
        "\n",
        "\n",
        "G = nx.Graph()\n",
        "\n",
        "for origem, destinos in g.items():\n",
        "    for destino, peso in destinos:\n",
        "        G.add_edge(origem, destino, weight=peso)\n",
        "\n",
        "caminho_mais_curto = nx.dijkstra_path(G, start_node, goal_node)\n",
        "custo_total = nx.dijkstra_path_length(G, start_node, goal_node)\n",
        "\n",
        "# Exibir os resultados\n",
        "print(f\"Caminho mais curto de '{start_node}' até '{goal_node}': {caminho_mais_curto}\")\n",
        "print(f\"Custo total: {custo_total}\")\n"
      ]
    },
    {
      "cell_type": "markdown",
      "id": "4cebd20f",
      "metadata": {
        "id": "4cebd20f"
      },
      "source": [
        "## 2. Considerando o grafo abaixo, escolha um dos algoritmos da lista abaixo e encontre o nó desejado:\n",
        "\n",
        "- Breadth-First Search (BFS)\n",
        "- Depth-First Search (DFS)\n",
        "- Dijkstra\n",
        "- Minimax\n",
        "\n",
        "**A solução deve conter o caminho utilizado**\n",
        "- Exemplo:\n",
        "    - para `nó inicial A` e `nó objetivo H`:\n",
        "    - Caminho: ACDBFGDGH\n",
        "\n"
      ]
    },
    {
      "cell_type": "code",
      "execution_count": 28,
      "id": "0aef78e4",
      "metadata": {
        "id": "0aef78e4"
      },
      "outputs": [],
      "source": [
        "grafo = {\n",
        "    'A': {'B': 1, 'C': 1},\n",
        "    'B': {'A': 1, 'D': 1, 'E': 1},\n",
        "    'C': {'A': 1, 'F': 1, 'G': 1},\n",
        "    'D': {'B': 1},\n",
        "    'E': {'B': 1, 'H': 1},\n",
        "    'F': {'C': 1},\n",
        "    'G': {'C': 1, 'H': 1},\n",
        "    'H': {'E': 1, 'G': 1}\n",
        "}\n"
      ]
    },
    {
      "cell_type": "markdown",
      "source": [],
      "metadata": {
        "id": "uw-8NQeZqrp2"
      },
      "id": "uw-8NQeZqrp2"
    },
    {
      "cell_type": "markdown",
      "id": "11b47454",
      "metadata": {
        "id": "11b47454"
      },
      "source": [
        "**A funçao abaixo pode auxiliar na visualização de seu grafo...**"
      ]
    },
    {
      "cell_type": "code",
      "execution_count": 40,
      "id": "5eef3e48",
      "metadata": {
        "id": "5eef3e48"
      },
      "outputs": [],
      "source": [
        "def show_graph(graph):\n",
        "    \"\"\"\n",
        "    Function to visualize the graph using NetworkX and Matplotlib.\n",
        "    Enters a graph represented as an adjacency list and displays it.\n",
        "    The graph is displayed with nodes and edges.\n",
        "\n",
        "    Args:\n",
        "        graph (dict): The graph represented as an adjacency list.\n",
        "    \"\"\"\n",
        "    G = nx.Graph(graph)\n",
        "    pos = nx.spring_layout(G)\n",
        "    nx.draw(G, pos, with_labels=True, node_color='lightblue', node_size=300, font_size=10)\n",
        "    plt.show()\n"
      ]
    },
    {
      "cell_type": "markdown",
      "id": "5ff11b2d",
      "metadata": {
        "id": "5ff11b2d"
      },
      "source": [
        "## 2.1. `Nó inicial A` e `nó objetivo H`"
      ]
    },
    {
      "cell_type": "code",
      "execution_count": 39,
      "id": "1a406c98",
      "metadata": {
        "id": "1a406c98",
        "colab": {
          "base_uri": "https://localhost:8080/"
        },
        "outputId": "e7df03ef-394d-4d92-c3dd-c1b72b4cfb43"
      },
      "outputs": [
        {
          "output_type": "stream",
          "name": "stdout",
          "text": [
            "Caminho encontrado de 'A' até 'H' usando DFS: A -> C -> F -> I -> K -> L -> J -> H\n",
            "Ordem completa de visitação: A, C, F, I, K, L, J, H, E, B, D, G\n"
          ]
        }
      ],
      "source": [
        "def dfs_completo(grafo, inicio, objetivo):\n",
        "    pilha = [(inicio, [inicio])]\n",
        "    visitados = []\n",
        "    caminho_ate_objetivo = None\n",
        "\n",
        "    while pilha:\n",
        "        (no_atual, caminho) = pilha.pop()\n",
        "        if no_atual not in visitados:\n",
        "            visitados.append(no_atual)\n",
        "            if no_atual == objetivo and caminho_ate_objetivo is None:\n",
        "                caminho_ate_objetivo = caminho\n",
        "            for vizinho in grafo[no_atual]:\n",
        "                if vizinho not in visitados:\n",
        "                    pilha.append((vizinho, caminho + [vizinho]))\n",
        "\n",
        "    return caminho_ate_objetivo, visitados\n",
        "\n",
        "# Definir início e objetivo\n",
        "start_node = 'A'\n",
        "goal_node = 'H'\n",
        "\n",
        "# Executar DFS\n",
        "caminho_encontrado, ordem_visita = dfs_completo(grafo, start_node, goal_node)\n",
        "\n",
        "# Exibir o resultado\n",
        "print(f\"Caminho encontrado de '{start_node}' até '{goal_node}' usando DFS: {' -> '.join(caminho_encontrado)}\")\n",
        "print(f\"Ordem completa de visitação: {', '.join(ordem_visita)}\")"
      ]
    },
    {
      "cell_type": "markdown",
      "id": "J_DwFNY3u4wx",
      "metadata": {
        "id": "J_DwFNY3u4wx"
      },
      "source": [
        "## 2.2. `Nó inicial A` e `nó objetivo F`"
      ]
    },
    {
      "cell_type": "code",
      "execution_count": 16,
      "id": "_AGYd6nXu4SZ",
      "metadata": {
        "id": "_AGYd6nXu4SZ"
      },
      "outputs": [],
      "source": [
        "# sua resposta"
      ]
    },
    {
      "cell_type": "markdown",
      "id": "6b6cee97",
      "metadata": {
        "id": "6b6cee97"
      },
      "source": [
        "## 2.3. Qual estrutura de dados o algoritmo que você escolheu tipicamente usa?\n",
        "\n",
        "- a) [ ] Queue\n",
        "- b) [ ] Heap\n",
        "- c) [ ] Stack\n",
        "- d) [ ] Nenhuma das anteriores\n",
        "- e) [ ] Todas as anteriores"
      ]
    },
    {
      "cell_type": "markdown",
      "id": "62cc4a25",
      "metadata": {
        "id": "62cc4a25"
      },
      "source": [
        "## 2.4. Quando usamos o algoritmo de busca em profundidade (DFS), uma vez que tenhamos percorrido todo um caminho na árvore (galho) e não encontramos o nó desejado, o que acontece?"
      ]
    },
    {
      "cell_type": "code",
      "execution_count": 17,
      "id": "9fc567a1",
      "metadata": {
        "id": "9fc567a1"
      },
      "outputs": [],
      "source": [
        "# sua resposta"
      ]
    },
    {
      "cell_type": "markdown",
      "id": "8edc7b9d",
      "metadata": {
        "id": "8edc7b9d"
      },
      "source": [
        "## 2.5. Qual algoritmo de busca da lista abaixo garante que se encontra o menor caminho?\n",
        "\n",
        "- a) [ ] Breadth-First Search (BFS)\n",
        "- b) [ ] Depth-First Search (DFS)"
      ]
    },
    {
      "cell_type": "code",
      "execution_count": 18,
      "id": "aaa6e628",
      "metadata": {
        "id": "aaa6e628"
      },
      "outputs": [],
      "source": [
        "# sua resposta"
      ]
    },
    {
      "cell_type": "markdown",
      "id": "Y8rG5Lah5Bvj",
      "metadata": {
        "id": "Y8rG5Lah5Bvj"
      },
      "source": [
        "# 3. Considerando que o grafo abaixo representa os estados possíveis após turnos alternados entre o Jogador 1 (Player 1 - P1) e o Jogador 2 (Player 2 - P2):"
      ]
    },
    {
      "cell_type": "code",
      "execution_count": 19,
      "id": "h5W5zsEzDK8L",
      "metadata": {
        "id": "h5W5zsEzDK8L",
        "colab": {
          "base_uri": "https://localhost:8080/",
          "height": 685
        },
        "outputId": "dd4a9899-c328-4b22-e1e1-6262526278b1"
      },
      "outputs": [
        {
          "output_type": "display_data",
          "data": {
            "text/plain": [
              "<Figure size 1200x800 with 1 Axes>"
            ],
            "image/png": "[encoded data removed]"
          },
          "metadata": {}
        }
      ],
      "source": [
        "import networkx as nx\n",
        "import matplotlib.pyplot as plt\n",
        "from networkx.drawing.nx_agraph import graphviz_layout\n",
        "\n",
        "edges = [\n",
        "    (0, 1), (0, 2),\n",
        "    (1, 3), (1, 4),\n",
        "    (2, 5), (2, 6),\n",
        "    (3, 7), (3, 8),\n",
        "    (4, 9), (4, 10),\n",
        "    (5, 11), (5, 12),\n",
        "    (6, 13), (6, 14),\n",
        "]\n",
        "\n",
        "# scores das folhas\n",
        "values = {\n",
        "    7: 0, 8: 4, 9: 4, 10: -8, 11: 7, 12: -4, 13: -10, 14: 5\n",
        "}\n",
        "\n",
        "# adicionando labels A (0) até O (14)\n",
        "labels = {i: chr(65 + i) for i in range(15)}\n",
        "\n",
        "# criar grafo\n",
        "G = nx.DiGraph()\n",
        "G.add_edges_from(edges)\n",
        "\n",
        "# atribuir valores\n",
        "for node in G.nodes:\n",
        "    G.nodes[node][\"value\"] = values.get(node, None)\n",
        "\n",
        "leaf_nodes = [n for n in G.nodes if G.out_degree(n) == 0]\n",
        "\n",
        "# adicionando cores condicionais\n",
        "colors = []\n",
        "for n in G.nodes:\n",
        "    if n in leaf_nodes:\n",
        "        val = G.nodes[n][\"value\"]\n",
        "        if val is not None and val >= 0:\n",
        "            colors.append('lightgreen')\n",
        "        elif val is not None and val < 0:\n",
        "            colors.append('salmon')\n",
        "        else:\n",
        "            colors.append('lightgray')\n",
        "    else:\n",
        "        colors.append('lightblue')\n",
        "\n",
        "# labels com score nas folhas\n",
        "display_labels = {}\n",
        "for n in G.nodes:\n",
        "    if n in leaf_nodes and G.nodes[n][\"value\"] is not None:\n",
        "        display_labels[n] = f\"{labels[n]}\\n{G.nodes[n]['value']}\"\n",
        "    else:\n",
        "        display_labels[n] = labels[n]\n",
        "\n",
        "# layout top-down da árvore\n",
        "pos = graphviz_layout(G, prog=\"dot\")\n",
        "\n",
        "# plot\n",
        "plt.figure(figsize=(12, 8))\n",
        "nx.draw(G, pos,\n",
        "        with_labels=True,\n",
        "        labels=display_labels,\n",
        "        node_color=colors,\n",
        "        node_size=1600,\n",
        "        font_weight=\"bold\",\n",
        "        font_size=10,\n",
        "        arrows=True)\n",
        "\n",
        "plt.title(\"Scores: Verde (positivo) / Vermelho (negativo)\", fontsize=14)\n",
        "plt.axis(\"off\")\n",
        "plt.show()\n"
      ]
    },
    {
      "cell_type": "markdown",
      "id": "_GA1gxDQA-_i",
      "metadata": {
        "id": "_GA1gxDQA-_i"
      },
      "source": [
        "## 3.1. Implemente o Minimax (Busca Adversarial) e responda qual o melhor score possível para o Jogador 1 considerando que este é o primeiro a jogar."
      ]
    },
    {
      "cell_type": "code",
      "execution_count": 20,
      "id": "-WkLEHYqFLOx",
      "metadata": {
        "id": "-WkLEHYqFLOx"
      },
      "outputs": [],
      "source": [
        "# sua resposta"
      ]
    },
    {
      "cell_type": "markdown",
      "id": "86pxwufev3Mi",
      "metadata": {
        "id": "86pxwufev3Mi"
      },
      "source": [
        "# 4. Considerando o dataset fornecido:"
      ]
    },
    {
      "cell_type": "code",
      "execution_count": 21,
      "id": "7fad05e1",
      "metadata": {
        "colab": {
          "base_uri": "https://localhost:8080/",
          "height": 558
        },
        "id": "7fad05e1",
        "outputId": "02dae90b-3706-46ac-df4f-94850d2a4ac5"
      },
      "outputs": [
        {
          "output_type": "stream",
          "name": "stdout",
          "text": [
            "Collecting numpy==1.24.4\n",
            "  Using cached numpy-1.24.4-cp311-cp311-manylinux_2_17_x86_64.manylinux2014_x86_64.whl.metadata (5.6 kB)\n",
            "Requirement already satisfied: scipy==1.10.1 in /usr/local/lib/python3.11/dist-packages (1.10.1)\n",
            "Using cached numpy-1.24.4-cp311-cp311-manylinux_2_17_x86_64.manylinux2014_x86_64.whl (17.3 MB)\n",
            "Installing collected packages: numpy\n",
            "  Attempting uninstall: numpy\n",
            "    Found existing installation: numpy 1.26.4\n",
            "    Uninstalling numpy-1.26.4:\n",
            "      Successfully uninstalled numpy-1.26.4\n",
            "\u001b[31mERROR: pip's dependency resolver does not currently take into account all the packages that are installed. This behaviour is the source of the following dependency conflicts.\n",
            "jaxlib 0.5.1 requires numpy>=1.25, but you have numpy 1.24.4 which is incompatible.\n",
            "jaxlib 0.5.1 requires scipy>=1.11.1, but you have scipy 1.10.1 which is incompatible.\n",
            "pymc 5.22.0 requires numpy>=1.25.0, but you have numpy 1.24.4 which is incompatible.\n",
            "blosc2 3.3.3 requires numpy>=1.26, but you have numpy 1.24.4 which is incompatible.\n",
            "scikit-image 0.25.2 requires scipy>=1.11.4, but you have scipy 1.10.1 which is incompatible.\n",
            "jax 0.5.2 requires numpy>=1.25, but you have numpy 1.24.4 which is incompatible.\n",
            "jax 0.5.2 requires scipy>=1.11.1, but you have scipy 1.10.1 which is incompatible.\n",
            "tensorflow 2.18.0 requires numpy<2.1.0,>=1.26.0, but you have numpy 1.24.4 which is incompatible.\n",
            "tsfresh 0.21.0 requires scipy>=1.14.0; python_version >= \"3.10\", but you have scipy 1.10.1 which is incompatible.\n",
            "thinc 8.3.6 requires numpy<3.0.0,>=2.0.0, but you have numpy 1.24.4 which is incompatible.\n",
            "cvxpy 1.6.5 requires scipy>=1.11.0, but you have scipy 1.10.1 which is incompatible.\n",
            "treescope 0.1.9 requires numpy>=1.25.2, but you have numpy 1.24.4 which is incompatible.\u001b[0m\u001b[31m\n",
            "\u001b[0mSuccessfully installed numpy-1.24.4\n"
          ]
        },
        {
          "output_type": "display_data",
          "data": {
            "application/vnd.colab-display-data+json": {
              "pip_warning": {
                "packages": [
                  "numpy"
                ]
              },
              "id": "b8498998180b470a9852a930b9cfc89c"
            }
          },
          "metadata": {}
        }
      ],
      "source": [
        "!pip install numpy==1.24.4 scipy==1.10.1"
      ]
    },
    {
      "cell_type": "code",
      "execution_count": 22,
      "id": "eFSuKxdbPNeM",
      "metadata": {
        "id": "eFSuKxdbPNeM",
        "colab": {
          "base_uri": "https://localhost:8080/"
        },
        "outputId": "1710e3fa-bdc5-4bb3-ab96-6241700002e9"
      },
      "outputs": [
        {
          "output_type": "stream",
          "name": "stderr",
          "text": [
            "[nltk_data] Downloading package stopwords to /root/nltk_data...\n",
            "[nltk_data]   Unzipping corpora/stopwords.zip.\n"
          ]
        }
      ],
      "source": [
        "import nltk\n",
        "from nltk.corpus import stopwords\n",
        "nltk.download('stopwords')\n",
        "stop = list(set(stopwords.words('portuguese')))\n",
        "import gensim\n",
        "import gensim.corpora as corpora\n",
        "from gensim.models.ldamodel import LdaModel"
      ]
    },
    {
      "cell_type": "code",
      "execution_count": 23,
      "id": "9_pTeG7cRbyg",
      "metadata": {
        "colab": {
          "base_uri": "https://localhost:8080/",
          "height": 390
        },
        "id": "9_pTeG7cRbyg",
        "outputId": "1451e2ee-7c2a-40bd-a77e-3b261262934d"
      },
      "outputs": [
        {
          "output_type": "error",
          "ename": "FileNotFoundError",
          "evalue": "[Errno 2] No such file or directory: 'sinopsys_train.csv'",
          "traceback": [
            "\u001b[0;31m---------------------------------------------------------------------------\u001b[0m",
            "\u001b[0;31mFileNotFoundError\u001b[0m                         Traceback (most recent call last)",
            "\u001b[0;32m<ipython-input-23-2a746594e53e>\u001b[0m in \u001b[0;36m<cell line: 0>\u001b[0;34m()\u001b[0m\n\u001b[1;32m      1\u001b[0m \u001b[0;32mimport\u001b[0m \u001b[0mpandas\u001b[0m \u001b[0;32mas\u001b[0m \u001b[0mpd\u001b[0m\u001b[0;34m\u001b[0m\u001b[0;34m\u001b[0m\u001b[0m\n\u001b[1;32m      2\u001b[0m \u001b[0;34m\u001b[0m\u001b[0m\n\u001b[0;32m----> 3\u001b[0;31m \u001b[0mdf_train\u001b[0m \u001b[0;34m=\u001b[0m \u001b[0mpd\u001b[0m\u001b[0;34m.\u001b[0m\u001b[0mread_csv\u001b[0m\u001b[0;34m(\u001b[0m\u001b[0;34m\"sinopsys_train.csv\"\u001b[0m\u001b[0;34m)\u001b[0m\u001b[0;34m\u001b[0m\u001b[0;34m\u001b[0m\u001b[0m\n\u001b[0m\u001b[1;32m      4\u001b[0m \u001b[0mdf_test\u001b[0m \u001b[0;34m=\u001b[0m \u001b[0mpd\u001b[0m\u001b[0;34m.\u001b[0m\u001b[0mread_csv\u001b[0m\u001b[0;34m(\u001b[0m\u001b[0;34m\"sinopsys_test.csv\"\u001b[0m\u001b[0;34m)\u001b[0m\u001b[0;34m\u001b[0m\u001b[0;34m\u001b[0m\u001b[0m\n\u001b[1;32m      5\u001b[0m \u001b[0;34m\u001b[0m\u001b[0m\n",
            "\u001b[0;32m/usr/local/lib/python3.11/dist-packages/pandas/io/parsers/readers.py\u001b[0m in \u001b[0;36mread_csv\u001b[0;34m(filepath_or_buffer, sep, delimiter, header, names, index_col, usecols, dtype, engine, converters, true_values, false_values, skipinitialspace, skiprows, skipfooter, nrows, na_values, keep_default_na, na_filter, verbose, skip_blank_lines, parse_dates, infer_datetime_format, keep_date_col, date_parser, date_format, dayfirst, cache_dates, iterator, chunksize, compression, thousands, decimal, lineterminator, quotechar, quoting, doublequote, escapechar, comment, encoding, encoding_errors, dialect, on_bad_lines, delim_whitespace, low_memory, memory_map, float_precision, storage_options, dtype_backend)\u001b[0m\n\u001b[1;32m   1024\u001b[0m     \u001b[0mkwds\u001b[0m\u001b[0;34m.\u001b[0m\u001b[0mupdate\u001b[0m\u001b[0;34m(\u001b[0m\u001b[0mkwds_defaults\u001b[0m\u001b[0;34m)\u001b[0m\u001b[0;34m\u001b[0m\u001b[0;34m\u001b[0m\u001b[0m\n\u001b[1;32m   1025\u001b[0m \u001b[0;34m\u001b[0m\u001b[0m\n\u001b[0;32m-> 1026\u001b[0;31m     \u001b[0;32mreturn\u001b[0m \u001b[0m_read\u001b[0m\u001b[0;34m(\u001b[0m\u001b[0mfilepath_or_buffer\u001b[0m\u001b[0;34m,\u001b[0m \u001b[0mkwds\u001b[0m\u001b[0;34m)\u001b[0m\u001b[0;34m\u001b[0m\u001b[0;34m\u001b[0m\u001b[0m\n\u001b[0m\u001b[1;32m   1027\u001b[0m \u001b[0;34m\u001b[0m\u001b[0m\n\u001b[1;32m   1028\u001b[0m \u001b[0;34m\u001b[0m\u001b[0m\n",
            "\u001b[0;32m/usr/local/lib/python3.11/dist-packages/pandas/io/parsers/readers.py\u001b[0m in \u001b[0;36m_read\u001b[0;34m(filepath_or_buffer, kwds)\u001b[0m\n\u001b[1;32m    618\u001b[0m \u001b[0;34m\u001b[0m\u001b[0m\n\u001b[1;32m    619\u001b[0m     \u001b[0;31m# Create the parser.\u001b[0m\u001b[0;34m\u001b[0m\u001b[0;34m\u001b[0m\u001b[0m\n\u001b[0;32m--> 620\u001b[0;31m     \u001b[0mparser\u001b[0m \u001b[0;34m=\u001b[0m \u001b[0mTextFileReader\u001b[0m\u001b[0;34m(\u001b[0m\u001b[0mfilepath_or_buffer\u001b[0m\u001b[0;34m,\u001b[0m \u001b[0;34m**\u001b[0m\u001b[0mkwds\u001b[0m\u001b[0;34m)\u001b[0m\u001b[0;34m\u001b[0m\u001b[0;34m\u001b[0m\u001b[0m\n\u001b[0m\u001b[1;32m    621\u001b[0m \u001b[0;34m\u001b[0m\u001b[0m\n\u001b[1;32m    622\u001b[0m     \u001b[0;32mif\u001b[0m \u001b[0mchunksize\u001b[0m \u001b[0;32mor\u001b[0m \u001b[0miterator\u001b[0m\u001b[0;34m:\u001b[0m\u001b[0;34m\u001b[0m\u001b[0;34m\u001b[0m\u001b[0m\n",
            "\u001b[0;32m/usr/local/lib/python3.11/dist-packages/pandas/io/parsers/readers.py\u001b[0m in \u001b[0;36m__init__\u001b[0;34m(self, f, engine, **kwds)\u001b[0m\n\u001b[1;32m   1618\u001b[0m \u001b[0;34m\u001b[0m\u001b[0m\n\u001b[1;32m   1619\u001b[0m         \u001b[0mself\u001b[0m\u001b[0;34m.\u001b[0m\u001b[0mhandles\u001b[0m\u001b[0;34m:\u001b[0m \u001b[0mIOHandles\u001b[0m \u001b[0;34m|\u001b[0m \u001b[0;32mNone\u001b[0m \u001b[0;34m=\u001b[0m \u001b[0;32mNone\u001b[0m\u001b[0;34m\u001b[0m\u001b[0;34m\u001b[0m\u001b[0m\n\u001b[0;32m-> 1620\u001b[0;31m         \u001b[0mself\u001b[0m\u001b[0;34m.\u001b[0m\u001b[0m_engine\u001b[0m \u001b[0;34m=\u001b[0m \u001b[0mself\u001b[0m\u001b[0;34m.\u001b[0m\u001b[0m_make_engine\u001b[0m\u001b[0;34m(\u001b[0m\u001b[0mf\u001b[0m\u001b[0;34m,\u001b[0m \u001b[0mself\u001b[0m\u001b[0;34m.\u001b[0m\u001b[0mengine\u001b[0m\u001b[0;34m)\u001b[0m\u001b[0;34m\u001b[0m\u001b[0;34m\u001b[0m\u001b[0m\n\u001b[0m\u001b[1;32m   1621\u001b[0m \u001b[0;34m\u001b[0m\u001b[0m\n\u001b[1;32m   1622\u001b[0m     \u001b[0;32mdef\u001b[0m \u001b[0mclose\u001b[0m\u001b[0;34m(\u001b[0m\u001b[0mself\u001b[0m\u001b[0;34m)\u001b[0m \u001b[0;34m->\u001b[0m \u001b[0;32mNone\u001b[0m\u001b[0;34m:\u001b[0m\u001b[0;34m\u001b[0m\u001b[0;34m\u001b[0m\u001b[0m\n",
            "\u001b[0;32m/usr/local/lib/python3.11/dist-packages/pandas/io/parsers/readers.py\u001b[0m in \u001b[0;36m_make_engine\u001b[0;34m(self, f, engine)\u001b[0m\n\u001b[1;32m   1878\u001b[0m                 \u001b[0;32mif\u001b[0m \u001b[0;34m\"b\"\u001b[0m \u001b[0;32mnot\u001b[0m \u001b[0;32min\u001b[0m \u001b[0mmode\u001b[0m\u001b[0;34m:\u001b[0m\u001b[0;34m\u001b[0m\u001b[0;34m\u001b[0m\u001b[0m\n\u001b[1;32m   1879\u001b[0m                     \u001b[0mmode\u001b[0m \u001b[0;34m+=\u001b[0m \u001b[0;34m\"b\"\u001b[0m\u001b[0;34m\u001b[0m\u001b[0;34m\u001b[0m\u001b[0m\n\u001b[0;32m-> 1880\u001b[0;31m             self.handles = get_handle(\n\u001b[0m\u001b[1;32m   1881\u001b[0m                 \u001b[0mf\u001b[0m\u001b[0;34m,\u001b[0m\u001b[0;34m\u001b[0m\u001b[0;34m\u001b[0m\u001b[0m\n\u001b[1;32m   1882\u001b[0m                 \u001b[0mmode\u001b[0m\u001b[0;34m,\u001b[0m\u001b[0;34m\u001b[0m\u001b[0;34m\u001b[0m\u001b[0m\n",
            "\u001b[0;32m/usr/local/lib/python3.11/dist-packages/pandas/io/common.py\u001b[0m in \u001b[0;36mget_handle\u001b[0;34m(path_or_buf, mode, encoding, compression, memory_map, is_text, errors, storage_options)\u001b[0m\n\u001b[1;32m    871\u001b[0m         \u001b[0;32mif\u001b[0m \u001b[0mioargs\u001b[0m\u001b[0;34m.\u001b[0m\u001b[0mencoding\u001b[0m \u001b[0;32mand\u001b[0m \u001b[0;34m\"b\"\u001b[0m \u001b[0;32mnot\u001b[0m \u001b[0;32min\u001b[0m \u001b[0mioargs\u001b[0m\u001b[0;34m.\u001b[0m\u001b[0mmode\u001b[0m\u001b[0;34m:\u001b[0m\u001b[0;34m\u001b[0m\u001b[0;34m\u001b[0m\u001b[0m\n\u001b[1;32m    872\u001b[0m             \u001b[0;31m# Encoding\u001b[0m\u001b[0;34m\u001b[0m\u001b[0;34m\u001b[0m\u001b[0m\n\u001b[0;32m--> 873\u001b[0;31m             handle = open(\n\u001b[0m\u001b[1;32m    874\u001b[0m                 \u001b[0mhandle\u001b[0m\u001b[0;34m,\u001b[0m\u001b[0;34m\u001b[0m\u001b[0;34m\u001b[0m\u001b[0m\n\u001b[1;32m    875\u001b[0m                 \u001b[0mioargs\u001b[0m\u001b[0;34m.\u001b[0m\u001b[0mmode\u001b[0m\u001b[0;34m,\u001b[0m\u001b[0;34m\u001b[0m\u001b[0;34m\u001b[0m\u001b[0m\n",
            "\u001b[0;31mFileNotFoundError\u001b[0m: [Errno 2] No such file or directory: 'sinopsys_train.csv'"
          ]
        }
      ],
      "source": [
        "import pandas as pd\n",
        "\n",
        "df_train = pd.read_csv(\"sinopsys_train.csv\")\n",
        "df_test = pd.read_csv(\"sinopsys_test.csv\")\n",
        "\n",
        "df_train.head()"
      ]
    },
    {
      "cell_type": "code",
      "execution_count": null,
      "id": "yfMXdockSA7R",
      "metadata": {
        "id": "yfMXdockSA7R"
      },
      "outputs": [],
      "source": [
        "from sklearn.feature_extraction.text import CountVectorizer\n",
        "\n",
        "# Define o corpus a partir da coluna desejada\n",
        "corpus = df_train[\"sinopse\"].dropna().astype(str).tolist()\n",
        "corpus[:10]"
      ]
    },
    {
      "cell_type": "markdown",
      "id": "pcooh_i_v_Bq",
      "metadata": {
        "id": "pcooh_i_v_Bq"
      },
      "source": [
        "## 4.1. Crie uma função que implemente um pipeline de préprocessamento apropriado"
      ]
    },
    {
      "cell_type": "code",
      "execution_count": null,
      "id": "2mWM-3H8yp7I",
      "metadata": {
        "id": "2mWM-3H8yp7I"
      },
      "outputs": [],
      "source": [
        "# sua resposta"
      ]
    },
    {
      "cell_type": "markdown",
      "id": "JV4HhAiUxV7d",
      "metadata": {
        "id": "JV4HhAiUxV7d"
      },
      "source": [
        "## 4.2. Represente através de uma Bag of Words."
      ]
    },
    {
      "cell_type": "code",
      "execution_count": null,
      "id": "EIeq5t2Jxn5t",
      "metadata": {
        "id": "EIeq5t2Jxn5t"
      },
      "outputs": [],
      "source": [
        "# sua resposta"
      ]
    },
    {
      "cell_type": "markdown",
      "id": "-SbqNaKzWi7Z",
      "metadata": {
        "id": "-SbqNaKzWi7Z"
      },
      "source": [
        "## 4.3. Quais os top-10 palavras mais frequentes no corpus que não sejam stopwords?"
      ]
    },
    {
      "cell_type": "code",
      "execution_count": null,
      "id": "IFpIJM1oWwAK",
      "metadata": {
        "id": "IFpIJM1oWwAK"
      },
      "outputs": [],
      "source": [
        "# sua resposta"
      ]
    },
    {
      "cell_type": "markdown",
      "id": "ROxXGTkAxsSt",
      "metadata": {
        "id": "ROxXGTkAxsSt"
      },
      "source": [
        "## 4.4. Calcule a similaridade cosseno entre dois documentos à sua escolha e comente o resultado."
      ]
    },
    {
      "cell_type": "code",
      "execution_count": null,
      "id": "pWcDOlP_yOxP",
      "metadata": {
        "id": "pWcDOlP_yOxP"
      },
      "outputs": [],
      "source": [
        "# sua resposta"
      ]
    },
    {
      "cell_type": "markdown",
      "id": "9HysSdnZ2ltO",
      "metadata": {
        "id": "9HysSdnZ2ltO"
      },
      "source": [
        "## 4.5.Implemente o Word2Vec e selecione um contexto presente no corpus (**a seu critério**). Qual palavra o modelo preveu?"
      ]
    },
    {
      "cell_type": "code",
      "execution_count": null,
      "id": "xvNq-Ku53Z5A",
      "metadata": {
        "id": "xvNq-Ku53Z5A"
      },
      "outputs": [],
      "source": [
        "# sua resposta"
      ]
    },
    {
      "cell_type": "markdown",
      "id": "NlZc8pRj3cvA",
      "metadata": {
        "id": "NlZc8pRj3cvA"
      },
      "source": [
        "## 4.6. A abordagem acima foi:\n",
        "\n",
        "- a) [ ] Skip-gram\n",
        "- b) [ ] CBOW"
      ]
    },
    {
      "cell_type": "code",
      "execution_count": null,
      "id": "hmsioDbI3r_Q",
      "metadata": {
        "id": "hmsioDbI3r_Q"
      },
      "outputs": [],
      "source": [
        "# sua resposta"
      ]
    },
    {
      "cell_type": "markdown",
      "id": "Y3FMm0wh31zw",
      "metadata": {
        "id": "Y3FMm0wh31zw"
      },
      "source": [
        "## 4.7. Duplicar o tamanho do contexto para o caso acima teria impacto positivo ou negativo?"
      ]
    },
    {
      "cell_type": "code",
      "execution_count": null,
      "id": "bgs0xyGN4WVz",
      "metadata": {
        "id": "bgs0xyGN4WVz"
      },
      "outputs": [],
      "source": [
        "# sua resposta"
      ]
    },
    {
      "cell_type": "markdown",
      "id": "rWEoRyNCwU9b",
      "metadata": {
        "id": "rWEoRyNCwU9b"
      },
      "source": [
        "## 4.8. Implemente o LDA"
      ]
    },
    {
      "cell_type": "code",
      "execution_count": null,
      "id": "tUPJkO8Pwh1T",
      "metadata": {
        "id": "tUPJkO8Pwh1T"
      },
      "outputs": [],
      "source": [
        "# sua resposta"
      ]
    },
    {
      "cell_type": "markdown",
      "id": "AjC246ZqwnID",
      "metadata": {
        "id": "AjC246ZqwnID"
      },
      "source": [
        "## 4.9. Selecione um dos Tópicos (**exceto o do exemplo**) e, baseado nos termos, faça uma sugestâo de label que represente bem aquele Tópico.\n",
        "\n",
        "- **Exemplo**: O Tópico 5 possui predominante termos relacionados a espionagem e guerra. Portanto, um bom label seria Ação e Espionagem Militar.\n",
        "\n",
        "- Palavras principais deste tópico:\n",
        "\"agente\", \"guerra\", \"policial\", \"mundial\", \"secreto\", \"missão\", \"governo\", \"investigar\", \"americano\", \"eua\""
      ]
    },
    {
      "cell_type": "code",
      "execution_count": null,
      "id": "5ac7a9c3",
      "metadata": {
        "id": "5ac7a9c3"
      },
      "outputs": [],
      "source": [
        "# sua resposta"
      ]
    },
    {
      "cell_type": "markdown",
      "id": "3f30943b",
      "metadata": {
        "id": "3f30943b"
      },
      "source": [
        "A visualização abaixo pode auxiliar na identificação dos tópicos para responder a questão 4.9 - ajuste conforme sua necessidade"
      ]
    },
    {
      "cell_type": "code",
      "execution_count": null,
      "id": "inxlzvaga3Ty",
      "metadata": {
        "id": "inxlzvaga3Ty"
      },
      "outputs": [],
      "source": [
        "import pyLDAvis\n",
        "import pyLDAvis.gensim_models\n",
        "\n",
        "pyLDAvis.enable_notebook()\n",
        "vis = pyLDAvis.gensim_models.prepare(lda_model, corpus, id2word)\n",
        "vis"
      ]
    }
  ],
  "metadata": {
    "colab": {
      "provenance": []
    },
    "kernelspec": {
      "display_name": "Python 3",
      "language": "python",
      "name": "python3"
    },
    "language_info": {
      "codemirror_mode": {
        "name": "ipython",
        "version": 3
      },
      "file_extension": ".py",
      "mimetype": "text/x-python",
      "name": "python",
      "nbconvert_exporter": "python",
      "pygments_lexer": "ipython3",
      "version": "3.13.2"
    }
  },
  "nbformat": 4,
  "nbformat_minor": 5
}