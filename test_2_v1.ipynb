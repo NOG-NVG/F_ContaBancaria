{
  "cells": [
    {
      "cell_type": "markdown",
      "id": "a36bf4af",
      "metadata": {
        "id": "a36bf4af"
      },
      "source": [
        "# **Identificação**:"
      ]
    },
    {
      "cell_type": "markdown",
      "id": "259b4fd9",
      "metadata": {
        "id": "259b4fd9"
      },
      "source": [
        "- `Número de aluno`: 222203209\n",
        "- `Nome`: Francisco Gomes\n",
        "- `Data`:03/06/2025"
      ]
    },
    {
      "cell_type": "markdown",
      "id": "2625e089",
      "metadata": {
        "id": "2625e089"
      },
      "source": [
        "# **Instruções:**\n",
        "- Justifique suas respostas quando solicitado.\n",
        "- Não é permitido a consulta a outros alunos ou a qualquer material externo.\n",
        "- Eletronic devices estão proibidos durante o teste.\n",
        "- Teste seus códigos com diferentes entradas para garantir seu funcionamento.\n",
        "- Salve o notebook com seu `número de aluno` antes de entregar. Exemplo: `2022000000.ipynb`.\n",
        "- Faça silêncio em respeito aos alunos que ainda estão realizando o teste."
      ]
    },
    {
      "cell_type": "markdown",
      "id": "bf3670f9",
      "metadata": {
        "id": "bf3670f9"
      },
      "source": [
        "## Importando bibliotecas"
      ]
    },
    {
      "cell_type": "code",
      "execution_count": 1,
      "id": "mWXZ_8_WP2Ul",
      "metadata": {
        "colab": {
          "base_uri": "https://localhost:8080/"
        },
        "id": "mWXZ_8_WP2Ul",
        "outputId": "3f8e120c-7ac7-44ea-f28e-a5ca0b09a543"
      },
      "outputs": [
        {
          "output_type": "stream",
          "name": "stdout",
          "text": [
            "Requirement already satisfied: numpy==1.24.4 in /usr/local/lib/python3.11/dist-packages (1.24.4)\n",
            "Requirement already satisfied: scipy==1.10.1 in /usr/local/lib/python3.11/dist-packages (1.10.1)\n",
            "Requirement already satisfied: gensim==4.3.3 in /usr/local/lib/python3.11/dist-packages (4.3.3)\n",
            "Requirement already satisfied: umap in /usr/local/lib/python3.11/dist-packages (0.1.1)\n",
            "Requirement already satisfied: umap-learn in /usr/local/lib/python3.11/dist-packages (0.5.7)\n",
            "Requirement already satisfied: smart-open>=1.8.1 in /usr/local/lib/python3.11/dist-packages (from gensim==4.3.3) (7.1.0)\n",
            "Requirement already satisfied: scikit-learn>=0.22 in /usr/local/lib/python3.11/dist-packages (from umap-learn) (1.6.1)\n",
            "Requirement already satisfied: numba>=0.51.2 in /usr/local/lib/python3.11/dist-packages (from umap-learn) (0.60.0)\n",
            "Requirement already satisfied: pynndescent>=0.5 in /usr/local/lib/python3.11/dist-packages (from umap-learn) (0.5.13)\n",
            "Requirement already satisfied: tqdm in /usr/local/lib/python3.11/dist-packages (from umap-learn) (4.67.1)\n",
            "Requirement already satisfied: llvmlite<0.44,>=0.43.0dev0 in /usr/local/lib/python3.11/dist-packages (from numba>=0.51.2->umap-learn) (0.43.0)\n",
            "Requirement already satisfied: joblib>=0.11 in /usr/local/lib/python3.11/dist-packages (from pynndescent>=0.5->umap-learn) (1.5.0)\n",
            "Requirement already satisfied: threadpoolctl>=3.1.0 in /usr/local/lib/python3.11/dist-packages (from scikit-learn>=0.22->umap-learn) (3.6.0)\n",
            "Requirement already satisfied: wrapt in /usr/local/lib/python3.11/dist-packages (from smart-open>=1.8.1->gensim==4.3.3) (1.17.2)\n"
          ]
        }
      ],
      "source": [
        "!pip install numpy==1.24.4 scipy==1.10.1 gensim==4.3.3 umap umap-learn"
      ]
    },
    {
      "cell_type": "code",
      "execution_count": 2,
      "id": "Q946i0tUP9K9",
      "metadata": {
        "colab": {
          "base_uri": "https://localhost:8080/"
        },
        "id": "Q946i0tUP9K9",
        "outputId": "2fd59950-7a38-4b78-b375-ac52334f79c1"
      },
      "outputs": [
        {
          "output_type": "stream",
          "name": "stdout",
          "text": [
            "Requirement already satisfied: nltk in /usr/local/lib/python3.11/dist-packages (3.9.1)\n",
            "Requirement already satisfied: click in /usr/local/lib/python3.11/dist-packages (from nltk) (8.2.1)\n",
            "Requirement already satisfied: joblib in /usr/local/lib/python3.11/dist-packages (from nltk) (1.5.0)\n",
            "Requirement already satisfied: regex>=2021.8.3 in /usr/local/lib/python3.11/dist-packages (from nltk) (2024.11.6)\n",
            "Requirement already satisfied: tqdm in /usr/local/lib/python3.11/dist-packages (from nltk) (4.67.1)\n",
            "Requirement already satisfied: spacy in /usr/local/lib/python3.11/dist-packages (3.8.6)\n",
            "Requirement already satisfied: spacy-legacy<3.1.0,>=3.0.11 in /usr/local/lib/python3.11/dist-packages (from spacy) (3.0.12)\n",
            "Requirement already satisfied: spacy-loggers<2.0.0,>=1.0.0 in /usr/local/lib/python3.11/dist-packages (from spacy) (1.0.5)\n",
            "Requirement already satisfied: murmurhash<1.1.0,>=0.28.0 in /usr/local/lib/python3.11/dist-packages (from spacy) (1.0.12)\n",
            "Requirement already satisfied: cymem<2.1.0,>=2.0.2 in /usr/local/lib/python3.11/dist-packages (from spacy) (2.0.11)\n",
            "Requirement already satisfied: preshed<3.1.0,>=3.0.2 in /usr/local/lib/python3.11/dist-packages (from spacy) (3.0.9)\n",
            "Requirement already satisfied: thinc<8.4.0,>=8.3.4 in /usr/local/lib/python3.11/dist-packages (from spacy) (8.3.6)\n",
            "Requirement already satisfied: wasabi<1.2.0,>=0.9.1 in /usr/local/lib/python3.11/dist-packages (from spacy) (1.1.3)\n",
            "Requirement already satisfied: srsly<3.0.0,>=2.4.3 in /usr/local/lib/python3.11/dist-packages (from spacy) (2.5.1)\n",
            "Requirement already satisfied: catalogue<2.1.0,>=2.0.6 in /usr/local/lib/python3.11/dist-packages (from spacy) (2.0.10)\n",
            "Requirement already satisfied: weasel<0.5.0,>=0.1.0 in /usr/local/lib/python3.11/dist-packages (from spacy) (0.4.1)\n",
            "Requirement already satisfied: typer<1.0.0,>=0.3.0 in /usr/local/lib/python3.11/dist-packages (from spacy) (0.15.3)\n",
            "Requirement already satisfied: tqdm<5.0.0,>=4.38.0 in /usr/local/lib/python3.11/dist-packages (from spacy) (4.67.1)\n",
            "Requirement already satisfied: numpy>=1.19.0 in /usr/local/lib/python3.11/dist-packages (from spacy) (1.24.4)\n",
            "Requirement already satisfied: requests<3.0.0,>=2.13.0 in /usr/local/lib/python3.11/dist-packages (from spacy) (2.32.3)\n",
            "Requirement already satisfied: pydantic!=1.8,!=1.8.1,<3.0.0,>=1.7.4 in /usr/local/lib/python3.11/dist-packages (from spacy) (2.11.4)\n",
            "Requirement already satisfied: jinja2 in /usr/local/lib/python3.11/dist-packages (from spacy) (3.1.6)\n",
            "Requirement already satisfied: setuptools in /usr/local/lib/python3.11/dist-packages (from spacy) (75.2.0)\n",
            "Requirement already satisfied: packaging>=20.0 in /usr/local/lib/python3.11/dist-packages (from spacy) (24.2)\n",
            "Requirement already satisfied: langcodes<4.0.0,>=3.2.0 in /usr/local/lib/python3.11/dist-packages (from spacy) (3.5.0)\n",
            "Requirement already satisfied: language-data>=1.2 in /usr/local/lib/python3.11/dist-packages (from langcodes<4.0.0,>=3.2.0->spacy) (1.3.0)\n",
            "Requirement already satisfied: annotated-types>=0.6.0 in /usr/local/lib/python3.11/dist-packages (from pydantic!=1.8,!=1.8.1,<3.0.0,>=1.7.4->spacy) (0.7.0)\n",
            "Requirement already satisfied: pydantic-core==2.33.2 in /usr/local/lib/python3.11/dist-packages (from pydantic!=1.8,!=1.8.1,<3.0.0,>=1.7.4->spacy) (2.33.2)\n",
            "Requirement already satisfied: typing-extensions>=4.12.2 in /usr/local/lib/python3.11/dist-packages (from pydantic!=1.8,!=1.8.1,<3.0.0,>=1.7.4->spacy) (4.13.2)\n",
            "Requirement already satisfied: typing-inspection>=0.4.0 in /usr/local/lib/python3.11/dist-packages (from pydantic!=1.8,!=1.8.1,<3.0.0,>=1.7.4->spacy) (0.4.1)\n",
            "Requirement already satisfied: charset-normalizer<4,>=2 in /usr/local/lib/python3.11/dist-packages (from requests<3.0.0,>=2.13.0->spacy) (3.4.2)\n",
            "Requirement already satisfied: idna<4,>=2.5 in /usr/local/lib/python3.11/dist-packages (from requests<3.0.0,>=2.13.0->spacy) (3.10)\n",
            "Requirement already satisfied: urllib3<3,>=1.21.1 in /usr/local/lib/python3.11/dist-packages (from requests<3.0.0,>=2.13.0->spacy) (2.4.0)\n",
            "Requirement already satisfied: certifi>=2017.4.17 in /usr/local/lib/python3.11/dist-packages (from requests<3.0.0,>=2.13.0->spacy) (2025.4.26)\n",
            "Requirement already satisfied: blis<1.4.0,>=1.3.0 in /usr/local/lib/python3.11/dist-packages (from thinc<8.4.0,>=8.3.4->spacy) (1.3.0)\n",
            "Requirement already satisfied: confection<1.0.0,>=0.0.1 in /usr/local/lib/python3.11/dist-packages (from thinc<8.4.0,>=8.3.4->spacy) (0.1.5)\n",
            "Collecting numpy>=1.19.0 (from spacy)\n",
            "  Using cached numpy-2.2.6-cp311-cp311-manylinux_2_17_x86_64.manylinux2014_x86_64.whl.metadata (62 kB)\n",
            "Requirement already satisfied: click>=8.0.0 in /usr/local/lib/python3.11/dist-packages (from typer<1.0.0,>=0.3.0->spacy) (8.2.1)\n",
            "Requirement already satisfied: shellingham>=1.3.0 in /usr/local/lib/python3.11/dist-packages (from typer<1.0.0,>=0.3.0->spacy) (1.5.4)\n",
            "Requirement already satisfied: rich>=10.11.0 in /usr/local/lib/python3.11/dist-packages (from typer<1.0.0,>=0.3.0->spacy) (13.9.4)\n",
            "Requirement already satisfied: cloudpathlib<1.0.0,>=0.7.0 in /usr/local/lib/python3.11/dist-packages (from weasel<0.5.0,>=0.1.0->spacy) (0.21.1)\n",
            "Requirement already satisfied: smart-open<8.0.0,>=5.2.1 in /usr/local/lib/python3.11/dist-packages (from weasel<0.5.0,>=0.1.0->spacy) (7.1.0)\n",
            "Requirement already satisfied: MarkupSafe>=2.0 in /usr/local/lib/python3.11/dist-packages (from jinja2->spacy) (3.0.2)\n",
            "Requirement already satisfied: marisa-trie>=1.1.0 in /usr/local/lib/python3.11/dist-packages (from language-data>=1.2->langcodes<4.0.0,>=3.2.0->spacy) (1.2.1)\n",
            "Requirement already satisfied: markdown-it-py>=2.2.0 in /usr/local/lib/python3.11/dist-packages (from rich>=10.11.0->typer<1.0.0,>=0.3.0->spacy) (3.0.0)\n",
            "Requirement already satisfied: pygments<3.0.0,>=2.13.0 in /usr/local/lib/python3.11/dist-packages (from rich>=10.11.0->typer<1.0.0,>=0.3.0->spacy) (2.19.1)\n",
            "Requirement already satisfied: wrapt in /usr/local/lib/python3.11/dist-packages (from smart-open<8.0.0,>=5.2.1->weasel<0.5.0,>=0.1.0->spacy) (1.17.2)\n",
            "Requirement already satisfied: mdurl~=0.1 in /usr/local/lib/python3.11/dist-packages (from markdown-it-py>=2.2.0->rich>=10.11.0->typer<1.0.0,>=0.3.0->spacy) (0.1.2)\n",
            "Using cached numpy-2.2.6-cp311-cp311-manylinux_2_17_x86_64.manylinux2014_x86_64.whl (16.8 MB)\n",
            "Installing collected packages: numpy\n",
            "  Attempting uninstall: numpy\n",
            "    Found existing installation: numpy 1.24.4\n",
            "    Uninstalling numpy-1.24.4:\n",
            "      Successfully uninstalled numpy-1.24.4\n",
            "\u001b[31mERROR: pip's dependency resolver does not currently take into account all the packages that are installed. This behaviour is the source of the following dependency conflicts.\n",
            "gensim 4.3.3 requires numpy<2.0,>=1.18.5, but you have numpy 2.2.6 which is incompatible.\n",
            "scipy 1.10.1 requires numpy<1.27.0,>=1.19.5, but you have numpy 2.2.6 which is incompatible.\n",
            "jaxlib 0.5.1 requires scipy>=1.11.1, but you have scipy 1.10.1 which is incompatible.\n",
            "scikit-image 0.25.2 requires scipy>=1.11.4, but you have scipy 1.10.1 which is incompatible.\n",
            "numba 0.60.0 requires numpy<2.1,>=1.22, but you have numpy 2.2.6 which is incompatible.\n",
            "jax 0.5.2 requires scipy>=1.11.1, but you have scipy 1.10.1 which is incompatible.\n",
            "tensorflow 2.18.0 requires numpy<2.1.0,>=1.26.0, but you have numpy 2.2.6 which is incompatible.\n",
            "tsfresh 0.21.0 requires scipy>=1.14.0; python_version >= \"3.10\", but you have scipy 1.10.1 which is incompatible.\n",
            "cvxpy 1.6.5 requires scipy>=1.11.0, but you have scipy 1.10.1 which is incompatible.\u001b[0m\u001b[31m\n",
            "\u001b[0mSuccessfully installed numpy-2.2.6\n",
            "/usr/local/lib/python3.11/dist-packages/scipy/__init__.py:143: UserWarning: A NumPy version >=1.19.5 and <1.27.0 is required for this version of SciPy (detected version 2.2.6)\n",
            "  warnings.warn(f\"A NumPy version >={np_minversion} and <{np_maxversion}\"\n",
            "\n",
            "A module that was compiled using NumPy 1.x cannot be run in\n",
            "NumPy 2.2.6 as it may crash. To support both 1.x and 2.x\n",
            "versions of NumPy, modules must be compiled with NumPy 2.0.\n",
            "Some module may need to rebuild instead e.g. with 'pybind11>=2.12'.\n",
            "\n",
            "If you are a user of the module, the easiest solution will be to\n",
            "downgrade to 'numpy<2' or try to upgrade the affected module.\n",
            "We expect that some modules will need time to support NumPy 2.\n",
            "\n",
            "Traceback (most recent call last):  File \"<frozen runpy>\", line 189, in _run_module_as_main\n",
            "  File \"<frozen runpy>\", line 148, in _get_module_details\n",
            "  File \"<frozen runpy>\", line 112, in _get_module_details\n",
            "  File \"/usr/local/lib/python3.11/dist-packages/spacy/__init__.py\", line 6, in <module>\n",
            "    from .errors import setup_default_warnings\n",
            "  File \"/usr/local/lib/python3.11/dist-packages/spacy/errors.py\", line 3, in <module>\n",
            "    from .compat import Literal\n",
            "  File \"/usr/local/lib/python3.11/dist-packages/spacy/compat.py\", line 4, in <module>\n",
            "    from thinc.util import copy_array\n",
            "  File \"/usr/local/lib/python3.11/dist-packages/thinc/__init__.py\", line 5, in <module>\n",
            "    from .config import registry\n",
            "  File \"/usr/local/lib/python3.11/dist-packages/thinc/config.py\", line 2, in <module>\n",
            "    import confection\n",
            "  File \"/usr/local/lib/python3.11/dist-packages/confection/__init__.py\", line 35, in <module>\n",
            "    import srsly\n",
            "  File \"/usr/local/lib/python3.11/dist-packages/srsly/__init__.py\", line 5, in <module>\n",
            "    from ._msgpack_api import read_msgpack, write_msgpack, msgpack_dumps, msgpack_loads\n",
            "  File \"/usr/local/lib/python3.11/dist-packages/srsly/_msgpack_api.py\", line 3, in <module>\n",
            "    from . import msgpack\n",
            "  File \"/usr/local/lib/python3.11/dist-packages/srsly/msgpack/__init__.py\", line 18, in <module>\n",
            "    from ._msgpack_numpy import encode_numpy as _encode_numpy\n",
            "  File \"/usr/local/lib/python3.11/dist-packages/srsly/msgpack/_msgpack_numpy.py\", line 19, in <module>\n",
            "    import cupy\n",
            "  File \"/usr/local/lib/python3.11/dist-packages/cupy/__init__.py\", line 30, in <module>\n",
            "    import cupyx as _cupyx  # NOQA\n",
            "  File \"/usr/local/lib/python3.11/dist-packages/cupyx/__init__.py\", line 8, in <module>\n",
            "    from cupyx import linalg  # NOQA\n",
            "  File \"/usr/local/lib/python3.11/dist-packages/cupyx/linalg/__init__.py\", line 2, in <module>\n",
            "    from cupyx.linalg import sparse  # NOQA\n",
            "  File \"/usr/local/lib/python3.11/dist-packages/cupyx/linalg/sparse/__init__.py\", line 3, in <module>\n",
            "    from cupyx.linalg.sparse._solve import lschol  # NOQA\n",
            "  File \"/usr/local/lib/python3.11/dist-packages/cupyx/linalg/sparse/_solve.py\", line 6, in <module>\n",
            "    from cupyx.scipy import sparse\n",
            "  File \"/usr/local/lib/python3.11/dist-packages/cupyx/scipy/__init__.py\", line 4, in <module>\n",
            "    from cupyx.scipy.sparse._base import spmatrix as _spmatrix\n",
            "  File \"/usr/local/lib/python3.11/dist-packages/cupyx/scipy/sparse/__init__.py\", line 1, in <module>\n",
            "    from cupyx.scipy.sparse._base import issparse  # NOQA\n",
            "  File \"/usr/local/lib/python3.11/dist-packages/cupyx/scipy/sparse/_base.py\", line 10, in <module>\n",
            "    import scipy.sparse as _sparse\n",
            "  File \"/usr/local/lib/python3.11/dist-packages/scipy/sparse/__init__.py\", line 267, in <module>\n",
            "    from ._csr import *\n",
            "  File \"/usr/local/lib/python3.11/dist-packages/scipy/sparse/_csr.py\", line 10, in <module>\n",
            "    from ._sparsetools import (csr_tocsc, csr_tobsr, csr_count_blocks,\n",
            "AttributeError: _ARRAY_API not found\n",
            "\n",
            "A module that was compiled using NumPy 1.x cannot be run in\n",
            "NumPy 2.2.6 as it may crash. To support both 1.x and 2.x\n",
            "versions of NumPy, modules must be compiled with NumPy 2.0.\n",
            "Some module may need to rebuild instead e.g. with 'pybind11>=2.12'.\n",
            "\n",
            "If you are a user of the module, the easiest solution will be to\n",
            "downgrade to 'numpy<2' or try to upgrade the affected module.\n",
            "We expect that some modules will need time to support NumPy 2.\n",
            "\n",
            "Traceback (most recent call last):  File \"<frozen runpy>\", line 189, in _run_module_as_main\n",
            "  File \"<frozen runpy>\", line 148, in _get_module_details\n",
            "  File \"<frozen runpy>\", line 112, in _get_module_details\n",
            "  File \"/usr/local/lib/python3.11/dist-packages/spacy/__init__.py\", line 6, in <module>\n",
            "    from .errors import setup_default_warnings\n",
            "  File \"/usr/local/lib/python3.11/dist-packages/spacy/errors.py\", line 3, in <module>\n",
            "    from .compat import Literal\n",
            "  File \"/usr/local/lib/python3.11/dist-packages/spacy/compat.py\", line 4, in <module>\n",
            "    from thinc.util import copy_array\n",
            "  File \"/usr/local/lib/python3.11/dist-packages/thinc/__init__.py\", line 5, in <module>\n",
            "    from .config import registry\n",
            "  File \"/usr/local/lib/python3.11/dist-packages/thinc/config.py\", line 2, in <module>\n",
            "    import confection\n",
            "  File \"/usr/local/lib/python3.11/dist-packages/confection/__init__.py\", line 35, in <module>\n",
            "    import srsly\n",
            "  File \"/usr/local/lib/python3.11/dist-packages/srsly/__init__.py\", line 5, in <module>\n",
            "    from ._msgpack_api import read_msgpack, write_msgpack, msgpack_dumps, msgpack_loads\n",
            "  File \"/usr/local/lib/python3.11/dist-packages/srsly/_msgpack_api.py\", line 3, in <module>\n",
            "    from . import msgpack\n",
            "  File \"/usr/local/lib/python3.11/dist-packages/srsly/msgpack/__init__.py\", line 18, in <module>\n",
            "    from ._msgpack_numpy import encode_numpy as _encode_numpy\n",
            "  File \"/usr/local/lib/python3.11/dist-packages/srsly/msgpack/_msgpack_numpy.py\", line 19, in <module>\n",
            "    import cupy\n",
            "  File \"/usr/local/lib/python3.11/dist-packages/cupy/__init__.py\", line 30, in <module>\n",
            "    import cupyx as _cupyx  # NOQA\n",
            "  File \"/usr/local/lib/python3.11/dist-packages/cupyx/__init__.py\", line 8, in <module>\n",
            "    from cupyx import linalg  # NOQA\n",
            "  File \"/usr/local/lib/python3.11/dist-packages/cupyx/linalg/__init__.py\", line 2, in <module>\n",
            "    from cupyx.linalg import sparse  # NOQA\n",
            "  File \"/usr/local/lib/python3.11/dist-packages/cupyx/linalg/sparse/__init__.py\", line 3, in <module>\n",
            "    from cupyx.linalg.sparse._solve import lschol  # NOQA\n",
            "  File \"/usr/local/lib/python3.11/dist-packages/cupyx/linalg/sparse/_solve.py\", line 6, in <module>\n",
            "    from cupyx.scipy import sparse\n",
            "  File \"/usr/local/lib/python3.11/dist-packages/cupyx/scipy/__init__.py\", line 4, in <module>\n",
            "    from cupyx.scipy.sparse._base import spmatrix as _spmatrix\n",
            "  File \"/usr/local/lib/python3.11/dist-packages/cupyx/scipy/sparse/__init__.py\", line 6, in <module>\n",
            "    from cupyx.scipy.sparse._coo import coo_matrix  # NOQA\n",
            "  File \"/usr/local/lib/python3.11/dist-packages/cupyx/scipy/sparse/_coo.py\", line 3, in <module>\n",
            "    import scipy.sparse\n",
            "  File \"/usr/local/lib/python3.11/dist-packages/scipy/sparse/__init__.py\", line 267, in <module>\n",
            "    from ._csr import *\n",
            "  File \"/usr/local/lib/python3.11/dist-packages/scipy/sparse/_csr.py\", line 10, in <module>\n",
            "    from ._sparsetools import (csr_tocsc, csr_tobsr, csr_count_blocks,\n",
            "AttributeError: _ARRAY_API not found\n",
            "\n",
            "A module that was compiled using NumPy 1.x cannot be run in\n",
            "NumPy 2.2.6 as it may crash. To support both 1.x and 2.x\n",
            "versions of NumPy, modules must be compiled with NumPy 2.0.\n",
            "Some module may need to rebuild instead e.g. with 'pybind11>=2.12'.\n",
            "\n",
            "If you are a user of the module, the easiest solution will be to\n",
            "downgrade to 'numpy<2' or try to upgrade the affected module.\n",
            "We expect that some modules will need time to support NumPy 2.\n",
            "\n",
            "Traceback (most recent call last):  File \"<frozen runpy>\", line 189, in _run_module_as_main\n",
            "  File \"<frozen runpy>\", line 148, in _get_module_details\n",
            "  File \"<frozen runpy>\", line 112, in _get_module_details\n",
            "  File \"/usr/local/lib/python3.11/dist-packages/spacy/__init__.py\", line 6, in <module>\n",
            "    from .errors import setup_default_warnings\n",
            "  File \"/usr/local/lib/python3.11/dist-packages/spacy/errors.py\", line 3, in <module>\n",
            "    from .compat import Literal\n",
            "  File \"/usr/local/lib/python3.11/dist-packages/spacy/compat.py\", line 4, in <module>\n",
            "    from thinc.util import copy_array\n",
            "  File \"/usr/local/lib/python3.11/dist-packages/thinc/__init__.py\", line 5, in <module>\n",
            "    from .config import registry\n",
            "  File \"/usr/local/lib/python3.11/dist-packages/thinc/config.py\", line 2, in <module>\n",
            "    import confection\n",
            "  File \"/usr/local/lib/python3.11/dist-packages/confection/__init__.py\", line 35, in <module>\n",
            "    import srsly\n",
            "  File \"/usr/local/lib/python3.11/dist-packages/srsly/__init__.py\", line 5, in <module>\n",
            "    from ._msgpack_api import read_msgpack, write_msgpack, msgpack_dumps, msgpack_loads\n",
            "  File \"/usr/local/lib/python3.11/dist-packages/srsly/_msgpack_api.py\", line 3, in <module>\n",
            "    from . import msgpack\n",
            "  File \"/usr/local/lib/python3.11/dist-packages/srsly/msgpack/__init__.py\", line 18, in <module>\n",
            "    from ._msgpack_numpy import encode_numpy as _encode_numpy\n",
            "  File \"/usr/local/lib/python3.11/dist-packages/srsly/msgpack/_msgpack_numpy.py\", line 19, in <module>\n",
            "    import cupy\n",
            "  File \"/usr/local/lib/python3.11/dist-packages/cupy/__init__.py\", line 30, in <module>\n",
            "    import cupyx as _cupyx  # NOQA\n",
            "  File \"/usr/local/lib/python3.11/dist-packages/cupyx/__init__.py\", line 8, in <module>\n",
            "    from cupyx import linalg  # NOQA\n",
            "  File \"/usr/local/lib/python3.11/dist-packages/cupyx/linalg/__init__.py\", line 2, in <module>\n",
            "    from cupyx.linalg import sparse  # NOQA\n",
            "  File \"/usr/local/lib/python3.11/dist-packages/cupyx/linalg/sparse/__init__.py\", line 3, in <module>\n",
            "    from cupyx.linalg.sparse._solve import lschol  # NOQA\n",
            "  File \"/usr/local/lib/python3.11/dist-packages/cupyx/linalg/sparse/_solve.py\", line 6, in <module>\n",
            "    from cupyx.scipy import sparse\n",
            "  File \"/usr/local/lib/python3.11/dist-packages/cupyx/scipy/__init__.py\", line 4, in <module>\n",
            "    from cupyx.scipy.sparse._base import spmatrix as _spmatrix\n",
            "  File \"/usr/local/lib/python3.11/dist-packages/cupyx/scipy/sparse/__init__.py\", line 6, in <module>\n",
            "    from cupyx.scipy.sparse._coo import coo_matrix  # NOQA\n",
            "  File \"/usr/local/lib/python3.11/dist-packages/cupyx/scipy/sparse/_coo.py\", line 11, in <module>\n",
            "    from cupyx.scipy.sparse import _csc\n",
            "  File \"/usr/local/lib/python3.11/dist-packages/cupyx/scipy/sparse/_csc.py\", line 2, in <module>\n",
            "    import scipy.sparse\n",
            "  File \"/usr/local/lib/python3.11/dist-packages/scipy/sparse/__init__.py\", line 267, in <module>\n",
            "    from ._csr import *\n",
            "  File \"/usr/local/lib/python3.11/dist-packages/scipy/sparse/_csr.py\", line 10, in <module>\n",
            "    from ._sparsetools import (csr_tocsc, csr_tobsr, csr_count_blocks,\n",
            "AttributeError: _ARRAY_API not found\n",
            "\n",
            "A module that was compiled using NumPy 1.x cannot be run in\n",
            "NumPy 2.2.6 as it may crash. To support both 1.x and 2.x\n",
            "versions of NumPy, modules must be compiled with NumPy 2.0.\n",
            "Some module may need to rebuild instead e.g. with 'pybind11>=2.12'.\n",
            "\n",
            "If you are a user of the module, the easiest solution will be to\n",
            "downgrade to 'numpy<2' or try to upgrade the affected module.\n",
            "We expect that some modules will need time to support NumPy 2.\n",
            "\n",
            "Traceback (most recent call last):  File \"<frozen runpy>\", line 189, in _run_module_as_main\n",
            "  File \"<frozen runpy>\", line 148, in _get_module_details\n",
            "  File \"<frozen runpy>\", line 112, in _get_module_details\n",
            "  File \"/usr/local/lib/python3.11/dist-packages/spacy/__init__.py\", line 6, in <module>\n",
            "    from .errors import setup_default_warnings\n",
            "  File \"/usr/local/lib/python3.11/dist-packages/spacy/errors.py\", line 3, in <module>\n",
            "    from .compat import Literal\n",
            "  File \"/usr/local/lib/python3.11/dist-packages/spacy/compat.py\", line 4, in <module>\n",
            "    from thinc.util import copy_array\n",
            "  File \"/usr/local/lib/python3.11/dist-packages/thinc/__init__.py\", line 5, in <module>\n",
            "    from .config import registry\n",
            "  File \"/usr/local/lib/python3.11/dist-packages/thinc/config.py\", line 2, in <module>\n",
            "    import confection\n",
            "  File \"/usr/local/lib/python3.11/dist-packages/confection/__init__.py\", line 35, in <module>\n",
            "    import srsly\n",
            "  File \"/usr/local/lib/python3.11/dist-packages/srsly/__init__.py\", line 5, in <module>\n",
            "    from ._msgpack_api import read_msgpack, write_msgpack, msgpack_dumps, msgpack_loads\n",
            "  File \"/usr/local/lib/python3.11/dist-packages/srsly/_msgpack_api.py\", line 3, in <module>\n",
            "    from . import msgpack\n",
            "  File \"/usr/local/lib/python3.11/dist-packages/srsly/msgpack/__init__.py\", line 18, in <module>\n",
            "    from ._msgpack_numpy import encode_numpy as _encode_numpy\n",
            "  File \"/usr/local/lib/python3.11/dist-packages/srsly/msgpack/_msgpack_numpy.py\", line 19, in <module>\n",
            "    import cupy\n",
            "  File \"/usr/local/lib/python3.11/dist-packages/cupy/__init__.py\", line 30, in <module>\n",
            "    import cupyx as _cupyx  # NOQA\n",
            "  File \"/usr/local/lib/python3.11/dist-packages/cupyx/__init__.py\", line 8, in <module>\n",
            "    from cupyx import linalg  # NOQA\n",
            "  File \"/usr/local/lib/python3.11/dist-packages/cupyx/linalg/__init__.py\", line 2, in <module>\n",
            "    from cupyx.linalg import sparse  # NOQA\n",
            "  File \"/usr/local/lib/python3.11/dist-packages/cupyx/linalg/sparse/__init__.py\", line 3, in <module>\n",
            "    from cupyx.linalg.sparse._solve import lschol  # NOQA\n",
            "  File \"/usr/local/lib/python3.11/dist-packages/cupyx/linalg/sparse/_solve.py\", line 6, in <module>\n",
            "    from cupyx.scipy import sparse\n",
            "  File \"/usr/local/lib/python3.11/dist-packages/cupyx/scipy/__init__.py\", line 4, in <module>\n",
            "    from cupyx.scipy.sparse._base import spmatrix as _spmatrix\n",
            "  File \"/usr/local/lib/python3.11/dist-packages/cupyx/scipy/sparse/__init__.py\", line 6, in <module>\n",
            "    from cupyx.scipy.sparse._coo import coo_matrix  # NOQA\n",
            "  File \"/usr/local/lib/python3.11/dist-packages/cupyx/scipy/sparse/_coo.py\", line 11, in <module>\n",
            "    from cupyx.scipy.sparse import _csc\n",
            "  File \"/usr/local/lib/python3.11/dist-packages/cupyx/scipy/sparse/_csc.py\", line 12, in <module>\n",
            "    from cupyx.scipy.sparse import _compressed\n",
            "  File \"/usr/local/lib/python3.11/dist-packages/cupyx/scipy/sparse/_compressed.py\", line 6, in <module>\n",
            "    import scipy.sparse\n",
            "  File \"/usr/local/lib/python3.11/dist-packages/scipy/sparse/__init__.py\", line 267, in <module>\n",
            "    from ._csr import *\n",
            "  File \"/usr/local/lib/python3.11/dist-packages/scipy/sparse/_csr.py\", line 10, in <module>\n",
            "    from ._sparsetools import (csr_tocsc, csr_tobsr, csr_count_blocks,\n",
            "AttributeError: _ARRAY_API not found\n",
            "\n",
            "A module that was compiled using NumPy 1.x cannot be run in\n",
            "NumPy 2.2.6 as it may crash. To support both 1.x and 2.x\n",
            "versions of NumPy, modules must be compiled with NumPy 2.0.\n",
            "Some module may need to rebuild instead e.g. with 'pybind11>=2.12'.\n",
            "\n",
            "If you are a user of the module, the easiest solution will be to\n",
            "downgrade to 'numpy<2' or try to upgrade the affected module.\n",
            "We expect that some modules will need time to support NumPy 2.\n",
            "\n",
            "Traceback (most recent call last):  File \"<frozen runpy>\", line 189, in _run_module_as_main\n",
            "  File \"<frozen runpy>\", line 148, in _get_module_details\n",
            "  File \"<frozen runpy>\", line 112, in _get_module_details\n",
            "  File \"/usr/local/lib/python3.11/dist-packages/spacy/__init__.py\", line 6, in <module>\n",
            "    from .errors import setup_default_warnings\n",
            "  File \"/usr/local/lib/python3.11/dist-packages/spacy/errors.py\", line 3, in <module>\n",
            "    from .compat import Literal\n",
            "  File \"/usr/local/lib/python3.11/dist-packages/spacy/compat.py\", line 4, in <module>\n",
            "    from thinc.util import copy_array\n",
            "  File \"/usr/local/lib/python3.11/dist-packages/thinc/__init__.py\", line 5, in <module>\n",
            "    from .config import registry\n",
            "  File \"/usr/local/lib/python3.11/dist-packages/thinc/config.py\", line 2, in <module>\n",
            "    import confection\n",
            "  File \"/usr/local/lib/python3.11/dist-packages/confection/__init__.py\", line 35, in <module>\n",
            "    import srsly\n",
            "  File \"/usr/local/lib/python3.11/dist-packages/srsly/__init__.py\", line 5, in <module>\n",
            "    from ._msgpack_api import read_msgpack, write_msgpack, msgpack_dumps, msgpack_loads\n",
            "  File \"/usr/local/lib/python3.11/dist-packages/srsly/_msgpack_api.py\", line 3, in <module>\n",
            "    from . import msgpack\n",
            "  File \"/usr/local/lib/python3.11/dist-packages/srsly/msgpack/__init__.py\", line 18, in <module>\n",
            "    from ._msgpack_numpy import encode_numpy as _encode_numpy\n",
            "  File \"/usr/local/lib/python3.11/dist-packages/srsly/msgpack/_msgpack_numpy.py\", line 19, in <module>\n",
            "    import cupy\n",
            "  File \"/usr/local/lib/python3.11/dist-packages/cupy/__init__.py\", line 30, in <module>\n",
            "    import cupyx as _cupyx  # NOQA\n",
            "  File \"/usr/local/lib/python3.11/dist-packages/cupyx/__init__.py\", line 8, in <module>\n",
            "    from cupyx import linalg  # NOQA\n",
            "  File \"/usr/local/lib/python3.11/dist-packages/cupyx/linalg/__init__.py\", line 2, in <module>\n",
            "    from cupyx.linalg import sparse  # NOQA\n",
            "  File \"/usr/local/lib/python3.11/dist-packages/cupyx/linalg/sparse/__init__.py\", line 3, in <module>\n",
            "    from cupyx.linalg.sparse._solve import lschol  # NOQA\n",
            "  File \"/usr/local/lib/python3.11/dist-packages/cupyx/linalg/sparse/_solve.py\", line 6, in <module>\n",
            "    from cupyx.scipy import sparse\n",
            "  File \"/usr/local/lib/python3.11/dist-packages/cupyx/scipy/__init__.py\", line 4, in <module>\n",
            "    from cupyx.scipy.sparse._base import spmatrix as _spmatrix\n",
            "  File \"/usr/local/lib/python3.11/dist-packages/cupyx/scipy/sparse/__init__.py\", line 6, in <module>\n",
            "    from cupyx.scipy.sparse._coo import coo_matrix  # NOQA\n",
            "  File \"/usr/local/lib/python3.11/dist-packages/cupyx/scipy/sparse/_coo.py\", line 11, in <module>\n",
            "    from cupyx.scipy.sparse import _csc\n",
            "  File \"/usr/local/lib/python3.11/dist-packages/cupyx/scipy/sparse/_csc.py\", line 12, in <module>\n",
            "    from cupyx.scipy.sparse import _compressed\n",
            "  File \"/usr/local/lib/python3.11/dist-packages/cupyx/scipy/sparse/_compressed.py\", line 23, in <module>\n",
            "    from cupyx.scipy.sparse import _index\n",
            "  File \"/usr/local/lib/python3.11/dist-packages/cupyx/scipy/sparse/_index.py\", line 16, in <module>\n",
            "    import scipy.sparse\n",
            "  File \"/usr/local/lib/python3.11/dist-packages/scipy/sparse/__init__.py\", line 267, in <module>\n",
            "    from ._csr import *\n",
            "  File \"/usr/local/lib/python3.11/dist-packages/scipy/sparse/_csr.py\", line 10, in <module>\n",
            "    from ._sparsetools import (csr_tocsc, csr_tobsr, csr_count_blocks,\n",
            "AttributeError: _ARRAY_API not found\n",
            "\n",
            "A module that was compiled using NumPy 1.x cannot be run in\n",
            "NumPy 2.2.6 as it may crash. To support both 1.x and 2.x\n",
            "versions of NumPy, modules must be compiled with NumPy 2.0.\n",
            "Some module may need to rebuild instead e.g. with 'pybind11>=2.12'.\n",
            "\n",
            "If you are a user of the module, the easiest solution will be to\n",
            "downgrade to 'numpy<2' or try to upgrade the affected module.\n",
            "We expect that some modules will need time to support NumPy 2.\n",
            "\n",
            "Traceback (most recent call last):  File \"<frozen runpy>\", line 189, in _run_module_as_main\n",
            "  File \"<frozen runpy>\", line 148, in _get_module_details\n",
            "  File \"<frozen runpy>\", line 112, in _get_module_details\n",
            "  File \"/usr/local/lib/python3.11/dist-packages/spacy/__init__.py\", line 6, in <module>\n",
            "    from .errors import setup_default_warnings\n",
            "  File \"/usr/local/lib/python3.11/dist-packages/spacy/errors.py\", line 3, in <module>\n",
            "    from .compat import Literal\n",
            "  File \"/usr/local/lib/python3.11/dist-packages/spacy/compat.py\", line 4, in <module>\n",
            "    from thinc.util import copy_array\n",
            "  File \"/usr/local/lib/python3.11/dist-packages/thinc/__init__.py\", line 5, in <module>\n",
            "    from .config import registry\n",
            "  File \"/usr/local/lib/python3.11/dist-packages/thinc/config.py\", line 2, in <module>\n",
            "    import confection\n",
            "  File \"/usr/local/lib/python3.11/dist-packages/confection/__init__.py\", line 35, in <module>\n",
            "    import srsly\n",
            "  File \"/usr/local/lib/python3.11/dist-packages/srsly/__init__.py\", line 5, in <module>\n",
            "    from ._msgpack_api import read_msgpack, write_msgpack, msgpack_dumps, msgpack_loads\n",
            "  File \"/usr/local/lib/python3.11/dist-packages/srsly/_msgpack_api.py\", line 3, in <module>\n",
            "    from . import msgpack\n",
            "  File \"/usr/local/lib/python3.11/dist-packages/srsly/msgpack/__init__.py\", line 18, in <module>\n",
            "    from ._msgpack_numpy import encode_numpy as _encode_numpy\n",
            "  File \"/usr/local/lib/python3.11/dist-packages/srsly/msgpack/_msgpack_numpy.py\", line 19, in <module>\n",
            "    import cupy\n",
            "  File \"/usr/local/lib/python3.11/dist-packages/cupy/__init__.py\", line 30, in <module>\n",
            "    import cupyx as _cupyx  # NOQA\n",
            "  File \"/usr/local/lib/python3.11/dist-packages/cupyx/__init__.py\", line 8, in <module>\n",
            "    from cupyx import linalg  # NOQA\n",
            "  File \"/usr/local/lib/python3.11/dist-packages/cupyx/linalg/__init__.py\", line 2, in <module>\n",
            "    from cupyx.linalg import sparse  # NOQA\n",
            "  File \"/usr/local/lib/python3.11/dist-packages/cupyx/linalg/sparse/__init__.py\", line 3, in <module>\n",
            "    from cupyx.linalg.sparse._solve import lschol  # NOQA\n",
            "  File \"/usr/local/lib/python3.11/dist-packages/cupyx/linalg/sparse/_solve.py\", line 6, in <module>\n",
            "    from cupyx.scipy import sparse\n",
            "  File \"/usr/local/lib/python3.11/dist-packages/cupyx/scipy/__init__.py\", line 4, in <module>\n",
            "    from cupyx.scipy.sparse._base import spmatrix as _spmatrix\n",
            "  File \"/usr/local/lib/python3.11/dist-packages/cupyx/scipy/sparse/__init__.py\", line 6, in <module>\n",
            "    from cupyx.scipy.sparse._coo import coo_matrix  # NOQA\n",
            "  File \"/usr/local/lib/python3.11/dist-packages/cupyx/scipy/sparse/_coo.py\", line 12, in <module>\n",
            "    from cupyx.scipy.sparse import _csr\n",
            "  File \"/usr/local/lib/python3.11/dist-packages/cupyx/scipy/sparse/_csr.py\", line 7, in <module>\n",
            "    import scipy.sparse\n",
            "  File \"/usr/local/lib/python3.11/dist-packages/scipy/sparse/__init__.py\", line 267, in <module>\n",
            "    from ._csr import *\n",
            "  File \"/usr/local/lib/python3.11/dist-packages/scipy/sparse/_csr.py\", line 10, in <module>\n",
            "    from ._sparsetools import (csr_tocsc, csr_tobsr, csr_count_blocks,\n",
            "AttributeError: _ARRAY_API not found\n",
            "\n",
            "A module that was compiled using NumPy 1.x cannot be run in\n",
            "NumPy 2.2.6 as it may crash. To support both 1.x and 2.x\n",
            "versions of NumPy, modules must be compiled with NumPy 2.0.\n",
            "Some module may need to rebuild instead e.g. with 'pybind11>=2.12'.\n",
            "\n",
            "If you are a user of the module, the easiest solution will be to\n",
            "downgrade to 'numpy<2' or try to upgrade the affected module.\n",
            "We expect that some modules will need time to support NumPy 2.\n",
            "\n",
            "Traceback (most recent call last):  File \"<frozen runpy>\", line 189, in _run_module_as_main\n",
            "  File \"<frozen runpy>\", line 148, in _get_module_details\n",
            "  File \"<frozen runpy>\", line 112, in _get_module_details\n",
            "  File \"/usr/local/lib/python3.11/dist-packages/spacy/__init__.py\", line 6, in <module>\n",
            "    from .errors import setup_default_warnings\n",
            "  File \"/usr/local/lib/python3.11/dist-packages/spacy/errors.py\", line 3, in <module>\n",
            "    from .compat import Literal\n",
            "  File \"/usr/local/lib/python3.11/dist-packages/spacy/compat.py\", line 4, in <module>\n",
            "    from thinc.util import copy_array\n",
            "  File \"/usr/local/lib/python3.11/dist-packages/thinc/__init__.py\", line 5, in <module>\n",
            "    from .config import registry\n",
            "  File \"/usr/local/lib/python3.11/dist-packages/thinc/config.py\", line 2, in <module>\n",
            "    import confection\n",
            "  File \"/usr/local/lib/python3.11/dist-packages/confection/__init__.py\", line 35, in <module>\n",
            "    import srsly\n",
            "  File \"/usr/local/lib/python3.11/dist-packages/srsly/__init__.py\", line 5, in <module>\n",
            "    from ._msgpack_api import read_msgpack, write_msgpack, msgpack_dumps, msgpack_loads\n",
            "  File \"/usr/local/lib/python3.11/dist-packages/srsly/_msgpack_api.py\", line 3, in <module>\n",
            "    from . import msgpack\n",
            "  File \"/usr/local/lib/python3.11/dist-packages/srsly/msgpack/__init__.py\", line 18, in <module>\n",
            "    from ._msgpack_numpy import encode_numpy as _encode_numpy\n",
            "  File \"/usr/local/lib/python3.11/dist-packages/srsly/msgpack/_msgpack_numpy.py\", line 19, in <module>\n",
            "    import cupy\n",
            "  File \"/usr/local/lib/python3.11/dist-packages/cupy/__init__.py\", line 30, in <module>\n",
            "    import cupyx as _cupyx  # NOQA\n",
            "  File \"/usr/local/lib/python3.11/dist-packages/cupyx/__init__.py\", line 8, in <module>\n",
            "    from cupyx import linalg  # NOQA\n",
            "  File \"/usr/local/lib/python3.11/dist-packages/cupyx/linalg/__init__.py\", line 2, in <module>\n",
            "    from cupyx.linalg import sparse  # NOQA\n",
            "  File \"/usr/local/lib/python3.11/dist-packages/cupyx/linalg/sparse/__init__.py\", line 3, in <module>\n",
            "    from cupyx.linalg.sparse._solve import lschol  # NOQA\n",
            "  File \"/usr/local/lib/python3.11/dist-packages/cupyx/linalg/sparse/_solve.py\", line 6, in <module>\n",
            "    from cupyx.scipy import sparse\n",
            "  File \"/usr/local/lib/python3.11/dist-packages/cupyx/scipy/__init__.py\", line 4, in <module>\n",
            "    from cupyx.scipy.sparse._base import spmatrix as _spmatrix\n",
            "  File \"/usr/local/lib/python3.11/dist-packages/cupyx/scipy/sparse/__init__.py\", line 12, in <module>\n",
            "    from cupyx.scipy.sparse._dia import dia_matrix  # NOQA\n",
            "  File \"/usr/local/lib/python3.11/dist-packages/cupyx/scipy/sparse/_dia.py\", line 2, in <module>\n",
            "    import scipy.sparse\n",
            "  File \"/usr/local/lib/python3.11/dist-packages/scipy/sparse/__init__.py\", line 267, in <module>\n",
            "    from ._csr import *\n",
            "  File \"/usr/local/lib/python3.11/dist-packages/scipy/sparse/_csr.py\", line 10, in <module>\n",
            "    from ._sparsetools import (csr_tocsc, csr_tobsr, csr_count_blocks,\n",
            "AttributeError: _ARRAY_API not found\n",
            "Traceback (most recent call last):\n",
            "  File \"<frozen runpy>\", line 189, in _run_module_as_main\n",
            "  File \"<frozen runpy>\", line 148, in _get_module_details\n",
            "  File \"<frozen runpy>\", line 112, in _get_module_details\n",
            "  File \"/usr/local/lib/python3.11/dist-packages/spacy/__init__.py\", line 6, in <module>\n",
            "    from .errors import setup_default_warnings\n",
            "  File \"/usr/local/lib/python3.11/dist-packages/spacy/errors.py\", line 3, in <module>\n",
            "    from .compat import Literal\n",
            "  File \"/usr/local/lib/python3.11/dist-packages/spacy/compat.py\", line 4, in <module>\n",
            "    from thinc.util import copy_array\n",
            "  File \"/usr/local/lib/python3.11/dist-packages/thinc/__init__.py\", line 5, in <module>\n",
            "    from .config import registry\n",
            "  File \"/usr/local/lib/python3.11/dist-packages/thinc/config.py\", line 2, in <module>\n",
            "    import confection\n",
            "  File \"/usr/local/lib/python3.11/dist-packages/confection/__init__.py\", line 35, in <module>\n",
            "    import srsly\n",
            "  File \"/usr/local/lib/python3.11/dist-packages/srsly/__init__.py\", line 5, in <module>\n",
            "    from ._msgpack_api import read_msgpack, write_msgpack, msgpack_dumps, msgpack_loads\n",
            "  File \"/usr/local/lib/python3.11/dist-packages/srsly/_msgpack_api.py\", line 3, in <module>\n",
            "    from . import msgpack\n",
            "  File \"/usr/local/lib/python3.11/dist-packages/srsly/msgpack/__init__.py\", line 18, in <module>\n",
            "    from ._msgpack_numpy import encode_numpy as _encode_numpy\n",
            "  File \"/usr/local/lib/python3.11/dist-packages/srsly/msgpack/_msgpack_numpy.py\", line 19, in <module>\n",
            "    import cupy\n",
            "  File \"/usr/local/lib/python3.11/dist-packages/cupy/__init__.py\", line 527, in <module>\n",
            "    from cupy.lib._polynomial import poly1d  # NOQA\n",
            "    ^^^^^^^^^^^^^^^^^^^^^^^^^^^^^^^^^^^^^^^\n",
            "  File \"cupy/lib/_polynomial.pyx\", line 8, in init cupy.lib._polynomial\n",
            "  File \"/usr/local/lib/python3.11/dist-packages/cupy/lib/_routines_poly.py\", line 8, in <module>\n",
            "    import cupyx.scipy.fft\n",
            "  File \"/usr/local/lib/python3.11/dist-packages/cupyx/scipy/fft/__init__.py\", line 2, in <module>\n",
            "    from cupyx.scipy.fft._fft import (\n",
            "  File \"/usr/local/lib/python3.11/dist-packages/cupyx/scipy/fft/_fft.py\", line 15, in <module>\n",
            "    import scipy.fft as _scipy_fft\n",
            "  File \"/usr/local/lib/python3.11/dist-packages/scipy/fft/__init__.py\", line 90, in <module>\n",
            "    from ._fftlog import fhtoffset\n",
            "  File \"/usr/local/lib/python3.11/dist-packages/scipy/fft/_fftlog.py\", line 11, in <module>\n",
            "    from ..special import loggamma, poch\n",
            "  File \"/usr/local/lib/python3.11/dist-packages/scipy/special/__init__.py\", line 663, in <module>\n",
            "    from . import _ufuncs\n",
            "  File \"scipy/special/_ufuncs.pyx\", line 1, in init scipy.special._ufuncs\n",
            "ValueError: numpy.dtype size changed, may indicate binary incompatibility. Expected 96 from C header, got 88 from PyObject\n",
            "Requirement already satisfied: scikit-learn in /usr/local/lib/python3.11/dist-packages (1.6.1)\n",
            "Requirement already satisfied: numpy>=1.19.5 in /usr/local/lib/python3.11/dist-packages (from scikit-learn) (2.2.6)\n",
            "Requirement already satisfied: scipy>=1.6.0 in /usr/local/lib/python3.11/dist-packages (from scikit-learn) (1.10.1)\n",
            "Requirement already satisfied: joblib>=1.2.0 in /usr/local/lib/python3.11/dist-packages (from scikit-learn) (1.5.0)\n",
            "Requirement already satisfied: threadpoolctl>=3.1.0 in /usr/local/lib/python3.11/dist-packages (from scikit-learn) (3.6.0)\n",
            "Collecting numpy>=1.19.5 (from scikit-learn)\n",
            "  Using cached numpy-1.26.4-cp311-cp311-manylinux_2_17_x86_64.manylinux2014_x86_64.whl.metadata (61 kB)\n",
            "Using cached numpy-1.26.4-cp311-cp311-manylinux_2_17_x86_64.manylinux2014_x86_64.whl (18.3 MB)\n",
            "Installing collected packages: numpy\n",
            "  Attempting uninstall: numpy\n",
            "    Found existing installation: numpy 2.2.6\n",
            "    Uninstalling numpy-2.2.6:\n",
            "      Successfully uninstalled numpy-2.2.6\n",
            "\u001b[31mERROR: pip's dependency resolver does not currently take into account all the packages that are installed. This behaviour is the source of the following dependency conflicts.\n",
            "jaxlib 0.5.1 requires scipy>=1.11.1, but you have scipy 1.10.1 which is incompatible.\n",
            "scikit-image 0.25.2 requires scipy>=1.11.4, but you have scipy 1.10.1 which is incompatible.\n",
            "jax 0.5.2 requires scipy>=1.11.1, but you have scipy 1.10.1 which is incompatible.\n",
            "tsfresh 0.21.0 requires scipy>=1.14.0; python_version >= \"3.10\", but you have scipy 1.10.1 which is incompatible.\n",
            "thinc 8.3.6 requires numpy<3.0.0,>=2.0.0, but you have numpy 1.26.4 which is incompatible.\n",
            "cvxpy 1.6.5 requires scipy>=1.11.0, but you have scipy 1.10.1 which is incompatible.\u001b[0m\u001b[31m\n",
            "\u001b[0mSuccessfully installed numpy-1.26.4\n"
          ]
        }
      ],
      "source": [
        "!pip install nltk\n",
        "!pip install spacy\n",
        "!python -m spacy download pt_core_news_sm\n",
        "!pip install scikit-learn"
      ]
    },
    {
      "cell_type": "code",
      "execution_count": 3,
      "id": "ae83b804",
      "metadata": {
        "id": "ae83b804",
        "colab": {
          "base_uri": "https://localhost:8080/"
        },
        "outputId": "62608f59-09e6-4c29-eb6e-f0bd3ac8c4ae"
      },
      "outputs": [
        {
          "output_type": "stream",
          "name": "stdout",
          "text": [
            "Requirement already satisfied: pandas in /usr/local/lib/python3.11/dist-packages (2.2.2)\n",
            "Requirement already satisfied: networkx in /usr/local/lib/python3.11/dist-packages (3.4.2)\n",
            "Requirement already satisfied: matplotlib in /usr/local/lib/python3.11/dist-packages (3.10.0)\n",
            "Requirement already satisfied: numpy>=1.23.2 in /usr/local/lib/python3.11/dist-packages (from pandas) (1.26.4)\n",
            "Requirement already satisfied: python-dateutil>=2.8.2 in /usr/local/lib/python3.11/dist-packages (from pandas) (2.9.0.post0)\n",
            "Requirement already satisfied: pytz>=2020.1 in /usr/local/lib/python3.11/dist-packages (from pandas) (2025.2)\n",
            "Requirement already satisfied: tzdata>=2022.7 in /usr/local/lib/python3.11/dist-packages (from pandas) (2025.2)\n",
            "Requirement already satisfied: contourpy>=1.0.1 in /usr/local/lib/python3.11/dist-packages (from matplotlib) (1.3.2)\n",
            "Requirement already satisfied: cycler>=0.10 in /usr/local/lib/python3.11/dist-packages (from matplotlib) (0.12.1)\n",
            "Requirement already satisfied: fonttools>=4.22.0 in /usr/local/lib/python3.11/dist-packages (from matplotlib) (4.58.0)\n",
            "Requirement already satisfied: kiwisolver>=1.3.1 in /usr/local/lib/python3.11/dist-packages (from matplotlib) (1.4.8)\n",
            "Requirement already satisfied: packaging>=20.0 in /usr/local/lib/python3.11/dist-packages (from matplotlib) (24.2)\n",
            "Requirement already satisfied: pillow>=8 in /usr/local/lib/python3.11/dist-packages (from matplotlib) (11.2.1)\n",
            "Requirement already satisfied: pyparsing>=2.3.1 in /usr/local/lib/python3.11/dist-packages (from matplotlib) (3.2.3)\n",
            "Requirement already satisfied: six>=1.5 in /usr/local/lib/python3.11/dist-packages (from python-dateutil>=2.8.2->pandas) (1.17.0)\n"
          ]
        }
      ],
      "source": [
        "!pip install pandas networkx matplotlib"
      ]
    },
    {
      "cell_type": "code",
      "execution_count": 4,
      "id": "CF-nWCEMeeMw",
      "metadata": {
        "id": "CF-nWCEMeeMw",
        "colab": {
          "base_uri": "https://localhost:8080/"
        },
        "outputId": "7f45d8d0-e800-43bd-fc07-31a5e23bcff4"
      },
      "outputs": [
        {
          "output_type": "stream",
          "name": "stdout",
          "text": [
            "Requirement already satisfied: pyLDAvis in /usr/local/lib/python3.11/dist-packages (3.4.1)\n",
            "Requirement already satisfied: numpy>=1.24.2 in /usr/local/lib/python3.11/dist-packages (from pyLDAvis) (1.26.4)\n",
            "Requirement already satisfied: scipy in /usr/local/lib/python3.11/dist-packages (from pyLDAvis) (1.10.1)\n",
            "Requirement already satisfied: pandas>=2.0.0 in /usr/local/lib/python3.11/dist-packages (from pyLDAvis) (2.2.2)\n",
            "Requirement already satisfied: joblib>=1.2.0 in /usr/local/lib/python3.11/dist-packages (from pyLDAvis) (1.5.0)\n",
            "Requirement already satisfied: jinja2 in /usr/local/lib/python3.11/dist-packages (from pyLDAvis) (3.1.6)\n",
            "Requirement already satisfied: numexpr in /usr/local/lib/python3.11/dist-packages (from pyLDAvis) (2.10.2)\n",
            "Requirement already satisfied: funcy in /usr/local/lib/python3.11/dist-packages (from pyLDAvis) (2.0)\n",
            "Requirement already satisfied: scikit-learn>=1.0.0 in /usr/local/lib/python3.11/dist-packages (from pyLDAvis) (1.6.1)\n",
            "Requirement already satisfied: gensim in /usr/local/lib/python3.11/dist-packages (from pyLDAvis) (4.3.3)\n",
            "Requirement already satisfied: setuptools in /usr/local/lib/python3.11/dist-packages (from pyLDAvis) (75.2.0)\n",
            "Requirement already satisfied: python-dateutil>=2.8.2 in /usr/local/lib/python3.11/dist-packages (from pandas>=2.0.0->pyLDAvis) (2.9.0.post0)\n",
            "Requirement already satisfied: pytz>=2020.1 in /usr/local/lib/python3.11/dist-packages (from pandas>=2.0.0->pyLDAvis) (2025.2)\n",
            "Requirement already satisfied: tzdata>=2022.7 in /usr/local/lib/python3.11/dist-packages (from pandas>=2.0.0->pyLDAvis) (2025.2)\n",
            "Requirement already satisfied: threadpoolctl>=3.1.0 in /usr/local/lib/python3.11/dist-packages (from scikit-learn>=1.0.0->pyLDAvis) (3.6.0)\n",
            "Requirement already satisfied: smart-open>=1.8.1 in /usr/local/lib/python3.11/dist-packages (from gensim->pyLDAvis) (7.1.0)\n",
            "Requirement already satisfied: MarkupSafe>=2.0 in /usr/local/lib/python3.11/dist-packages (from jinja2->pyLDAvis) (3.0.2)\n",
            "Requirement already satisfied: six>=1.5 in /usr/local/lib/python3.11/dist-packages (from python-dateutil>=2.8.2->pandas>=2.0.0->pyLDAvis) (1.17.0)\n",
            "Requirement already satisfied: wrapt in /usr/local/lib/python3.11/dist-packages (from smart-open>=1.8.1->gensim->pyLDAvis) (1.17.2)\n"
          ]
        }
      ],
      "source": [
        "!pip install pyLDAvis"
      ]
    },
    {
      "cell_type": "code",
      "execution_count": 5,
      "id": "7T-1EVrLcz1-",
      "metadata": {
        "colab": {
          "base_uri": "https://localhost:8080/"
        },
        "id": "7T-1EVrLcz1-",
        "outputId": "2408553d-c73f-4988-acf2-45b89a42b9ca"
      },
      "outputs": [
        {
          "output_type": "stream",
          "name": "stdout",
          "text": [
            "Reading package lists... Done\n",
            "Building dependency tree... Done\n",
            "Reading state information... Done\n",
            "graphviz is already the newest version (2.42.2-6ubuntu0.1).\n",
            "libgraphviz-dev is already the newest version (2.42.2-6ubuntu0.1).\n",
            "0 upgraded, 0 newly installed, 0 to remove and 35 not upgraded.\n",
            "Requirement already satisfied: pygraphviz in /usr/local/lib/python3.11/dist-packages (1.14)\n"
          ]
        }
      ],
      "source": [
        "# Instalar o Graphviz e PyGraphviz\n",
        "!apt-get install -y graphviz libgraphviz-dev\n",
        "!pip install pygraphviz"
      ]
    },
    {
      "cell_type": "code",
      "execution_count": 6,
      "id": "524fdee2",
      "metadata": {
        "id": "524fdee2"
      },
      "outputs": [],
      "source": [
        "import numpy as np\n",
        "import networkx as nx"
      ]
    },
    {
      "cell_type": "markdown",
      "id": "388376fb",
      "metadata": {
        "id": "388376fb"
      },
      "source": [
        "# **Questões:**"
      ]
    },
    {
      "cell_type": "markdown",
      "id": "1e9ddbda",
      "metadata": {
        "id": "1e9ddbda"
      },
      "source": [
        "## 1. Considerando o grafo abaixo:"
      ]
    },
    {
      "cell_type": "code",
      "execution_count": 7,
      "id": "4648fe31",
      "metadata": {
        "id": "4648fe31"
      },
      "outputs": [],
      "source": [
        "# graph\n",
        "g = {'S': {('A',7),('B',2),('C',3)},\n",
        "    'A': {('B',3),('D',4),('S',7)},\n",
        "    'B': {('A',3),('D',4),('H',1),('S',2)},\n",
        "    'C': {('L',2),('S',3)},\n",
        "    'D': {('A',4),('B',4),('F',5)},\n",
        "    'E': {('K',5),('G',2)},\n",
        "    'F': {('D',5),('H',4)},\n",
        "    'G': {('H',2),('E',2)},\n",
        "    'H': {('B',1),('F',4),('G',2)},\n",
        "    'I':{('L',4),('J',6),('K',4)},\n",
        "    'J':{('L',4),('I',6),('K',4)},\n",
        "    'K':{('I',4),('J',4),('E',5)},\n",
        "    'L':{('C',2),('J',4),('I',4)}\n",
        "}"
      ]
    },
    {
      "cell_type": "code",
      "execution_count": 8,
      "id": "19cdbc49",
      "metadata": {
        "id": "19cdbc49",
        "colab": {
          "base_uri": "https://localhost:8080/",
          "height": 516
        },
        "outputId": "0d7751f6-e7b6-4803-cf50-18b73f0a7e38"
      },
      "outputs": [
        {
          "output_type": "display_data",
          "data": {
            "text/plain": [
              "<Figure size 640x480 with 1 Axes>"
            ],
            "image/png": "[encoded data removed]"
          },
          "metadata": {}
        }
      ],
      "source": [
        "import matplotlib.pyplot as plt\n",
        "\n",
        "def show_weighted_graph(graph):\n",
        "    \"\"\"\n",
        "    Function to visualize the graph using NetworkX and Matplotlib.\n",
        "    Enters a graph represented as an adjacency list and displays it.\n",
        "    The graph is displayed with nodes, edges, and weights.\n",
        "\n",
        "    Expected format for the graph:\n",
        "    {\n",
        "        'Node1': {('Node2', weight), ('Node3', weight)},\n",
        "        'Node2': {('Node1', weight), ('Node4', weight)},\n",
        "        ...\n",
        "        'NodeN': {('NodeM', weight), ...}\n",
        "    }\n",
        "\n",
        "        Args:\n",
        "            graph (dict): The graph represented as an adjacency list.\n",
        "    \"\"\"\n",
        "\n",
        "    G = nx.Graph()\n",
        "    for node, edges in graph.items():\n",
        "        for edge in edges:\n",
        "            G.add_edge(node, edge[0], weight=edge[1])\n",
        "    pos = nx.spring_layout(G)\n",
        "    nx.draw(G, pos, with_labels=True, node_color='lightblue', node_size=300, font_size=10)\n",
        "    labels = nx.get_edge_attributes(G, 'weight')\n",
        "    nx.draw_networkx_edge_labels(G, pos, edge_labels=labels)\n",
        "\n",
        "    plt.show()\n",
        "\n",
        "show_weighted_graph(g)"
      ]
    },
    {
      "cell_type": "markdown",
      "id": "b7f2740d",
      "metadata": {
        "id": "b7f2740d"
      },
      "source": [
        "## 1.2. Qual ou quais dos algoritmos abaixo eu poderia utilizar para encontrar o caminho com menor custo no grafo acima?\n",
        "\n",
        "- a) [ ] Breadth-First Search (BFS)\n",
        "- b) [ ] Depth-First Search (DFS)\n",
        "- c) [ ] Dijkstra\n",
        "- d) [ ] Minimax"
      ]
    },
    {
      "cell_type": "code",
      "execution_count": 9,
      "id": "3dc8587a",
      "metadata": {
        "id": "3dc8587a"
      },
      "outputs": [],
      "source": [
        "# sua resposta\n",
        "#A opção C"
      ]
    },
    {
      "cell_type": "markdown",
      "id": "8d7d399a",
      "metadata": {
        "id": "8d7d399a"
      },
      "source": [
        "## 1.3. Explique sua escolha(s) na questão anterior:"
      ]
    },
    {
      "cell_type": "code",
      "execution_count": 10,
      "id": "51ae66c3",
      "metadata": {
        "id": "51ae66c3"
      },
      "outputs": [],
      "source": [
        "#O Dijkstra é um algoritmo para encontrar o caminho com menor custo num grafo ponderado, desde que os pesos sejam positivos."
      ]
    },
    {
      "cell_type": "markdown",
      "id": "ac169bb6",
      "metadata": {
        "id": "ac169bb6"
      },
      "source": [
        "## 1.4. Partindo do nó inicial \"S\" (`start_node = 'S'`) e tendo como objetivo chegar ao nó \"E\" (`goal_node = 'E'`), qual o caminho e menor custo possível?"
      ]
    },
    {
      "cell_type": "code",
      "execution_count": 11,
      "id": "6187e56b",
      "metadata": {
        "id": "6187e56b"
      },
      "outputs": [],
      "source": [
        "# start node\n",
        "start_node = 'S'\n",
        "\n",
        "# goal node\n",
        "goal_node = 'E'"
      ]
    },
    {
      "cell_type": "code",
      "execution_count": 12,
      "id": "1c6e287c",
      "metadata": {
        "id": "1c6e287c",
        "colab": {
          "base_uri": "https://localhost:8080/"
        },
        "outputId": "b29c37bb-6e99-4d33-bce2-2e0c43b024c2"
      },
      "outputs": [
        {
          "output_type": "stream",
          "name": "stdout",
          "text": [
            "Caminho mais curto de 'S' até 'E': ['S', 'B', 'H', 'G', 'E']\n",
            "Custo total: 7\n"
          ]
        }
      ],
      "source": [
        "# sua resposta\n",
        "import networkx as nx\n",
        "\n",
        "\n",
        "G = nx.Graph()\n",
        "\n",
        "for origem, destinos in g.items():\n",
        "    for destino, peso in destinos:\n",
        "        G.add_edge(origem, destino, weight=peso)\n",
        "\n",
        "caminho_mais_curto = nx.dijkstra_path(G, start_node, goal_node)\n",
        "custo_total = nx.dijkstra_path_length(G, start_node, goal_node)\n",
        "\n",
        "# Exibir os resultados\n",
        "print(f\"Caminho mais curto de '{start_node}' até '{goal_node}': {caminho_mais_curto}\")\n",
        "print(f\"Custo total: {custo_total}\")\n"
      ]
    },
    {
      "cell_type": "markdown",
      "id": "4cebd20f",
      "metadata": {
        "id": "4cebd20f"
      },
      "source": [
        "## 2. Considerando o grafo abaixo, escolha um dos algoritmos da lista abaixo e encontre o nó desejado:\n",
        "\n",
        "- Breadth-First Search (BFS)\n",
        "- Depth-First Search (DFS)\n",
        "- Dijkstra\n",
        "- Minimax\n",
        "\n",
        "**A solução deve conter o caminho utilizado**\n",
        "- Exemplo:\n",
        "    - para `nó inicial A` e `nó objetivo H`:\n",
        "    - Caminho: ACDBFGDGH\n",
        "\n"
      ]
    },
    {
      "cell_type": "code",
      "execution_count": 13,
      "id": "0aef78e4",
      "metadata": {
        "id": "0aef78e4"
      },
      "outputs": [],
      "source": [
        "grafo = {\n",
        "    'A': {'B': 1, 'C': 1},\n",
        "    'B': {'A': 1, 'D': 1, 'E': 1},\n",
        "    'C': {'A': 1, 'F': 1, 'G': 1},\n",
        "    'D': {'B': 1},\n",
        "    'E': {'B': 1, 'H': 1},\n",
        "    'F': {'C': 1},\n",
        "    'G': {'C': 1, 'H': 1},\n",
        "    'H': {'E': 1, 'G': 1}\n",
        "}\n"
      ]
    },
    {
      "cell_type": "markdown",
      "source": [],
      "metadata": {
        "id": "uw-8NQeZqrp2"
      },
      "id": "uw-8NQeZqrp2"
    },
    {
      "cell_type": "markdown",
      "id": "11b47454",
      "metadata": {
        "id": "11b47454"
      },
      "source": [
        "**A funçao abaixo pode auxiliar na visualização de seu grafo...**"
      ]
    },
    {
      "cell_type": "code",
      "execution_count": 14,
      "id": "5eef3e48",
      "metadata": {
        "id": "5eef3e48"
      },
      "outputs": [],
      "source": [
        "def show_graph(graph):\n",
        "    \"\"\"\n",
        "    Function to visualize the graph using NetworkX and Matplotlib.\n",
        "    Enters a graph represented as an adjacency list and displays it.\n",
        "    The graph is displayed with nodes and edges.\n",
        "\n",
        "    Args:\n",
        "        graph (dict): The graph represented as an adjacency list.\n",
        "    \"\"\"\n",
        "    G = nx.Graph(graph)\n",
        "    pos = nx.spring_layout(G)\n",
        "    nx.draw(G, pos, with_labels=True, node_color='lightblue', node_size=300, font_size=10)\n",
        "    plt.show()\n"
      ]
    },
    {
      "cell_type": "markdown",
      "id": "5ff11b2d",
      "metadata": {
        "id": "5ff11b2d"
      },
      "source": [
        "## 2.1. `Nó inicial A` e `nó objetivo H`"
      ]
    },
    {
      "cell_type": "code",
      "execution_count": 15,
      "id": "1a406c98",
      "metadata": {
        "id": "1a406c98",
        "colab": {
          "base_uri": "https://localhost:8080/"
        },
        "outputId": "a09275d3-9ef1-481e-9db9-2d1640a03066"
      },
      "outputs": [
        {
          "output_type": "stream",
          "name": "stdout",
          "text": [
            "Caminho encontrado de 'A' até 'H' usando DFS: A -> C -> G -> H\n",
            "Ordem completa de visitação: A, C, G, H, E, B, D, F\n"
          ]
        }
      ],
      "source": [
        "def dfs_completo(grafo, inicio, objetivo):\n",
        "    pilha = [(inicio, [inicio])]\n",
        "    visitados = []\n",
        "    caminho_ate_objetivo = None\n",
        "\n",
        "    while pilha:\n",
        "        (no_atual, caminho) = pilha.pop()\n",
        "        if no_atual not in visitados:\n",
        "            visitados.append(no_atual)\n",
        "            if no_atual == objetivo and caminho_ate_objetivo is None:\n",
        "                caminho_ate_objetivo = caminho\n",
        "            for vizinho in grafo[no_atual]:\n",
        "                if vizinho not in visitados:\n",
        "                    pilha.append((vizinho, caminho + [vizinho]))\n",
        "\n",
        "    return caminho_ate_objetivo, visitados\n",
        "\n",
        "# Definir início e objetivo\n",
        "start_node = 'A'\n",
        "goal_node = 'H'\n",
        "\n",
        "# Executar DFS\n",
        "caminho_encontrado, ordem_visita = dfs_completo(grafo, start_node, goal_node)\n",
        "\n",
        "# Exibir o resultado\n",
        "print(f\"Caminho encontrado de '{start_node}' até '{goal_node}' usando DFS: {' -> '.join(caminho_encontrado)}\")\n",
        "print(f\"Ordem completa de visitação: {', '.join(ordem_visita)}\")"
      ]
    },
    {
      "cell_type": "markdown",
      "id": "J_DwFNY3u4wx",
      "metadata": {
        "id": "J_DwFNY3u4wx"
      },
      "source": [
        "## 2.2. `Nó inicial A` e `nó objetivo F`"
      ]
    },
    {
      "cell_type": "code",
      "execution_count": 16,
      "id": "_AGYd6nXu4SZ",
      "metadata": {
        "id": "_AGYd6nXu4SZ",
        "colab": {
          "base_uri": "https://localhost:8080/"
        },
        "outputId": "ec19862f-fa06-473e-b191-08f701976837"
      },
      "outputs": [
        {
          "output_type": "stream",
          "name": "stdout",
          "text": [
            "Caminho encontrado de 'A' até 'F' usando DFS: A -> C -> F\n",
            "Ordem completa de visitação: A, C, G, H, E, B, D, F\n"
          ]
        }
      ],
      "source": [
        "# sua resposta\n",
        "start_node = 'A'\n",
        "goal_node = 'F'\n",
        "\n",
        "# Executar DFS\n",
        "caminho_encontrado, ordem_visita = dfs_completo(grafo, start_node, goal_node)\n",
        "\n",
        "# Exibir o resultado\n",
        "print(f\"Caminho encontrado de '{start_node}' até '{goal_node}' usando DFS: {' -> '.join(caminho_encontrado)}\")\n",
        "print(f\"Ordem completa de visitação: {', '.join(ordem_visita)}\")"
      ]
    },
    {
      "cell_type": "markdown",
      "id": "6b6cee97",
      "metadata": {
        "id": "6b6cee97"
      },
      "source": [
        "## 2.3. Qual estrutura de dados o algoritmo que você escolheu tipicamente usa?\n",
        "\n",
        "- a) [ ] Queue\n",
        "- b) [ ] Heap\n",
        "- c) [ ] Stack\n",
        "- d) [X] Nenhuma das anteriores\n",
        "- e) [ ] Todas as anteriores"
      ]
    },
    {
      "cell_type": "markdown",
      "id": "62cc4a25",
      "metadata": {
        "id": "62cc4a25"
      },
      "source": [
        "## 2.4. Quando usamos o algoritmo de busca em profundidade (DFS), uma vez que tenhamos percorrido todo um caminho na árvore (galho) e não encontramos o nó desejado, o que acontece?"
      ]
    },
    {
      "cell_type": "code",
      "execution_count": 17,
      "id": "9fc567a1",
      "metadata": {
        "id": "9fc567a1"
      },
      "outputs": [],
      "source": [
        "# Quando percorremos um galho todo e não encontramos o nó desejado, o DFS faz\n",
        "#backtracking e continua a explorar outros caminhos possíveis até encontrar o nó ou terminar a árvore."
      ]
    },
    {
      "cell_type": "markdown",
      "id": "8edc7b9d",
      "metadata": {
        "id": "8edc7b9d"
      },
      "source": [
        "## 2.5. Qual algoritmo de busca da lista abaixo garante que se encontra o menor caminho?\n",
        "\n",
        "- a) [X] Breadth-First Search (BFS)\n",
        "- b) [ ] Depth-First Search (DFS)"
      ]
    },
    {
      "cell_type": "code",
      "execution_count": 18,
      "id": "aaa6e628",
      "metadata": {
        "id": "aaa6e628"
      },
      "outputs": [],
      "source": [
        "# a) [X] Breadth-First Search (BFS)"
      ]
    },
    {
      "cell_type": "markdown",
      "id": "Y8rG5Lah5Bvj",
      "metadata": {
        "id": "Y8rG5Lah5Bvj"
      },
      "source": [
        "# 3. Considerando que o grafo abaixo representa os estados possíveis após turnos alternados entre o Jogador 1 (Player 1 - P1) e o Jogador 2 (Player 2 - P2):"
      ]
    },
    {
      "cell_type": "code",
      "execution_count": 19,
      "id": "h5W5zsEzDK8L",
      "metadata": {
        "id": "h5W5zsEzDK8L",
        "colab": {
          "base_uri": "https://localhost:8080/",
          "height": 685
        },
        "outputId": "c8dbf0bd-1988-4844-a799-cd0f32b73f53"
      },
      "outputs": [
        {
          "output_type": "display_data",
          "data": {
            "text/plain": [
              "<Figure size 1200x800 with 1 Axes>"
            ],
            "image/png": "[encoded data removed]"
          },
          "metadata": {}
        }
      ],
      "source": [
        "import networkx as nx\n",
        "import matplotlib.pyplot as plt\n",
        "from networkx.drawing.nx_agraph import graphviz_layout\n",
        "\n",
        "edges = [\n",
        "    (0, 1), (0, 2),\n",
        "    (1, 3), (1, 4),\n",
        "    (2, 5), (2, 6),\n",
        "    (3, 7), (3, 8),\n",
        "    (4, 9), (4, 10),\n",
        "    (5, 11), (5, 12),\n",
        "    (6, 13), (6, 14),\n",
        "]\n",
        "\n",
        "# scores das folhas\n",
        "values = {\n",
        "    7: 0, 8: 4, 9: 4, 10: -8, 11: 7, 12: -4, 13: -10, 14: 5\n",
        "}\n",
        "\n",
        "# adicionando labels A (0) até O (14)\n",
        "labels = {i: chr(65 + i) for i in range(15)}\n",
        "\n",
        "# criar grafo\n",
        "G = nx.DiGraph()\n",
        "G.add_edges_from(edges)\n",
        "\n",
        "# atribuir valores\n",
        "for node in G.nodes:\n",
        "    G.nodes[node][\"value\"] = values.get(node, None)\n",
        "\n",
        "leaf_nodes = [n for n in G.nodes if G.out_degree(n) == 0]\n",
        "\n",
        "# adicionando cores condicionais\n",
        "colors = []\n",
        "for n in G.nodes:\n",
        "    if n in leaf_nodes:\n",
        "        val = G.nodes[n][\"value\"]\n",
        "        if val is not None and val >= 0:\n",
        "            colors.append('lightgreen')\n",
        "        elif val is not None and val < 0:\n",
        "            colors.append('salmon')\n",
        "        else:\n",
        "            colors.append('lightgray')\n",
        "    else:\n",
        "        colors.append('lightblue')\n",
        "\n",
        "# labels com score nas folhas\n",
        "display_labels = {}\n",
        "for n in G.nodes:\n",
        "    if n in leaf_nodes and G.nodes[n][\"value\"] is not None:\n",
        "        display_labels[n] = f\"{labels[n]}\\n{G.nodes[n]['value']}\"\n",
        "    else:\n",
        "        display_labels[n] = labels[n]\n",
        "\n",
        "# layout top-down da árvore\n",
        "pos = graphviz_layout(G, prog=\"dot\")\n",
        "\n",
        "# plot\n",
        "plt.figure(figsize=(12, 8))\n",
        "nx.draw(G, pos,\n",
        "        with_labels=True,\n",
        "        labels=display_labels,\n",
        "        node_color=colors,\n",
        "        node_size=1600,\n",
        "        font_weight=\"bold\",\n",
        "        font_size=10,\n",
        "        arrows=True)\n",
        "\n",
        "plt.title(\"Scores: Verde (positivo) / Vermelho (negativo)\", fontsize=14)\n",
        "plt.axis(\"off\")\n",
        "plt.show()\n"
      ]
    },
    {
      "cell_type": "markdown",
      "id": "_GA1gxDQA-_i",
      "metadata": {
        "id": "_GA1gxDQA-_i"
      },
      "source": [
        "## 3.1. Implemente o Minimax (Busca Adversarial) e responda qual o melhor score possível para o Jogador 1 considerando que este é o primeiro a jogar."
      ]
    },
    {
      "cell_type": "code",
      "execution_count": 20,
      "id": "-WkLEHYqFLOx",
      "metadata": {
        "id": "-WkLEHYqFLOx",
        "colab": {
          "base_uri": "https://localhost:8080/"
        },
        "outputId": "d500f38f-61a0-4abe-9ddd-f395a40a2ac0"
      },
      "outputs": [
        {
          "output_type": "stream",
          "name": "stdout",
          "text": [
            "O melhor score possível para o Jogador 1 (P1) é: 5\n",
            "Caminho ótimo escolhido por P1: A -> C -> G -> O\n"
          ]
        }
      ],
      "source": [
        "# Função Minimax com registo do caminho ótimo\n",
        "def minimax_caminho(node, is_maximizing):\n",
        "    # Se for folha, devolve valor e o caminho até ela\n",
        "    if node in values:\n",
        "        return values[node], [node]\n",
        "\n",
        "    children = list(G.successors(node))\n",
        "\n",
        "    if is_maximizing:\n",
        "        max_val = float('-inf')\n",
        "        best_path = []\n",
        "        for child in children:\n",
        "            val, path = minimax_caminho(child, False)\n",
        "            if val > max_val:\n",
        "                max_val = val\n",
        "                best_path = [node] + path\n",
        "        return max_val, best_path\n",
        "    else:\n",
        "        min_val = float('inf')\n",
        "        best_path = []\n",
        "        for child in children:\n",
        "            val, path = minimax_caminho(child, True)\n",
        "            if val < min_val:\n",
        "                min_val = val\n",
        "                best_path = [node] + path\n",
        "        return min_val, best_path\n",
        "\n",
        "# Jogador 1 começa no nó 0\n",
        "melhor_score, caminho_otimo = minimax_caminho(0, True)\n",
        "# Converte índices para letras para mostrar o caminho\n",
        "caminho_letras = [labels[n] for n in caminho_otimo]\n",
        "\n",
        "print(f\"O melhor score possível para o Jogador 1 (P1) é: {melhor_score}\")\n",
        "print(f\"Caminho ótimo escolhido por P1: {' -> '.join(caminho_letras)}\")\n"
      ]
    },
    {
      "cell_type": "markdown",
      "id": "86pxwufev3Mi",
      "metadata": {
        "id": "86pxwufev3Mi"
      },
      "source": [
        "# 4. Considerando o dataset fornecido:"
      ]
    },
    {
      "cell_type": "code",
      "execution_count": 21,
      "id": "7fad05e1",
      "metadata": {
        "colab": {
          "base_uri": "https://localhost:8080/",
          "height": 558
        },
        "id": "7fad05e1",
        "outputId": "56d57984-6d4a-42d0-b608-f7a9f084c3b8"
      },
      "outputs": [
        {
          "output_type": "stream",
          "name": "stdout",
          "text": [
            "Collecting numpy==1.24.4\n",
            "  Using cached numpy-1.24.4-cp311-cp311-manylinux_2_17_x86_64.manylinux2014_x86_64.whl.metadata (5.6 kB)\n",
            "Requirement already satisfied: scipy==1.10.1 in /usr/local/lib/python3.11/dist-packages (1.10.1)\n",
            "Using cached numpy-1.24.4-cp311-cp311-manylinux_2_17_x86_64.manylinux2014_x86_64.whl (17.3 MB)\n",
            "Installing collected packages: numpy\n",
            "  Attempting uninstall: numpy\n",
            "    Found existing installation: numpy 1.26.4\n",
            "    Uninstalling numpy-1.26.4:\n",
            "      Successfully uninstalled numpy-1.26.4\n",
            "\u001b[31mERROR: pip's dependency resolver does not currently take into account all the packages that are installed. This behaviour is the source of the following dependency conflicts.\n",
            "jaxlib 0.5.1 requires numpy>=1.25, but you have numpy 1.24.4 which is incompatible.\n",
            "jaxlib 0.5.1 requires scipy>=1.11.1, but you have scipy 1.10.1 which is incompatible.\n",
            "pymc 5.22.0 requires numpy>=1.25.0, but you have numpy 1.24.4 which is incompatible.\n",
            "blosc2 3.3.3 requires numpy>=1.26, but you have numpy 1.24.4 which is incompatible.\n",
            "scikit-image 0.25.2 requires scipy>=1.11.4, but you have scipy 1.10.1 which is incompatible.\n",
            "jax 0.5.2 requires numpy>=1.25, but you have numpy 1.24.4 which is incompatible.\n",
            "jax 0.5.2 requires scipy>=1.11.1, but you have scipy 1.10.1 which is incompatible.\n",
            "tensorflow 2.18.0 requires numpy<2.1.0,>=1.26.0, but you have numpy 1.24.4 which is incompatible.\n",
            "tsfresh 0.21.0 requires scipy>=1.14.0; python_version >= \"3.10\", but you have scipy 1.10.1 which is incompatible.\n",
            "thinc 8.3.6 requires numpy<3.0.0,>=2.0.0, but you have numpy 1.24.4 which is incompatible.\n",
            "cvxpy 1.6.5 requires scipy>=1.11.0, but you have scipy 1.10.1 which is incompatible.\n",
            "treescope 0.1.9 requires numpy>=1.25.2, but you have numpy 1.24.4 which is incompatible.\u001b[0m\u001b[31m\n",
            "\u001b[0mSuccessfully installed numpy-1.24.4\n"
          ]
        },
        {
          "output_type": "display_data",
          "data": {
            "application/vnd.colab-display-data+json": {
              "pip_warning": {
                "packages": [
                  "numpy"
                ]
              },
              "id": "766a02efb53c40779221fce395414561"
            }
          },
          "metadata": {}
        }
      ],
      "source": [
        "!pip install numpy==1.24.4 scipy==1.10.1"
      ]
    },
    {
      "cell_type": "code",
      "execution_count": 22,
      "id": "eFSuKxdbPNeM",
      "metadata": {
        "id": "eFSuKxdbPNeM",
        "colab": {
          "base_uri": "https://localhost:8080/"
        },
        "outputId": "2e65be9a-236f-4913-fbe9-33f4f33ed8b4"
      },
      "outputs": [
        {
          "output_type": "stream",
          "name": "stderr",
          "text": [
            "[nltk_data] Downloading package stopwords to /root/nltk_data...\n",
            "[nltk_data]   Package stopwords is already up-to-date!\n"
          ]
        }
      ],
      "source": [
        "import nltk\n",
        "from nltk.corpus import stopwords\n",
        "nltk.download('stopwords')\n",
        "stop = list(set(stopwords.words('portuguese')))\n",
        "import gensim\n",
        "import gensim.corpora as corpora\n",
        "from gensim.models.ldamodel import LdaModel"
      ]
    },
    {
      "cell_type": "code",
      "execution_count": 25,
      "id": "9_pTeG7cRbyg",
      "metadata": {
        "colab": {
          "base_uri": "https://localhost:8080/",
          "height": 206
        },
        "id": "9_pTeG7cRbyg",
        "outputId": "bc70940f-5e12-4d14-a23f-a5821cd6a79d"
      },
      "outputs": [
        {
          "output_type": "execute_result",
          "data": {
            "text/plain": [
              "             titulo                                            sinopse  \\\n",
              "0  We Were Soldiers  A história da primeira grande batalha da fase ...   \n",
              "1            4Got10  Um negócio de drogas dá errado, deixando corpo...   \n",
              "2         Pontypool  Quando o disc jockey Grant Mazzy se reporta à ...   \n",
              "3            Ticker  Depois que o parceiro de um detetive de São Fr...   \n",
              "4       Real Genius  Um adolescente prodígio tenso entra em uma fac...   \n",
              "\n",
              "                                       generos  is_valid  \n",
              "0               ['Ação', 'História', 'Guerra']     False  \n",
              "1                ['Ação', 'Crime', 'Thriller']     False  \n",
              "2  ['Horror', 'Mistério', 'Ficção Científica']     False  \n",
              "3                ['Ação', 'Crime', 'Thriller']     False  \n",
              "4  ['Comédia', 'Romance', 'Ficção Científica']      True  "
            ],
            "text/html": [
              "\n",
              "  <div id=\"df-de1a5097-293a-4f10-9de9-3186bebfee53\" class=\"colab-df-container\">\n",
              "    <div>\n",
              "<style scoped>\n",
              "    .dataframe tbody tr th:only-of-type {\n",
              "        vertical-align: middle;\n",
              "    }\n",
              "\n",
              "    .dataframe tbody tr th {\n",
              "        vertical-align: top;\n",
              "    }\n",
              "\n",
              "    .dataframe thead th {\n",
              "        text-align: right;\n",
              "    }\n",
              "</style>\n",
              "<table border=\"1\" class=\"dataframe\">\n",
              "  <thead>\n",
              "    <tr style=\"text-align: right;\">\n",
              "      <th></th>\n",
              "      <th>titulo</th>\n",
              "      <th>sinopse</th>\n",
              "      <th>generos</th>\n",
              "      <th>is_valid</th>\n",
              "    </tr>\n",
              "  </thead>\n",
              "  <tbody>\n",
              "    <tr>\n",
              "      <th>0</th>\n",
              "      <td>We Were Soldiers</td>\n",
              "      <td>A história da primeira grande batalha da fase ...</td>\n",
              "      <td>['Ação', 'História', 'Guerra']</td>\n",
              "      <td>False</td>\n",
              "    </tr>\n",
              "    <tr>\n",
              "      <th>1</th>\n",
              "      <td>4Got10</td>\n",
              "      <td>Um negócio de drogas dá errado, deixando corpo...</td>\n",
              "      <td>['Ação', 'Crime', 'Thriller']</td>\n",
              "      <td>False</td>\n",
              "    </tr>\n",
              "    <tr>\n",
              "      <th>2</th>\n",
              "      <td>Pontypool</td>\n",
              "      <td>Quando o disc jockey Grant Mazzy se reporta à ...</td>\n",
              "      <td>['Horror', 'Mistério', 'Ficção Científica']</td>\n",
              "      <td>False</td>\n",
              "    </tr>\n",
              "    <tr>\n",
              "      <th>3</th>\n",
              "      <td>Ticker</td>\n",
              "      <td>Depois que o parceiro de um detetive de São Fr...</td>\n",
              "      <td>['Ação', 'Crime', 'Thriller']</td>\n",
              "      <td>False</td>\n",
              "    </tr>\n",
              "    <tr>\n",
              "      <th>4</th>\n",
              "      <td>Real Genius</td>\n",
              "      <td>Um adolescente prodígio tenso entra em uma fac...</td>\n",
              "      <td>['Comédia', 'Romance', 'Ficção Científica']</td>\n",
              "      <td>True</td>\n",
              "    </tr>\n",
              "  </tbody>\n",
              "</table>\n",
              "</div>\n",
              "    <div class=\"colab-df-buttons\">\n",
              "\n",
              "  <div class=\"colab-df-container\">\n",
              "    <button class=\"colab-df-convert\" onclick=\"convertToInteractive('df-de1a5097-293a-4f10-9de9-3186bebfee53')\"\n",
              "            title=\"Convert this dataframe to an interactive table.\"\n",
              "            style=\"display:none;\">\n",
              "\n",
              "  <svg xmlns=\"http://www.w3.org/2000/svg\" height=\"24px\" viewBox=\"0 -960 960 960\">\n",
              "    <path d=\"M120-120v-720h720v720H120Zm60-500h600v-160H180v160Zm220 220h160v-160H400v160Zm0 220h160v-160H400v160ZM180-400h160v-160H180v160Zm440 0h160v-160H620v160ZM180-180h160v-160H180v160Zm440 0h160v-160H620v160Z\"/>\n",
              "  </svg>\n",
              "    </button>\n",
              "\n",
              "  <style>\n",
              "    .colab-df-container {\n",
              "      display:flex;\n",
              "      gap: 12px;\n",
              "    }\n",
              "\n",
              "    .colab-df-convert {\n",
              "      background-color: #E8F0FE;\n",
              "      border: none;\n",
              "      border-radius: 50%;\n",
              "      cursor: pointer;\n",
              "      display: none;\n",
              "      fill: #1967D2;\n",
              "      height: 32px;\n",
              "      padding: 0 0 0 0;\n",
              "      width: 32px;\n",
              "    }\n",
              "\n",
              "    .colab-df-convert:hover {\n",
              "      background-color: #E2EBFA;\n",
              "      box-shadow: 0px 1px 2px rgba(60, 64, 67, 0.3), 0px 1px 3px 1px rgba(60, 64, 67, 0.15);\n",
              "      fill: #174EA6;\n",
              "    }\n",
              "\n",
              "    .colab-df-buttons div {\n",
              "      margin-bottom: 4px;\n",
              "    }\n",
              "\n",
              "    [theme=dark] .colab-df-convert {\n",
              "      background-color: #3B4455;\n",
              "      fill: #D2E3FC;\n",
              "    }\n",
              "\n",
              "    [theme=dark] .colab-df-convert:hover {\n",
              "      background-color: #434B5C;\n",
              "      box-shadow: 0px 1px 3px 1px rgba(0, 0, 0, 0.15);\n",
              "      filter: drop-shadow(0px 1px 2px rgba(0, 0, 0, 0.3));\n",
              "      fill: #FFFFFF;\n",
              "    }\n",
              "  </style>\n",
              "\n",
              "    <script>\n",
              "      const buttonEl =\n",
              "        document.querySelector('#df-de1a5097-293a-4f10-9de9-3186bebfee53 button.colab-df-convert');\n",
              "      buttonEl.style.display =\n",
              "        google.colab.kernel.accessAllowed ? 'block' : 'none';\n",
              "\n",
              "      async function convertToInteractive(key) {\n",
              "        const element = document.querySelector('#df-de1a5097-293a-4f10-9de9-3186bebfee53');\n",
              "        const dataTable =\n",
              "          await google.colab.kernel.invokeFunction('convertToInteractive',\n",
              "                                                    [key], {});\n",
              "        if (!dataTable) return;\n",
              "\n",
              "        const docLinkHtml = 'Like what you see? Visit the ' +\n",
              "          '<a target=\"_blank\" href=https://colab.research.google.com/notebooks/data_table.ipynb>data table notebook</a>'\n",
              "          + ' to learn more about interactive tables.';\n",
              "        element.innerHTML = '';\n",
              "        dataTable['output_type'] = 'display_data';\n",
              "        await google.colab.output.renderOutput(dataTable, element);\n",
              "        const docLink = document.createElement('div');\n",
              "        docLink.innerHTML = docLinkHtml;\n",
              "        element.appendChild(docLink);\n",
              "      }\n",
              "    </script>\n",
              "  </div>\n",
              "\n",
              "\n",
              "    <div id=\"df-a293133d-e96f-4fc5-9138-d3a3227ac7d4\">\n",
              "      <button class=\"colab-df-quickchart\" onclick=\"quickchart('df-a293133d-e96f-4fc5-9138-d3a3227ac7d4')\"\n",
              "                title=\"Suggest charts\"\n",
              "                style=\"display:none;\">\n",
              "\n",
              "<svg xmlns=\"http://www.w3.org/2000/svg\" height=\"24px\"viewBox=\"0 0 24 24\"\n",
              "     width=\"24px\">\n",
              "    <g>\n",
              "        <path d=\"M19 3H5c-1.1 0-2 .9-2 2v14c0 1.1.9 2 2 2h14c1.1 0 2-.9 2-2V5c0-1.1-.9-2-2-2zM9 17H7v-7h2v7zm4 0h-2V7h2v10zm4 0h-2v-4h2v4z\"/>\n",
              "    </g>\n",
              "</svg>\n",
              "      </button>\n",
              "\n",
              "<style>\n",
              "  .colab-df-quickchart {\n",
              "      --bg-color: #E8F0FE;\n",
              "      --fill-color: #1967D2;\n",
              "      --hover-bg-color: #E2EBFA;\n",
              "      --hover-fill-color: #174EA6;\n",
              "      --disabled-fill-color: #AAA;\n",
              "      --disabled-bg-color: #DDD;\n",
              "  }\n",
              "\n",
              "  [theme=dark] .colab-df-quickchart {\n",
              "      --bg-color: #3B4455;\n",
              "      --fill-color: #D2E3FC;\n",
              "      --hover-bg-color: #434B5C;\n",
              "      --hover-fill-color: #FFFFFF;\n",
              "      --disabled-bg-color: #3B4455;\n",
              "      --disabled-fill-color: #666;\n",
              "  }\n",
              "\n",
              "  .colab-df-quickchart {\n",
              "    background-color: var(--bg-color);\n",
              "    border: none;\n",
              "    border-radius: 50%;\n",
              "    cursor: pointer;\n",
              "    display: none;\n",
              "    fill: var(--fill-color);\n",
              "    height: 32px;\n",
              "    padding: 0;\n",
              "    width: 32px;\n",
              "  }\n",
              "\n",
              "  .colab-df-quickchart:hover {\n",
              "    background-color: var(--hover-bg-color);\n",
              "    box-shadow: 0 1px 2px rgba(60, 64, 67, 0.3), 0 1px 3px 1px rgba(60, 64, 67, 0.15);\n",
              "    fill: var(--button-hover-fill-color);\n",
              "  }\n",
              "\n",
              "  .colab-df-quickchart-complete:disabled,\n",
              "  .colab-df-quickchart-complete:disabled:hover {\n",
              "    background-color: var(--disabled-bg-color);\n",
              "    fill: var(--disabled-fill-color);\n",
              "    box-shadow: none;\n",
              "  }\n",
              "\n",
              "  .colab-df-spinner {\n",
              "    border: 2px solid var(--fill-color);\n",
              "    border-color: transparent;\n",
              "    border-bottom-color: var(--fill-color);\n",
              "    animation:\n",
              "      spin 1s steps(1) infinite;\n",
              "  }\n",
              "\n",
              "  @keyframes spin {\n",
              "    0% {\n",
              "      border-color: transparent;\n",
              "      border-bottom-color: var(--fill-color);\n",
              "      border-left-color: var(--fill-color);\n",
              "    }\n",
              "    20% {\n",
              "      border-color: transparent;\n",
              "      border-left-color: var(--fill-color);\n",
              "      border-top-color: var(--fill-color);\n",
              "    }\n",
              "    30% {\n",
              "      border-color: transparent;\n",
              "      border-left-color: var(--fill-color);\n",
              "      border-top-color: var(--fill-color);\n",
              "      border-right-color: var(--fill-color);\n",
              "    }\n",
              "    40% {\n",
              "      border-color: transparent;\n",
              "      border-right-color: var(--fill-color);\n",
              "      border-top-color: var(--fill-color);\n",
              "    }\n",
              "    60% {\n",
              "      border-color: transparent;\n",
              "      border-right-color: var(--fill-color);\n",
              "    }\n",
              "    80% {\n",
              "      border-color: transparent;\n",
              "      border-right-color: var(--fill-color);\n",
              "      border-bottom-color: var(--fill-color);\n",
              "    }\n",
              "    90% {\n",
              "      border-color: transparent;\n",
              "      border-bottom-color: var(--fill-color);\n",
              "    }\n",
              "  }\n",
              "</style>\n",
              "\n",
              "      <script>\n",
              "        async function quickchart(key) {\n",
              "          const quickchartButtonEl =\n",
              "            document.querySelector('#' + key + ' button');\n",
              "          quickchartButtonEl.disabled = true;  // To prevent multiple clicks.\n",
              "          quickchartButtonEl.classList.add('colab-df-spinner');\n",
              "          try {\n",
              "            const charts = await google.colab.kernel.invokeFunction(\n",
              "                'suggestCharts', [key], {});\n",
              "          } catch (error) {\n",
              "            console.error('Error during call to suggestCharts:', error);\n",
              "          }\n",
              "          quickchartButtonEl.classList.remove('colab-df-spinner');\n",
              "          quickchartButtonEl.classList.add('colab-df-quickchart-complete');\n",
              "        }\n",
              "        (() => {\n",
              "          let quickchartButtonEl =\n",
              "            document.querySelector('#df-a293133d-e96f-4fc5-9138-d3a3227ac7d4 button');\n",
              "          quickchartButtonEl.style.display =\n",
              "            google.colab.kernel.accessAllowed ? 'block' : 'none';\n",
              "        })();\n",
              "      </script>\n",
              "    </div>\n",
              "\n",
              "    </div>\n",
              "  </div>\n"
            ],
            "application/vnd.google.colaboratory.intrinsic+json": {
              "type": "dataframe",
              "variable_name": "df_train",
              "summary": "{\n  \"name\": \"df_train\",\n  \"rows\": 17947,\n  \"fields\": [\n    {\n      \"column\": \"titulo\",\n      \"properties\": {\n        \"dtype\": \"string\",\n        \"num_unique_values\": 13932,\n        \"samples\": [\n          \"Dangerous Men\",\n          \"La Vie est un long fleuve tranquille\",\n          \"7 Below\"\n        ],\n        \"semantic_type\": \"\",\n        \"description\": \"\"\n      }\n    },\n    {\n      \"column\": \"sinopse\",\n      \"properties\": {\n        \"dtype\": \"string\",\n        \"num_unique_values\": 16904,\n        \"samples\": [\n          \"Dois vendedores destroem um caminh\\u00e3o da empresa em um entornador movido a bebida energ\\u00e9tica. Ap\\u00f3s a pris\\u00e3o, o tribunal d\\u00e1 a eles uma escolha: cumprir pena ou passar 150 horas de servi\\u00e7o em um programa de orienta\\u00e7\\u00e3o. Depois de um dia com as crian\\u00e7as, no entanto, a pris\\u00e3o n\\u00e3o parece t\\u00e3o ruim.\",\n          \"Eliza e Debbie s\\u00e3o duas irm\\u00e3s que nem sempre se d\\u00e3o bem. Mas o relacionamento deles \\u00e9 posto \\u00e0 prova quando a vida de Debbie est\\u00e1 em perigo, e Eliza pode ter que desistir de seu poder de falar com os animais....\",\n          \"Anos ap\\u00f3s a morte de sua filha adolescente, Lois e Doug Riley, um casal honesto de Indiana, est\\u00e3o congelados por uma dor distante. Doug foge para Nova Orleans em uma viagem de neg\\u00f3cios. Compelido por urg\\u00eancias que n\\u00e3o entende, ele se insinua na vida de uma prostituta menor de idade, tornando-se seu guardi\\u00e3o plat\\u00f4nico.\"\n        ],\n        \"semantic_type\": \"\",\n        \"description\": \"\"\n      }\n    },\n    {\n      \"column\": \"generos\",\n      \"properties\": {\n        \"dtype\": \"category\",\n        \"num_unique_values\": 2016,\n        \"samples\": [\n          \"['Drama', 'Thriller', 'Mist\\u00e9rio', 'Guerra']\",\n          \"['Aventura', 'Fam\\u00edlia', 'Fantasia', 'Com\\u00e9dia', 'Romance']\",\n          \"['A\\u00e7\\u00e3o', 'Fam\\u00edlia', 'Horror']\"\n        ],\n        \"semantic_type\": \"\",\n        \"description\": \"\"\n      }\n    },\n    {\n      \"column\": \"is_valid\",\n      \"properties\": {\n        \"dtype\": \"boolean\",\n        \"num_unique_values\": 2,\n        \"samples\": [\n          true,\n          false\n        ],\n        \"semantic_type\": \"\",\n        \"description\": \"\"\n      }\n    }\n  ]\n}"
            }
          },
          "metadata": {},
          "execution_count": 25
        }
      ],
      "source": [
        "import pandas as pd\n",
        "\n",
        "df_train = pd.read_csv(\"sinopsys_train.csv\")\n",
        "df_test = pd.read_csv(\"sinopsys_test.csv\")\n",
        "\n",
        "df_train.head()"
      ]
    },
    {
      "cell_type": "code",
      "execution_count": 26,
      "id": "yfMXdockSA7R",
      "metadata": {
        "colab": {
          "base_uri": "https://localhost:8080/"
        },
        "id": "yfMXdockSA7R",
        "outputId": "85b6b4ee-e63f-49e8-cf41-b5ce7c420b78"
      },
      "outputs": [
        {
          "output_type": "execute_result",
          "data": {
            "text/plain": [
              "['A história da primeira grande batalha da fase americana da Guerra do Vietnã e os soldados de ambos os lados que a travaram.',\n",
              " 'Um negócio de drogas dá errado, deixando corpos. Um xerife atira em seu vice pelo dinheiro e um amnésico ferido atira no xerife e foge com $ 3.000.000. A DEA investiga, assim como o traficante pai do deputado morto.',\n",
              " 'Quando o disc jockey Grant Mazzy se reporta à estação de rádio de seu porão na cidade canadense de Pontypool, ele pensa que é apenas mais um dia de trabalho. Mas quando ouve relatos de um vírus que transforma as pessoas em zumbis, Mazzy se barrica na cabine de rádio e tenta descobrir uma maneira de alertar seus ouvintes sobre o vírus e seu improvável modo de transmissão.',\n",
              " 'Depois que o parceiro de um detetive de São Francisco é assassinado por terroristas da Irlanda do Norte, o policial se junta ao esquadrão antibomba para levá-los à justiça.',\n",
              " 'Um adolescente prodígio tenso entra em uma faculdade de engenharia de ponta, mas se sente estranho entre os alunos despreocupados. Quando um professor pretende transformar seu projeto de laser em uma arma militar, ele e seu excêntrico colega de quarto planejam arruinar o plano.',\n",
              " 'Em uma Terra alternativa, o Coringa engana o Superman para matar Lois Lane, o que causa uma agitação no herói. Superman decide assumir o controle da Terra; Batman e seus aliados terão que tentar detê-lo.',\n",
              " 'Depois que seu pai (Tim Robbins) é chamado para trabalhar, dois meninos, Walter (Josh Hutcherson) e Danny (Jonah Bobo), são deixados aos cuidados de sua irmã adolescente, Lisa (Kristen Stewart), e devem ficar dentro de casa. . Walter e Danny, que antecipam um dia chato, ficam chocados quando começam a jogar Zathura, um jogo de tabuleiro com tema espacial, que eles percebem ter poderes místicos quando sua casa é lançada no espaço. Com a ajuda de um astronauta (Dax Shepard), os meninos tentam voltar para casa.',\n",
              " 'Após um colapso nervoso e uma tentativa de suicídio, um ator envelhecido se envolve com uma mulher muito mais jovem, mas logo descobre que é difícil acompanhá-la.',\n",
              " 'Assim que Dan e Kristi dão as boas-vindas a um bebê recém-nascido em sua casa, uma presença demoníaca começa a aterrorizá-los, destruindo seu mundo perfeito e transformando-o em um pesadelo inevitável. As câmeras de segurança capturam o tormento, tornando cada minuto terrivelmente real.',\n",
              " 'Três trapalhões reservistas do Exército com destino ao Iraque são acidentalmente jogados em um vilarejo mexicano sitiado por forças hostis.']"
            ]
          },
          "metadata": {},
          "execution_count": 26
        }
      ],
      "source": [
        "from sklearn.feature_extraction.text import CountVectorizer\n",
        "\n",
        "# Define o corpus a partir da coluna desejada\n",
        "corpus = df_train[\"sinopse\"].dropna().astype(str).tolist()\n",
        "corpus[:10]"
      ]
    },
    {
      "cell_type": "markdown",
      "id": "pcooh_i_v_Bq",
      "metadata": {
        "id": "pcooh_i_v_Bq"
      },
      "source": [
        "## 4.1. Crie uma função que implemente um pipeline de préprocessamento apropriado"
      ]
    },
    {
      "cell_type": "code",
      "execution_count": 35,
      "id": "2mWM-3H8yp7I",
      "metadata": {
        "id": "2mWM-3H8yp7I",
        "colab": {
          "base_uri": "https://localhost:8080/"
        },
        "outputId": "54729a0b-eedf-49f9-b1e9-177b8ff0af87"
      },
      "outputs": [
        {
          "output_type": "stream",
          "name": "stderr",
          "text": [
            "[nltk_data] Downloading package stopwords to /root/nltk_data...\n",
            "[nltk_data]   Package stopwords is already up-to-date!\n"
          ]
        },
        {
          "output_type": "stream",
          "name": "stdout",
          "text": [
            "Original: A história da primeira grande batalha da fase americana da Guerra do Vietnã e os soldados de ambos os lados que a travaram.\n",
            "Pré-processado: história primeira grande batalha fase americana guerra vietnã soldados ambos lados travaram\n",
            "\n",
            "Original: Um negócio de drogas dá errado, deixando corpos. Um xerife atira em seu vice pelo dinheiro e um amnésico ferido atira no xerife e foge com $ 3.000.000. A DEA investiga, assim como o traficante pai do deputado morto.\n",
            "Pré-processado: negócio drogas dá errado deixando corpos xerife atira vice dinheiro amnésico ferido atira xerife foge dea investiga assim traficante pai deputado morto\n",
            "\n",
            "Original: Quando o disc jockey Grant Mazzy se reporta à estação de rádio de seu porão na cidade canadense de Pontypool, ele pensa que é apenas mais um dia de trabalho. Mas quando ouve relatos de um vírus que transforma as pessoas em zumbis, Mazzy se barrica na cabine de rádio e tenta descobrir uma maneira de alertar seus ouvintes sobre o vírus e seu improvável modo de transmissão.\n",
            "Pré-processado: disc jockey grant mazzy reporta estação rádio porão cidade canadense pontypool pensa apenas dia trabalho ouve relatos vírus transforma pessoas zumbis mazzy barrica cabine rádio tenta descobrir maneira alertar ouvintes sobre vírus improvável modo transmissão\n",
            "\n"
          ]
        }
      ],
      "source": [
        "import re\n",
        "import nltk\n",
        "from nltk.corpus import stopwords\n",
        "\n",
        "# Certificar que as stopwords estão disponíveis\n",
        "nltk.download('stopwords')\n",
        "\n",
        "def preprocess_pipeline(corpus):\n",
        "    stop_words = set(stopwords.words('portuguese'))\n",
        "    processed_corpus = []\n",
        "\n",
        "    for doc in corpus:\n",
        "        # Converter para minúsculas\n",
        "        doc = doc.lower()\n",
        "\n",
        "        # Remover pontuação e caracteres especiais\n",
        "        doc = re.sub(r'[^a-záéíóúàèìòùâêîôûãõç\\s]', '', doc)\n",
        "\n",
        "        # Tokenização\n",
        "        tokens = doc.split()\n",
        "\n",
        "        # Remover stopwords\n",
        "        tokens = [word for word in tokens if word not in stop_words]\n",
        "\n",
        "        # Reconstruir a frase\n",
        "        cleaned_doc = ' '.join(tokens)\n",
        "        processed_corpus.append(cleaned_doc)\n",
        "\n",
        "    return processed_corpus\n",
        "\n",
        "# Exemplo de utilização\n",
        "corpus = df_train['sinopse'].dropna().astype(str).tolist()\n",
        "corpus_clean = preprocess_pipeline(corpus)\n",
        "\n",
        "# Mostrar os primeiros exemplos\n",
        "for i in range(3):\n",
        "    print(f\"Original: {corpus[i]}\")\n",
        "    print(f\"Pré-processado: {corpus_clean[i]}\\n\")\n"
      ]
    },
    {
      "cell_type": "markdown",
      "id": "JV4HhAiUxV7d",
      "metadata": {
        "id": "JV4HhAiUxV7d"
      },
      "source": [
        "## 4.2. Represente através de uma Bag of Words."
      ]
    },
    {
      "cell_type": "code",
      "execution_count": 36,
      "id": "EIeq5t2Jxn5t",
      "metadata": {
        "id": "EIeq5t2Jxn5t",
        "colab": {
          "base_uri": "https://localhost:8080/"
        },
        "outputId": "16223851-0872-4e3d-e5ec-ead6db9fa2e9"
      },
      "outputs": [
        {
          "output_type": "stream",
          "name": "stdout",
          "text": [
            "Primeiras 10 palavras do vocabulário: ['aa' 'aaa' 'aaaah' 'aadland' 'aaliya' 'aames' 'aamir' 'aang' 'aaron'\n",
            " 'aarons']\n",
            "Primeiras 5 amostras do corpus (Bag of Words):\n",
            "[[0 0 0 ... 0 0 0]\n",
            " [0 0 0 ... 0 0 0]\n",
            " [0 0 0 ... 0 0 0]\n",
            " [0 0 0 ... 0 0 0]\n",
            " [0 0 0 ... 0 0 0]]\n"
          ]
        }
      ],
      "source": [
        "from sklearn.feature_extraction.text import CountVectorizer\n",
        "\n",
        "# Pré-processar o corpus (usando a função do item 4.1)\n",
        "corpus = df_train['sinopse'].dropna().astype(str).tolist()\n",
        "corpus_clean = preprocess_pipeline(corpus)\n",
        "\n",
        "# Criar o modelo Bag of Words\n",
        "vectorizer = CountVectorizer()\n",
        "X_bow = vectorizer.fit_transform(corpus_clean)\n",
        "\n",
        "# Exibir as primeiras 10 palavras do vocabulário\n",
        "print(f\"Primeiras 10 palavras do vocabulário: {vectorizer.get_feature_names_out()[:10]}\")\n",
        "\n",
        "# Exibir as primeiras 5 amostras do corpus em formato matriz\n",
        "print(\"Primeiras 5 amostras do corpus (Bag of Words):\")\n",
        "print(X_bow.toarray()[:5])\n"
      ]
    },
    {
      "cell_type": "markdown",
      "id": "-SbqNaKzWi7Z",
      "metadata": {
        "id": "-SbqNaKzWi7Z"
      },
      "source": [
        "## 4.3. Quais os top-10 palavras mais frequentes no corpus que não sejam stopwords?"
      ]
    },
    {
      "cell_type": "code",
      "execution_count": 37,
      "id": "IFpIJM1oWwAK",
      "metadata": {
        "id": "IFpIJM1oWwAK",
        "colab": {
          "base_uri": "https://localhost:8080/"
        },
        "outputId": "35b5622d-1783-4d87-bfc2-760c4b1565db"
      },
      "outputs": [
        {
          "output_type": "stream",
          "name": "stdout",
          "text": [
            "Top 10 palavras mais frequentes (não stopwords):\n",
            "vida: 2539\n",
            "anos: 1880\n",
            "enquanto: 1865\n",
            "jovem: 1666\n",
            "cidade: 1648\n",
            "dois: 1433\n",
            "família: 1432\n",
            "história: 1418\n",
            "mundo: 1408\n",
            "homem: 1327\n"
          ]
        }
      ],
      "source": [
        "import numpy as np\n",
        "\n",
        "# Obter contagens das palavras na matriz Bag of Words\n",
        "somas = np.array(X_bow.sum(axis=0)).flatten()\n",
        "palavras = vectorizer.get_feature_names_out()\n",
        "\n",
        "# Obter índices das 10 palavras mais frequentes\n",
        "indices_top10 = somas.argsort()[-10:][::-1]\n",
        "top10_palavras = [(palavras[i], somas[i]) for i in indices_top10]\n",
        "\n",
        "# Exibir o Top-10\n",
        "print(\"Top 10 palavras mais frequentes (não stopwords):\")\n",
        "for palavra, contagem in top10_palavras:\n",
        "    print(f\"{palavra}: {contagem}\")\n"
      ]
    },
    {
      "cell_type": "markdown",
      "id": "ROxXGTkAxsSt",
      "metadata": {
        "id": "ROxXGTkAxsSt"
      },
      "source": [
        "## 4.4. Calcule a similaridade cosseno entre dois documentos à sua escolha e comente o resultado."
      ]
    },
    {
      "cell_type": "code",
      "execution_count": 38,
      "id": "pWcDOlP_yOxP",
      "metadata": {
        "id": "pWcDOlP_yOxP",
        "colab": {
          "base_uri": "https://localhost:8080/"
        },
        "outputId": "5c61c899-767d-4b72-da6a-0689cf18efa1"
      },
      "outputs": [
        {
          "output_type": "stream",
          "name": "stdout",
          "text": [
            "Similaridade cosseno entre doc1 e doc2: 0.0000\n"
          ]
        }
      ],
      "source": [
        "from sklearn.metrics.pairwise import cosine_similarity\n",
        "\n",
        "# Escolher dois documentos do corpus\n",
        "doc1 = X_bow[0]  # Primeiro documento\n",
        "doc2 = X_bow[1]  # Segundo documento\n",
        "\n",
        "# Calcular similaridade cosseno\n",
        "sim = cosine_similarity(doc1, doc2)\n",
        "print(f\"Similaridade cosseno entre doc1 e doc2: {sim[0][0]:.4f}\")\n"
      ]
    },
    {
      "cell_type": "markdown",
      "id": "9HysSdnZ2ltO",
      "metadata": {
        "id": "9HysSdnZ2ltO"
      },
      "source": [
        "## 4.5.Implemente o Word2Vec e selecione um contexto presente no corpus (**a seu critério**). Qual palavra o modelo preveu?"
      ]
    },
    {
      "cell_type": "code",
      "execution_count": 39,
      "id": "xvNq-Ku53Z5A",
      "metadata": {
        "id": "xvNq-Ku53Z5A",
        "colab": {
          "base_uri": "https://localhost:8080/"
        },
        "outputId": "71d4a5f3-8dbb-4e85-c824-04247238c62b"
      },
      "outputs": [
        {
          "output_type": "stream",
          "name": "stderr",
          "text": [
            "[nltk_data] Downloading package punkt to /root/nltk_data...\n",
            "[nltk_data]   Package punkt is already up-to-date!\n",
            "[nltk_data] Downloading package punkt_tab to /root/nltk_data...\n",
            "[nltk_data]   Package punkt_tab is already up-to-date!\n"
          ]
        },
        {
          "output_type": "stream",
          "name": "stdout",
          "text": [
            "Palavra mais similar ao contexto ['herói']: criminoso com similaridade 0.9460\n"
          ]
        }
      ],
      "source": [
        "from gensim.models import Word2Vec\n",
        "from nltk.tokenize import word_tokenize\n",
        "import nltk\n",
        "\n",
        "# Certificar que os dados necessários estão disponíveis\n",
        "nltk.download('punkt')\n",
        "nltk.download('punkt_tab')\n",
        "\n",
        "# Preparar o corpus tokenizado para o Word2Vec\n",
        "corpus_tokens = [word_tokenize(doc.lower()) for doc in corpus]\n",
        "\n",
        "# Treinar o modelo Word2Vec\n",
        "model = Word2Vec(corpus_tokens, vector_size=100, window=5, min_count=1, workers=4)\n",
        "\n",
        "# Selecionar um contexto presente no corpus, por exemplo: 'herói'\n",
        "contexto = ['herói']\n",
        "\n",
        "# Obter a palavra mais similar ao contexto escolhido\n",
        "try:\n",
        "    palavras_similares = model.wv.most_similar(positive=contexto, topn=1)\n",
        "    if palavras_similares:\n",
        "        palavra_prevista = palavras_similares[0][0]\n",
        "        similaridade = palavras_similares[0][1]\n",
        "        print(f\"Palavra mais similar ao contexto {contexto}: {palavra_prevista} com similaridade {similaridade:.4f}\")\n",
        "    else:\n",
        "        print(f\"Não foi possível encontrar palavras similares para o contexto {contexto}.\")\n",
        "except KeyError:\n",
        "    print(f\"A palavra '{contexto[0]}' não está no vocabulário do modelo.\")\n",
        "except Exception as e:\n",
        "    print(f\"Ocorreu um erro: {e}\")\n"
      ]
    },
    {
      "cell_type": "code",
      "source": [],
      "metadata": {
        "id": "woaD0okyyDJt"
      },
      "id": "woaD0okyyDJt",
      "execution_count": null,
      "outputs": []
    },
    {
      "cell_type": "markdown",
      "id": "NlZc8pRj3cvA",
      "metadata": {
        "id": "NlZc8pRj3cvA"
      },
      "source": [
        "## 4.6. A abordagem acima foi:\n",
        "\n",
        "- a) [ ] Skip-gram\n",
        "- b) [X] CBOW"
      ]
    },
    {
      "cell_type": "code",
      "execution_count": null,
      "id": "hmsioDbI3r_Q",
      "metadata": {
        "id": "hmsioDbI3r_Q"
      },
      "outputs": [],
      "source": [
        "# sua resposta\n",
        "#b) [X] CBOW"
      ]
    },
    {
      "cell_type": "markdown",
      "id": "Y3FMm0wh31zw",
      "metadata": {
        "id": "Y3FMm0wh31zw"
      },
      "source": [
        "## 4.7. Duplicar o tamanho do contexto para o caso acima teria impacto positivo ou negativo?"
      ]
    },
    {
      "cell_type": "code",
      "execution_count": null,
      "id": "bgs0xyGN4WVz",
      "metadata": {
        "id": "bgs0xyGN4WVz"
      },
      "outputs": [],
      "source": [
        "# sua resposta\n",
        "#Duplicar o contexto teria um impacto positivo, pois capturaria mais relações\n",
        "#semânticas, mas com o risco de incluir ruído e aumentar o tempo de treino."
      ]
    },
    {
      "cell_type": "markdown",
      "id": "rWEoRyNCwU9b",
      "metadata": {
        "id": "rWEoRyNCwU9b"
      },
      "source": [
        "## 4.8. Implemente o LDA"
      ]
    },
    {
      "cell_type": "code",
      "execution_count": 42,
      "id": "tUPJkO8Pwh1T",
      "metadata": {
        "id": "tUPJkO8Pwh1T",
        "colab": {
          "base_uri": "https://localhost:8080/"
        },
        "outputId": "22e7b31c-8cf8-442e-a447-30d9370511f0"
      },
      "outputs": [
        {
          "output_type": "stream",
          "name": "stdout",
          "text": [
            "Tópico 0: 0.018*\"dois\" + 0.010*\"amigos\" + 0.008*\"três\" + 0.008*\"grupo\" + 0.007*\"cidade\" + 0.006*\"enquanto\" + 0.005*\"contra\" + 0.005*\"devem\" + 0.005*\"drogas\" + 0.004*\"vidas\"\n",
            "Tópico 1: 0.029*\"guerra\" + 0.015*\"mundial\" + 0.012*\"durante\" + 0.011*\"segunda\" + 0.010*\"rei\" + 0.007*\"contra\" + 0.007*\"exército\" + 0.005*\"missão\" + 0.005*\"capitão\" + 0.005*\"deve\"\n",
            "Tópico 2: 0.010*\"vida\" + 0.010*\"cidade\" + 0.007*\"médio\" + 0.006*\"anos\" + 0.006*\"ensino\" + 0.005*\"onde\" + 0.005*\"história\" + 0.005*\"mundo\" + 0.005*\"pessoas\" + 0.005*\"escola\"\n",
            "Tópico 3: 0.018*\"história\" + 0.017*\"vida\" + 0.015*\"sobre\" + 0.009*\"filme\" + 0.008*\"amor\" + 0.007*\"mundo\" + 0.006*\"jovem\" + 0.005*\"enquanto\" + 0.005*\"baseado\" + 0.005*\"anos\"\n",
            "Tópico 4: 0.007*\"johnny\" + 0.006*\"tom\" + 0.005*\"avô\" + 0.004*\"nenhum\" + 0.004*\"matt\" + 0.004*\"fantasma\" + 0.004*\"mafioso\" + 0.003*\"universitários\" + 0.003*\"estudantes\" + 0.003*\"proteção\"\n",
            "Tópico 5: 0.013*\"agente\" + 0.008*\"assassinato\" + 0.007*\"assassino\" + 0.007*\"unidos\" + 0.007*\"estados\" + 0.006*\"governo\" + 0.006*\"série\" + 0.005*\"grupo\" + 0.005*\"equipe\" + 0.005*\"fbi\"\n",
            "Tópico 6: 0.011*\"pai\" + 0.011*\"família\" + 0.010*\"casa\" + 0.010*\"vida\" + 0.009*\"anos\" + 0.009*\"jovem\" + 0.009*\"homem\" + 0.008*\"mãe\" + 0.007*\"enquanto\" + 0.007*\"filho\"\n",
            "Tópico 7: 0.019*\"terra\" + 0.014*\"mundo\" + 0.011*\"contra\" + 0.008*\"batalha\" + 0.008*\"salvar\" + 0.007*\"planeta\" + 0.007*\"humanidade\" + 0.007*\"deve\" + 0.006*\"missão\" + 0.005*\"alienígena\"\n",
            "Tópico 8: 0.014*\"policial\" + 0.011*\"los\" + 0.011*\"angeles\" + 0.009*\"assassino\" + 0.009*\"polícia\" + 0.007*\"crime\" + 0.007*\"cidade\" + 0.006*\"chefe\" + 0.006*\"assassinato\" + 0.005*\"enquanto\"\n",
            "Tópico 9: 0.016*\"filme\" + 0.010*\"the\" + 0.007*\"sobre\" + 0.007*\"anos\" + 0.007*\"série\" + 0.005*\"filmes\" + 0.005*\"estrela\" + 0.005*\"show\" + 0.005*\"música\" + 0.004*\"tv\"\n"
          ]
        }
      ],
      "source": [
        "# sua resposta\n",
        "\n",
        "\n",
        "# Preparar o corpus para LDA (tokenização simples do corpus já pré-processado)\n",
        "corpus_tokens = [doc.split() for doc in corpus_clean]\n",
        "\n",
        "# Criar o dicionário e o corpus em formato BOW\n",
        "id2word = corpora.Dictionary(corpus_tokens)\n",
        "corpus_gensim = [id2word.doc2bow(text) for text in corpus_tokens]\n",
        "\n",
        "# Treinar o modelo LDA\n",
        "lda_model = LdaModel(corpus=corpus_gensim, id2word=id2word, num_topics=10, random_state=42, passes=10)\n",
        "\n",
        "# Mostrar os tópicos extraídos\n",
        "for idx, topic in lda_model.print_topics(-1):\n",
        "    print(f\"Tópico {idx}: {topic}\")\n"
      ]
    },
    {
      "cell_type": "markdown",
      "id": "AjC246ZqwnID",
      "metadata": {
        "id": "AjC246ZqwnID"
      },
      "source": [
        "## 4.9. Selecione um dos Tópicos (**exceto o do exemplo**) e, baseado nos termos, faça uma sugestâo de label que represente bem aquele Tópico.\n",
        "\n",
        "- **Exemplo**: O Tópico 5 possui predominante termos relacionados a espionagem e guerra. Portanto, um bom label seria Ação e Espionagem Militar.\n",
        "\n",
        "- Palavras principais deste tópico:\n",
        "\"agente\", \"guerra\", \"policial\", \"mundial\", \"secreto\", \"missão\", \"governo\", \"investigar\", \"americano\", \"eua\""
      ]
    },
    {
      "cell_type": "code",
      "execution_count": null,
      "id": "5ac7a9c3",
      "metadata": {
        "id": "5ac7a9c3"
      },
      "outputs": [],
      "source": [
        "# sua resposta\n",
        "# O Tópico 7 possui termos associados a conflitos e desafios em grande escala, envolvendo planeta Terra, humanidade e elementos alienígenas.\n",
        "# Um bom label para este tópico seria:\n",
        "# Defesa Planetária e Ficção Científica\n"
      ]
    },
    {
      "cell_type": "markdown",
      "id": "3f30943b",
      "metadata": {
        "id": "3f30943b"
      },
      "source": [
        "A visualização abaixo pode auxiliar na identificação dos tópicos para responder a questão 4.9 - ajuste conforme sua necessidade"
      ]
    },
    {
      "cell_type": "code",
      "execution_count": 44,
      "id": "inxlzvaga3Ty",
      "metadata": {
        "colab": {
          "base_uri": "https://localhost:8080/",
          "height": 881
        },
        "id": "inxlzvaga3Ty",
        "outputId": "1f2012d1-89b7-44f9-e033-04bf80c3ea6d"
      },
      "outputs": [
        {
          "output_type": "execute_result",
          "data": {
            "text/plain": [
              "PreparedData(topic_coordinates=              x         y  topics  cluster       Freq\n",
              "topic                                                \n",
              "6     -0.222606  0.047201       1        1  23.070562\n",
              "3     -0.140899 -0.148122       2        1  13.776988\n",
              "0     -0.087500  0.080477       3        1  13.080562\n",
              "2     -0.146326 -0.052625       4        1  10.878917\n",
              "5      0.036821  0.166047       5        1   8.683724\n",
              "8     -0.011975  0.123971       6        1   7.471252\n",
              "7      0.099988  0.088365       7        1   7.167132\n",
              "9      0.033652 -0.263614       8        1   6.929680\n",
              "1      0.188553  0.083870       9        1   5.788573\n",
              "4      0.250293 -0.125570      10        1   3.152610, topic_info=            Term         Freq        Total Category  logprob  loglift\n",
              "5         guerra  1101.000000  1101.000000  Default  30.0000  30.0000\n",
              "772        filme  1025.000000  1025.000000  Default  29.0000  29.0000\n",
              "134         dois  1480.000000  1480.000000  Default  28.0000  28.0000\n",
              "443         vida  2574.000000  2574.000000  Default  27.0000  27.0000\n",
              "118        terra   588.000000   588.000000  Default  26.0000  26.0000\n",
              "...          ...          ...          ...      ...      ...      ...\n",
              "8021   perseguem    34.118208    54.099140  Topic10  -5.9634   2.9960\n",
              "4313        pega    38.230027    80.842218  Topic10  -5.8496   2.7081\n",
              "3940  estudantes    39.604160    90.918870  Topic10  -5.8143   2.6259\n",
              "3571        jack    38.526959   309.562431  Topic10  -5.8419   1.3731\n",
              "5631        fará    29.367061    50.095442  Topic10  -6.1134   2.9229\n",
              "\n",
              "[669 rows x 6 columns], token_table=       Topic      Freq            Term\n",
              "term                                  \n",
              "10770     10  0.984706        abandona\n",
              "1813       4  0.970777           abuso\n",
              "8104       4  0.965045  acontecimentos\n",
              "445        1  0.132707    adolescentes\n",
              "445        3  0.718177    adolescentes\n",
              "...      ...       ...             ...\n",
              "342        9  0.001669           volta\n",
              "982        3  0.986259          voltam\n",
              "63         5  0.809534          zumbis\n",
              "63         6  0.109937          zumbis\n",
              "63         9  0.079954          zumbis\n",
              "\n",
              "[1448 rows x 3 columns], R=30, lambda_step=0.01, plot_opts={'xlab': 'PC1', 'ylab': 'PC2'}, topic_order=[7, 4, 1, 3, 6, 9, 8, 10, 2, 5])"
            ],
            "text/html": [
              "\n",
              "<link rel=\"stylesheet\" type=\"text/css\" href=\"https://cdn.jsdelivr.net/gh/bmabey/pyLDAvis@3.4.0/pyLDAvis/js/ldavis.v1.0.0.css\">\n",
              "\n",
              "\n",
              "<div id=\"ldavis_el78391391424688699682714417633\" style=\"background-color:white;\"></div>\n",
              "<script type=\"text/javascript\">\n",
              "\n",
              "var ldavis_el78391391424688699682714417633_data = {\"mdsDat\": {\"x\": [-0.22260640848681942, -0.1408989109092074, -0.08750014488187573, -0.14632560403488049, 0.03682053774999016, -0.011974898684850339, 0.09998779074617213, 0.033651677687398254, 0.18855313324227624, 0.25029282757179633], \"y\": [0.047200951955499254, -0.14812190204615344, 0.08047737259752712, -0.05262534295446697, 0.16604735319275224, 0.12397135259759977, 0.08836461664153805, -0.26361428258266184, 0.08387021119555496, -0.1255703305971889], \"topics\": [1, 2, 3, 4, 5, 6, 7, 8, 9, 10], \"cluster\": [1, 1, 1, 1, 1, 1, 1, 1, 1, 1], \"Freq\": [23.070562085642717, 13.776988001106414, 13.080562144748864, 10.878916941821148, 8.68372428124642, 7.471251508601427, 7.167132325466226, 6.929680102695429, 5.788572640454625, 3.1526099682167303]}, \"tinfo\": {\"Term\": [\"guerra\", \"filme\", \"dois\", \"vida\", \"terra\", \"hist\\u00f3ria\", \"sobre\", \"pai\", \"policial\", \"agente\", \"m\\u00e3e\", \"mundial\", \"mundo\", \"contra\", \"assassino\", \"cidade\", \"los\", \"angeles\", \"fam\\u00edlia\", \"pol\\u00edcia\", \"casa\", \"assassinato\", \"amigos\", \"durante\", \"segunda\", \"mulher\", \"esposa\", \"amor\", \"filho\", \"the\", \"marido\", \"casar\", \"visita\", \"m\\u00e3e\", \"morar\", \"emprego\", \"sozinho\", \"apaixonado\", \"rato\", \"noivo\", \"jogadores\", \"pensa\", \"igreja\", \"solteira\", \"petr\\u00f3leo\", \"mora\", \"kate\", \"sala\", \"av\\u00f3\", \"belo\", \"bab\\u00e1\", \"chocante\", \"dona\", \"conheceu\", \"online\", \"pena\", \"dem\\u00f4nio\", \"promete\", \"australiano\", \"vi\\u00favo\", \"pai\", \"deseja\", \"henry\", \"rica\", \"casamento\", \"mulher\", \"nick\", \"casa\", \"filho\", \"crian\\u00e7a\", \"fam\\u00edlia\", \"pais\", \"esposa\", \"decide\", \"irm\\u00e3\", \"consegue\", \"filha\", \"apaixona\", \"namorado\", \"filhos\", \"garota\", \"conhece\", \"morte\", \"homem\", \"fica\", \"descobre\", \"amigo\", \"irm\\u00e3o\", \"jovem\", \"vai\", \"anos\", \"tudo\", \"volta\", \"encontrar\", \"vida\", \"tenta\", \"come\\u00e7a\", \"ap\\u00f3s\", \"enquanto\", \"pode\", \"cidade\", \"nova\", \"novo\", \"apenas\", \"deve\", \"onde\", \"drama\", \"dirigido\", \"fic\\u00e7\\u00e3o\", \"cient\\u00edfica\", \"moderno\", \"passando\", \"mudan\\u00e7a\", \"oscar\", \"terrivelmente\", \"rom\\u00e2ntico\", \"tenso\", \"circunst\\u00e2ncias\", \"suburbana\", \"vencedor\", \"retrato\", \"inesperado\", \"lan\\u00e7ado\", \"sally\", \"rom\\u00e2ntica\", \"emma\", \"primo\", \"fatal\", \"beisebol\", \"exnamorada\", \"invadir\", \"apresentando\", \"questionar\", \"christopher\", \"leste\", \"incr\\u00edveis\", \"vista\", \"filhas\", \"narra\", \"hist\\u00f3ria\", \"baseado\", \"verdadeira\", \"sobre\", \"amor\", \"comportamento\", \"filme\", \"real\", \"explora\", \"thriller\", \"fez\", \"vida\", \"relacionamento\", \"apartamento\", \"conta\", \"document\\u00e1rio\", \"romance\", \"mundo\", \"time\", \"al\\u00e9m\", \"cada\", \"pessoal\", \"jovem\", \"nesta\", \"neste\", \"nunca\", \"com\\u00e9dia\", \"come\\u00e7a\", \"enquanto\", \"fam\\u00edlia\", \"anos\", \"primeira\", \"todos\", \"maior\", \"the\", \"homem\", \"vez\", \"segue\", \"pode\", \"sempre\", \"hotel\", \"for\\u00e7ados\", \"gangues\", \"corruptos\", \"veem\", \"rivais\", \"kong\", \"armados\", \"percebem\", \"hong\", \"luke\", \"d\\u00f3lares\", \"esperava\", \"ryan\", \"chef\\u00e3o\", \"amea\\u00e7am\", \"boxe\", \"opera\\u00e7\\u00f5es\", \"traficantes\", \"voltam\", \"g\\u00eameos\", \"capturado\", \"conhecem\", \"separados\", \"viciado\", \"uns\", \"bar\", \"diamantes\", \"t\\u00f3quio\", \"condicional\", \"jap\\u00e3o\", \"tempestade\", \"lutam\", \"irm\\u00e3os\", \"assalto\", \"dois\", \"jake\", \"ilha\", \"jovens\", \"planejam\", \"drogas\", \"encontram\", \"policiais\", \"tr\\u00eas\", \"amigos\", \"banco\", \"roubar\", \"devem\", \"adolescentes\", \"juntos\", \"melhores\", \"quatro\", \"criaturas\", \"vidas\", \"descobrem\", \"grupo\", \"gangue\", \"tentam\", \"homens\", \"tornam\", \"t\\u00eam\", \"pris\\u00e3o\", \"cidade\", \"contra\", \"enquanto\", \"cinco\", \"antes\", \"nova\", \"todos\", \"apenas\", \"onde\", \"mundo\", \"m\\u00e9dio\", \"ensino\", \"torno\", \"gr\\u00e1vida\", \"vegas\", \"las\", \"papai\", \"gira\", \"noel\", \"mary\", \"autor\", \"gar\\u00e7onete\", \"adulta\", \"aluno\", \"helen\", \"enredo\", \"estima\\u00e7\\u00e3o\", \"abuso\", \"ensinar\", \"centrada\", \"madison\", \"sonha\", \"buddy\", \"bastante\", \"ruim\", \"acontecimentos\", \"shows\", \"pesadelos\", \"andy\", \"delegacia\", \"brian\", \"fadas\", \"bolsa\", \"simon\", \"alunos\", \"oito\", \"muitas\", \"sonho\", \"violentos\", \"outras\", \"ano\", \"escola\", \"m\\u00e1quina\", \"pessoas\", \"cidade\", \"classe\", \"m\\u00e1gico\", \"professor\", \"vida\", \"onde\", \"amizade\", \"livro\", \"anos\", \"hist\\u00f3ria\", \"mundo\", \"nova\", \"amigos\", \"tempo\", \"todos\", \"pequena\", \"grupo\", \"faculdade\", \"enquanto\", \"estudante\", \"natal\", \"descobre\", \"faz\", \"pode\", \"jovem\", \"tudo\", \"novo\", \"luta\", \"unidos\", \"estados\", \"investigar\", \"servi\\u00e7o\", \"corrupto\", \"chave\", \"designado\", \"bond\", \"investigador\", \"gigantes\", \"capangas\", \"stone\", \"instala\\u00e7\\u00e3o\", \"tornamse\", \"emily\", \"eliminar\", \"fbi\", \"sindicato\", \"viajando\", \"hood\", \"avan\\u00e7a\", \"larry\", \"horr\\u00edveis\", \"poeta\", \"ilegais\", \"editor\", \"pretende\", \"man\\u00edaco\", \"esc\\u00e2ndalo\", \"pre\\u00e7o\", \"agente\", \"ray\", \"conspira\\u00e7\\u00e3o\", \"presidente\", \"secreto\", \"pol\\u00edtico\", \"investiga\", \"vietn\\u00e3\", \"terrorista\", \"assassinatos\", \"governo\", \"detetives\", \"suspeito\", \"zumbis\", \"assassinato\", \"investiga\\u00e7\\u00e3o\", \"alvo\", \"detetive\", \"assassino\", \"m\\u00e1fia\", \"s\\u00e9rie\", \"internacional\", \"james\", \"eua\", \"pol\\u00edcia\", \"equipe\", \"policial\", \"grupo\", \"sangue\", \"descobre\", \"deve\", \"descobrir\", \"caso\", \"contra\", \"miss\\u00e3o\", \"enquanto\", \"misterioso\", \"ap\\u00f3s\", \"los\", \"angeles\", \"artes\", \"marciais\", \"killer\", \"serial\", \"vigarista\", \"fugindo\", \"san\", \"la\", \"ref\\u00e9ns\", \"carros\", \"aluguel\", \"cliente\", \"s\\u00e1dico\", \"susan\", \"jesse\", \"injustamente\", \"mortosvivos\", \"procurado\", \"espanha\", \"inoc\\u00eancia\", \"desejos\", \"exesposa\", \"parker\", \"duro\", \"molly\", \"tela\", \"apuros\", \"oliver\", \"aposentado\", \"francisco\", \"policial\", \"billy\", \"parceiro\", \"pol\\u00edcia\", \"chefe\", \"fazendeiro\", \"assassino\", \"crime\", \"criminoso\", \"detetive\", \"ladr\\u00e3o\", \"assassinato\", \"gangue\", \"ajuda\", \"cidade\", \"irm\\u00e3o\", \"tenta\", \"filha\", \"enquanto\", \"homem\", \"esposa\", \"vingar\", \"vida\", \"john\", \"filho\", \"busca\", \"nova\", \"terra\", \"planeta\", \"humanidade\", \"ca\\u00e7ador\", \"espacial\", \"vampiros\", \"monstros\", \"marinha\", \"ra\\u00e7a\", \"rob\\u00f4\", \"alien\\u00edgena\", \"nave\", \"recompensas\", \"vampiro\", \"popula\\u00e7\\u00e3o\", \"a\\u00e9rea\", \"alem\\u00e3es\", \"urso\", \"conde\", \"superman\", \"juventude\", \"dr\\u00e1cula\", \"tranquila\", \"imperador\", \"macacos\", \"cidad\\u00e3os\", \"poderosos\", \"rob\\u00f4s\", \"revolu\\u00e7\\u00e3o\", \"anjo\", \"alien\\u00edgenas\", \"humanos\", \"batalha\", \"espa\\u00e7o\", \"universo\", \"humana\", \"lidera\", \"sobreviventes\", \"mundo\", \"contra\", \"salvar\", \"for\\u00e7a\", \"futuro\", \"miss\\u00e3o\", \"deve\", \"equipe\", \"mortal\", \"amea\\u00e7a\", \"mal\", \"parte\", \"guerra\", \"poder\", \"grupo\", \"devem\", \"onde\", \"luta\", \"enquanto\", \"televis\\u00e3o\", \"elenco\", \"produ\\u00e7\\u00e3o\", \"envolvido\", \"personagem\", \"f\\u00e3s\", \"produtor\", \"in\", \"emo\\u00e7\\u00f5es\", \"quebrar\", \"d\", \"caras\", \"roma\", \"falta\", \"estrelas\", \"inesperadas\", \"comediante\", \"ar\", \"joias\", \"preto\", \"passaram\", \"teatro\", \"virada\", \"al\", \"cenas\", \"movie\", \"orfanato\", \"causando\", \"sub\\u00farbio\", \"filmagem\", \"tv\", \"filmes\", \"musical\", \"m\\u00fasica\", \"show\", \"banda\", \"cinema\", \"sequ\\u00eancia\", \"and\", \"estrela\", \"filme\", \"the\", \"atriz\", \"rock\", \"of\", \"diretor\", \"apresenta\", \"s\\u00e9rie\", \"hollywood\", \"terror\", \"trama\", \"programa\", \"chris\", \"sobre\", \"anos\", \"diferentes\", \"com\\u00e9dia\", \"desde\", \"dois\", \"romance\", \"hist\\u00f3ria\", \"tr\\u00eas\", \"segunda\", \"mundial\", \"resist\\u00eancia\", \"rei\", \"alem\\u00e3o\", \"nazistas\", \"rose\", \"alemanha\", \"gr\\u00e3bretanha\", \"nazista\", \"red\", \"fogo\", \"drag\\u00e3o\", \"bruxas\", \"trono\", \"uni\\u00e3o\", \"sir\", \"gotham\", \"sovi\\u00e9tica\", \"tubar\\u00e3o\", \"sara\", \"cavaleiro\", \"custo\", \"tira\", \"tropas\", \"submarino\", \"localizar\", \"resultados\", \"superf\\u00edcie\", \"rick\", \"guerra\", \"soldados\", \"ambicioso\", \"invas\\u00e3o\", \"ex\\u00e9rcito\", \"dc\", \"capit\\u00e3o\", \"americanos\", \"navio\", \"oficial\", \"durante\", \"civil\", \"prisioneiros\", \"senhor\", \"destruir\", \"contra\", \"miss\\u00e3o\", \"campo\", \"secreta\", \"eua\", \"reino\", \"for\\u00e7as\", \"deve\", \"final\", \"pa\\u00eds\", \"jovem\", \"lutar\", \"impedir\", \"brit\\u00e2nico\", \"johnny\", \"av\\u00f4\", \"matt\", \"mafioso\", \"universit\\u00e1rios\", \"prote\\u00e7\\u00e3o\", \"depress\\u00e3o\", \"metade\", \"abandona\", \"cartel\", \"espada\", \"revista\", \"doce\", \"agir\", \"arizona\", \"ousada\", \"retrata\", \"templo\", \"deixada\", \"epidemia\", \"lincoln\", \"feminino\", \"i\", \"park\", \"julian\", \"terremoto\", \"tour\", \"testemunhas\", \"separa\\u00e7\\u00e3o\", \"lake\", \"fantasma\", \"tom\", \"metal\", \"nenhum\", \"guardacostas\", \"r\\u00fassia\", \"perseguem\", \"pega\", \"estudantes\", \"jack\", \"far\\u00e1\"], \"Freq\": [1101.0, 1025.0, 1480.0, 2574.0, 588.0, 1495.0, 1390.0, 1141.0, 626.0, 529.0, 776.0, 379.0, 1453.0, 1132.0, 591.0, 1709.0, 335.0, 335.0, 1460.0, 455.0, 1212.0, 616.0, 966.0, 932.0, 273.0, 787.0, 777.0, 721.0, 843.0, 583.0, 354.5992370771475, 144.20165321375092, 124.40136757117325, 769.9948243147978, 100.93915855223291, 231.00410876307217, 83.85804531870542, 105.60610565941413, 77.81096261680885, 73.57748865910126, 72.47375098239279, 71.59706555559573, 68.18406931293936, 67.60713762322942, 65.7005012724522, 147.47972042512356, 62.115043898150844, 60.54708953373605, 59.488893443264125, 55.898987610682006, 55.86557047554107, 54.94414045439765, 54.884411282030555, 54.194465011805065, 52.69306794885924, 51.634515755627866, 51.28279927778455, 50.03959367271553, 49.858880000930874, 49.01864706136722, 1089.936173798282, 71.51590238856448, 91.3934962444917, 86.98210091282755, 317.1429470366684, 663.3540988285574, 136.25875290205474, 976.8176791060747, 683.1960089270177, 138.59895849352642, 1074.2180014833707, 308.3922247889434, 599.6970338907595, 374.1547953376105, 247.3183179633593, 253.40622812924826, 521.6729070316578, 273.52714191352663, 168.77915346559527, 253.6249543574982, 361.2454259310609, 304.52020078450414, 492.5018281459288, 826.3092538399908, 361.7208174625043, 650.976328665197, 415.16738754551403, 341.6908851070535, 896.4879507998405, 267.4172551201972, 921.7598966520139, 498.58953482452665, 383.6326002861895, 420.8346442612696, 950.1051336716009, 414.6965631732712, 432.98419212279464, 464.83433946394985, 686.2956177840822, 449.21985522871125, 584.7589414111882, 480.60189136150524, 392.6113639581577, 383.06464464698763, 397.1554612657528, 369.97482723261675, 155.1561672562905, 86.0006330096319, 81.93694960330328, 74.29527541304583, 66.97868347366114, 61.41408193479343, 60.90429539385385, 57.13823837773636, 56.50153177080988, 55.46609072716895, 54.39014435675897, 52.52865118076576, 51.93376294828442, 52.69701494692519, 49.65744796996166, 49.55203623248912, 49.03490810107265, 48.41828876077972, 47.78196357901365, 48.533263130813644, 46.39093302255508, 46.333401956767446, 46.310634587679345, 42.47458099146105, 40.586391429683154, 40.37082545606221, 38.794844202132296, 38.585195381663524, 38.273253733883436, 38.106013990541854, 68.42103765457998, 75.29047103909782, 60.10447046058454, 1045.180441448348, 280.587797502182, 159.15597376230434, 852.6005116729499, 437.1504987287519, 65.96945275188367, 550.4024202471529, 196.20784337456968, 64.85218082183758, 105.15550752628307, 76.73573485265625, 1007.3336683000157, 199.796939368921, 94.80653155454856, 165.84259310533793, 122.78497168947547, 157.00464134517136, 399.61699377765154, 98.4526725507663, 112.14250762174807, 172.02670336447474, 97.18750217091083, 342.9498796064537, 107.69110722758617, 102.35120223808194, 126.53256502747408, 117.33445340345278, 203.24667003563565, 289.19445034472176, 249.53476678441191, 272.5880764759496, 120.5574622544655, 158.71592389228547, 118.9240309454015, 137.9403367391758, 167.4420404452427, 138.26525696874145, 120.88033021414155, 131.0931812843809, 119.63731624802875, 113.41077763731772, 103.24758363397824, 96.7049657615713, 79.48231971174502, 76.88592567531195, 74.51963738644774, 69.31485048462758, 63.36230322840974, 68.57713402177419, 59.598394932375946, 59.423117167110824, 63.051141289092826, 58.995767849348766, 57.7022466568384, 57.21020493489215, 56.84477265115558, 56.435299793838354, 55.89986487102745, 55.607733125708634, 53.86197401883983, 48.55419075886693, 47.629040665838545, 46.884283223494776, 45.87966011753865, 45.55297084748397, 45.38320856956656, 49.08185720908582, 43.65727765573688, 43.47945526702372, 41.45139358374687, 59.66015172563015, 83.63901659598959, 171.50719736263082, 226.11749578338328, 144.0672856636018, 1011.9463655892044, 81.6411667077313, 215.60265020263793, 233.07794467173778, 86.2874760638294, 256.8344979056438, 232.004613527869, 176.87682715068985, 440.1077648875413, 532.5474610278744, 148.78947863935082, 157.58449207002167, 279.08742865735815, 184.06379239333637, 189.40883483744904, 140.82420474166835, 230.79952601221677, 112.84335865655783, 235.05280321413176, 220.21368736016024, 428.8122775461301, 223.6233289494008, 170.48614316798685, 208.27141698878586, 118.20241255371188, 145.6781412699391, 200.65801900558904, 371.0686054450984, 297.08595411212764, 327.14378979761995, 145.42339690137706, 188.7445535152613, 218.28190153708834, 187.30783475989756, 174.76264887210766, 173.79394854225876, 176.20185456424178, 305.33408872602917, 279.9367997687804, 112.63371748839914, 87.35012913333658, 83.45497860540648, 79.60806647351852, 79.30502656857792, 77.3406752815888, 74.60727101157225, 60.8477656375161, 57.248719645618344, 54.79868996470645, 54.028533506379986, 50.75243262119335, 46.56713739000525, 45.987018569042725, 44.816748364254224, 42.374069854537176, 40.114629548638725, 39.56209227935285, 38.92170611542929, 38.65392411207148, 38.591782993421546, 37.88707807964204, 37.826965329838835, 37.449848648303956, 36.545361397418546, 35.87606897837967, 35.86980795548747, 35.74234856225423, 58.05938484209534, 81.23342695017324, 44.26628744100199, 49.73581202289426, 107.46599873158411, 70.02801910624267, 93.87021284247062, 87.9811730728084, 45.04866475499501, 90.79279614988943, 159.9739166219384, 214.91097279370305, 72.63619758761673, 220.1895508370793, 441.3696919831579, 101.37912236628526, 80.04970180985481, 127.88701923099642, 449.23240660646604, 243.51328709912553, 135.94059776544313, 84.16914568660502, 289.13110522247405, 239.4627331319844, 236.2892447880084, 214.12203593209927, 189.34198947688694, 159.84912262797812, 165.91751178391968, 136.03706389593032, 172.37142429070306, 102.59010921036757, 166.33020088415157, 100.45211782234183, 110.50872258722838, 135.44233868695193, 121.08791619516975, 119.16754932698313, 120.06717488959465, 111.54388903366876, 105.4111571392778, 103.87950143946347, 241.7138942264173, 241.32771582395208, 169.6574534883073, 139.37522189112602, 107.949228891183, 64.73440359332108, 68.51234457462448, 57.66000213640148, 56.10128915521401, 54.3351684668627, 49.14589086482605, 42.04431616009757, 40.339971420961625, 39.428063436084386, 39.260419900667166, 38.67197824086597, 170.90144868771577, 37.051187196370684, 36.735120538995794, 35.001083516237806, 34.843633140094965, 34.32696698045666, 34.26841003562078, 33.79621421936655, 33.44898513162393, 33.291190090108, 33.129259064115054, 33.12413163479941, 33.04487774706619, 32.93181686687422, 471.9421425396446, 75.6812651912025, 160.2637646948756, 151.2285619304766, 157.66257086907657, 87.04271242649625, 98.23038874196239, 90.79628003425609, 99.97486359385836, 130.88562866744832, 219.13092538704612, 63.61004982965365, 64.03229469757896, 80.63991059710867, 294.8323428647539, 87.41468721148794, 104.75748286206364, 159.23090894994203, 244.27505580740174, 128.17978422207338, 208.41852134542358, 94.7197463953064, 115.40303033156383, 124.01165650766961, 167.02124846880776, 192.54765959432314, 170.766033492246, 194.11051707024373, 106.06181577740227, 170.80875497799627, 159.57678277939667, 133.04747201050967, 121.72653359437354, 149.8037408089124, 126.51420795471738, 149.89126028290758, 115.967949643434, 120.55372668745528, 335.01170318700275, 334.49550190504806, 152.4844382206435, 134.53819177421028, 118.15022154092432, 106.27560047087832, 87.612537154912, 82.99418313231726, 81.21640788327727, 79.7447143674224, 71.36994531103329, 68.98292075321476, 58.066281398428686, 57.27597357475404, 53.55364246957667, 49.5123026331533, 48.40085903607083, 43.78549605210983, 43.78251599648209, 43.76061588252001, 42.836015183493146, 41.329333471527356, 40.77283920156419, 40.5629795839366, 39.09498734110342, 36.88004818227978, 35.41755476445011, 34.40464337518699, 34.34693500066606, 33.86170213462664, 83.55994705934361, 82.14465494029581, 432.5224035843982, 81.69201597505953, 115.52999115572625, 279.70761118731167, 201.51087829541345, 59.75289403667469, 290.1095722369749, 225.66208381106216, 107.30355857836012, 147.11913728205832, 105.30121014465583, 196.29460942623115, 146.14621867863968, 156.83244921157396, 214.15584740623183, 129.82143001786417, 143.73123138754758, 133.06282261234776, 165.75305170010319, 130.06103527673915, 117.99819477188566, 95.49140884643664, 123.68756760748242, 95.29044912467027, 99.4589026115245, 98.36427033562454, 95.49546523665228, 588.0391860092058, 214.6074179841642, 213.4314385095022, 119.69108753840547, 113.3681890095448, 110.3740785675315, 99.34454386751304, 95.44734884374179, 92.68553480598366, 83.08823471235318, 161.1158748385863, 78.50982093051803, 66.26547830510215, 63.64822438756585, 61.210460743201324, 52.46708453547179, 48.58509638504393, 47.367268156857754, 46.69568275989798, 46.09656706996841, 45.78197795065958, 45.286230367685185, 44.85440082047283, 50.504807861537095, 41.21810727795029, 40.06528579932209, 40.60881035803862, 39.717504957156834, 39.683663518002824, 39.658696852275774, 121.37664126125037, 147.42081054413129, 241.04339780230643, 69.41192439102834, 79.36047165107117, 98.39202465545914, 75.48770596008897, 92.01854659082679, 416.10691853600747, 326.17491651897274, 230.052530001944, 135.65334563322003, 157.67728118546776, 174.6049825786881, 212.30160645186842, 147.90332849849491, 107.98407082702919, 102.98612996387588, 97.70540447217535, 101.5641854588496, 122.44210574968379, 93.19941474163056, 106.98198352943983, 97.31874249957484, 103.40205375372744, 96.1489581576098, 96.15122689668135, 98.34764619631622, 78.87685069780935, 65.39825453337131, 62.18913708702927, 59.72287385686645, 53.462902281064544, 53.13598503303526, 47.53020449397748, 46.28051580858373, 45.802241946095414, 45.56530877585059, 45.30285408377074, 43.408461739494356, 43.28376757706415, 76.3449228602429, 40.3835841456968, 40.34638506750326, 40.17755456382617, 39.50140401647706, 38.2334434698547, 36.39917746766622, 36.250510188663995, 36.040460186110465, 35.85514052463257, 35.79211771392768, 35.27063791160053, 34.69122534130807, 34.18373891198279, 33.736205647841, 35.88821391775033, 126.79667945734235, 147.4936693078773, 83.87273274014642, 134.29814607402128, 137.03150242080181, 103.77498321568906, 116.64468259295153, 72.58192455232016, 48.416788749570294, 142.64015226347195, 473.8789450518009, 303.600329308734, 59.01314057256307, 108.29537580851077, 92.29379588427551, 125.59424769310054, 84.84371866507547, 205.25622135426875, 79.00957211910305, 98.30543177914579, 82.51467945572114, 91.90164187766528, 62.08577424447234, 209.8197927219247, 207.20397935010968, 83.18035110254033, 87.58627715716906, 80.47631258698964, 117.02746467296986, 83.6202000660019, 109.99564702981425, 84.96793743992494, 272.4773965341771, 375.8625295549419, 81.75596491898546, 232.03817050172535, 71.59867591372566, 67.14591823146235, 67.00294882965883, 65.59022824429555, 63.358539532515216, 60.25076187427341, 53.096539424228304, 52.47822881353191, 47.9540374868154, 47.93599754166283, 47.55766925794422, 41.175326706410836, 40.28161193932388, 40.08207766547121, 39.35818231918371, 38.9135884381924, 36.86045263638209, 35.30214458799268, 34.71003444480798, 34.45416505292461, 33.81801021346173, 33.411359783147454, 32.984788828492526, 32.216636050724595, 31.956602721815436, 31.616558265097506, 704.9684712025496, 108.64873518118777, 52.15291981515795, 70.68972363321737, 170.5246805420365, 53.47951384476451, 120.43159910579504, 83.29473820286766, 92.41242147579247, 107.51257035877668, 293.5145821338931, 65.16387286131226, 62.486183379736254, 59.733344478840706, 83.69704032564752, 173.23603891495856, 124.40664996371622, 77.45247927345162, 80.77171572275071, 84.19542501165039, 66.68549117848335, 82.35026765298822, 115.2145717723226, 82.31573080201689, 77.36400412106181, 93.85575891146658, 73.64076934030341, 69.43224868906331, 67.42721089825179, 91.77467765705428, 65.12768337251413, 58.884505877867355, 47.603808979045816, 40.23973746640817, 39.183141794048986, 37.35738515649539, 37.2177646558421, 36.67408817301499, 36.36033288507867, 35.93763096970186, 32.066166744351094, 31.75168848236847, 31.45271708678945, 31.431506758464934, 31.015178755299843, 30.642735894672466, 30.36147427359543, 29.412981758956043, 28.285170053402382, 27.773968699638477, 27.18530716504079, 26.690922681935344, 25.911823913236816, 25.815045804092907, 25.216183847213593, 25.17735643336739, 24.836375302285322, 24.530371902734473, 24.517976296436157, 54.95216353025785, 77.76356422482198, 32.99722755142938, 59.068091851507944, 32.09479219109933, 32.80722132108692, 34.118208079135194, 38.23002718892548, 39.60415985961708, 38.52695942693798, 29.36706054848448], \"Total\": [1101.0, 1025.0, 1480.0, 2574.0, 588.0, 1495.0, 1390.0, 1141.0, 626.0, 529.0, 776.0, 379.0, 1453.0, 1132.0, 591.0, 1709.0, 335.0, 335.0, 1460.0, 455.0, 1212.0, 616.0, 966.0, 932.0, 273.0, 787.0, 777.0, 721.0, 843.0, 583.0, 355.5349074152528, 145.08946100554482, 125.29694619336964, 776.013301800752, 101.90125091757784, 233.24066690067667, 84.7462175927343, 106.76727710450692, 78.69880724184092, 74.46527731240076, 73.361765651653, 72.50358271114311, 69.07204889838164, 68.4949446807659, 66.58847699666104, 149.49953408154, 63.00293258828519, 61.435020888002605, 60.376701250731884, 56.78689335858394, 56.75335607844517, 55.83226904232481, 55.77228287240903, 55.090557091978184, 53.58102552159551, 52.52239402751868, 52.170688933738205, 50.92758056939422, 50.74685316758522, 49.90645784422689, 1141.5143262463803, 72.97912837974155, 94.07659338757587, 90.11224199247435, 356.2218121188455, 787.5874761293853, 146.7675405806436, 1212.8065358333906, 843.0224803113717, 151.14275684438425, 1460.4427475278537, 370.8173240505841, 777.0839789207909, 460.2514657616271, 291.54353577698913, 303.544713842254, 690.8939606252754, 335.8438294334243, 195.17792863605794, 314.4797871456536, 476.92189887452463, 394.1949448689676, 716.9309793102678, 1356.6784754644766, 504.6700446045168, 1042.4660631337788, 618.7557323109531, 482.8448801483274, 1697.3185339329882, 355.0020786358422, 1938.7612843317568, 847.5392287127253, 599.0818757925767, 700.1379095017581, 2574.908167265646, 720.4766772571099, 789.181269319221, 910.5871079155659, 1912.5012095557915, 871.0346369760116, 1709.0596919441084, 1235.1445734603421, 725.0405266783732, 770.2517299209503, 1097.1596901830258, 1031.6007723389528, 156.04433309226786, 86.88878526829345, 82.82511891286813, 75.18346710232503, 67.8668785208249, 62.30235118242583, 61.792577507882115, 58.02931628590127, 57.38976740954483, 56.354244947940956, 55.278426448018806, 53.41685377684593, 52.82200318671747, 53.599783988954016, 50.54561630849683, 50.440228922433846, 49.92320759556606, 49.306615279627636, 48.67010775126215, 49.44318753669827, 47.27928624470162, 47.221718243071116, 47.198794442421594, 43.36278871539559, 41.474823931963414, 41.25911365611633, 39.68317932020845, 39.47519348535504, 39.16154405776167, 38.994249650037126, 70.17500319896001, 78.02432498774107, 64.13090672541703, 1495.567671734864, 373.09047489506764, 196.03085013010408, 1390.9193934437046, 721.6878580975729, 73.00880279119298, 1025.0816793502065, 285.8745330244533, 71.53379158787311, 134.10071617983573, 89.1470530445032, 2574.908167265646, 347.84567013015493, 123.98144980483673, 297.28331210894356, 197.4367661109842, 294.0425471732797, 1453.8876921314718, 148.03437961529133, 187.38051889313192, 404.6525165274838, 148.93541468026274, 1697.3185339329882, 184.7091693524051, 174.61825932727243, 272.77359838868233, 232.6762358694318, 789.181269319221, 1912.5012095557915, 1460.4427475278537, 1938.7612843317568, 281.9153886651474, 773.9125856098924, 302.786071776576, 583.9372712741575, 1356.6784754644766, 697.6762081214033, 394.11962493945595, 871.0346369760116, 367.3183432910751, 114.30138101744461, 104.1379809959021, 97.59526047846157, 80.37266359978797, 77.793229153081, 75.40995970216522, 70.20514331092306, 64.25268844672809, 69.5602647070779, 60.48868347538169, 60.31346376731393, 64.00570969326749, 59.896941022094936, 58.59271439392149, 58.10058801389417, 57.73524487471057, 57.32564756179733, 56.79019295921465, 56.49805243047811, 54.75232767853033, 49.44449883586275, 48.519439237008825, 47.77465195164351, 46.770000523254, 46.44337404241235, 46.273502378150674, 50.06522205120084, 44.54759748333676, 44.370039390021226, 42.34173964130408, 61.05866324275789, 86.2600756841166, 181.09355819328817, 257.11467603173037, 160.36708699966894, 1480.460436036753, 88.84839099841287, 265.29174706782015, 298.8778325241654, 96.43871164179558, 356.4144459584494, 330.22142978739936, 237.37013571824977, 751.1387606865621, 966.8085344230207, 193.8137547412285, 208.6575088002748, 436.6147556843908, 256.20435602057034, 270.2132577059489, 185.53231542653853, 356.77505745936213, 143.31745343932892, 404.71239915514946, 375.1654861178022, 1014.1195803988389, 396.04954356872486, 279.4313937400483, 461.4285013818369, 168.8392979762675, 250.73953930605185, 481.796235611144, 1709.0596919441084, 1132.708596554391, 1912.5012095557915, 255.24959813364393, 677.8990356351239, 1235.1445734603421, 773.9125856098924, 770.2517299209503, 1031.6007723389528, 1453.8876921314718, 306.2248034769839, 280.826963322211, 113.62974381323033, 88.24039705513194, 84.34516232647931, 80.49825032053499, 80.19519613050136, 78.23172781338961, 75.49743271200012, 61.74766688374856, 58.13926707992166, 55.68898137373807, 54.91885945291278, 51.64264803219253, 47.45741796277871, 46.877229974986655, 45.70700886112886, 43.26432618692513, 41.00490511828403, 40.4523410931323, 39.812050278814326, 39.54423557518499, 39.48208360828549, 38.77742218082519, 38.71725211869125, 38.34019609169914, 37.43595949281686, 36.76636449117339, 36.760336991378864, 36.63267170837735, 61.349764842914304, 91.08210028266669, 46.484597708398795, 54.2545044126506, 137.6502226329397, 85.90368902365928, 125.83137553168874, 117.0273673369886, 48.75776582564579, 129.26740885017853, 294.63424844257594, 470.49701018206156, 100.54724008483981, 541.2175049082999, 1709.0596919441084, 174.746374453666, 119.46925739777603, 267.79103767936095, 2574.908167265646, 1031.6007723389528, 346.8004374256718, 134.46239573113957, 1938.7612843317568, 1495.567671734864, 1453.8876921314718, 1235.1445734603421, 966.8085344230207, 655.6422246588124, 773.9125856098924, 470.9737828570655, 1014.1195803988389, 228.0538377818639, 1912.5012095557915, 217.66657143159824, 340.5525292162239, 1042.4660631337788, 603.5432540534902, 871.0346369760116, 1697.3185339329882, 847.5392287127253, 725.0405266783732, 637.460812748985, 242.60732262042197, 242.22109998163216, 170.55066911811267, 140.26847944390462, 108.84246963424911, 65.62768537712427, 69.48206874650513, 58.55313778604355, 56.9944675755322, 55.228598117474945, 50.03924390765232, 42.937688192943156, 41.23323884704147, 40.321699485379085, 40.15379003530033, 39.565224553547075, 174.8845809308339, 37.944432380377584, 37.62850022745229, 35.89439013541716, 35.737153928973385, 35.220345146384645, 35.16165324784006, 34.68966331132794, 34.34222558119108, 34.18452563686659, 34.02256349534665, 34.0173886629154, 33.93806658663046, 33.82514342198543, 529.271570755022, 80.1730697950688, 179.60164803525004, 170.30962545382275, 183.45648378907575, 96.93206314208213, 112.03755864235872, 102.92127441176238, 117.47320110071004, 161.8591758084122, 309.4800682465076, 73.22480245927466, 74.17634714055407, 100.05752334606936, 616.450503604441, 119.68142248494867, 164.8896366803216, 307.14465776968353, 591.9277627435742, 239.003020994972, 547.7133145133187, 144.843313410287, 208.9743029581073, 243.89242887309436, 455.250926450891, 624.2129315237864, 626.4086306555756, 1014.1195803988389, 200.35030467876106, 1042.4660631337788, 1097.1596901830258, 538.5884167597538, 382.35922739936785, 1132.708596554391, 520.436406487571, 1912.5012095557915, 319.7320800158793, 910.5871079155659, 335.9046704407599, 335.388469313728, 153.37863812696938, 135.43140970408038, 119.04318381824703, 107.16855103836757, 88.50552372425732, 83.88726189006604, 82.12072673765299, 80.63793141421066, 72.2629951691151, 69.8759318577116, 58.959302461762746, 58.169005030357596, 54.44675353901876, 50.40541094842589, 49.29387357713122, 44.67847171476655, 44.67561434355907, 44.6538676772227, 43.7291374730498, 42.222319643390065, 41.66594953482208, 41.455991772784884, 39.98814979708038, 37.773065708534546, 36.31059548067499, 35.298003869929104, 35.240029724691404, 34.75483865842827, 89.66471251202255, 88.74619974495758, 626.4086306555756, 96.30965346002472, 147.19283930173032, 455.250926450891, 303.44409754987004, 68.36138928695841, 591.9277627435742, 422.2571606268207, 154.66876506885626, 307.14465776968353, 190.43831873359997, 616.450503604441, 396.04954356872486, 564.7174196598104, 1709.0596919441084, 482.8448801483274, 720.4766772571099, 690.8939606252754, 1912.5012095557915, 1356.6784754644766, 777.0839789207909, 237.9973748088522, 2574.908167265646, 390.46198429413863, 843.0224803113717, 750.1318016383412, 1235.1445734603421, 588.9790507937784, 215.5006588970948, 214.33765528680235, 120.58421301128027, 114.26128983361541, 111.2671569955128, 100.2377053717137, 96.34055208009302, 93.57861796020165, 83.98131475436858, 162.90169591212006, 79.40288930432627, 67.15857725766878, 64.54144690188018, 62.10363598618984, 53.36017599911915, 49.487616350364135, 48.260383622456, 47.58878376222693, 46.98964376909147, 46.6752801149253, 46.179283471999774, 45.747680539129114, 51.52001850705612, 42.1112113220927, 40.958434407232666, 41.51701979064579, 40.61057058714756, 40.57681336959787, 40.55192864516763, 132.7370550899193, 167.50674373033084, 286.96263075838255, 79.99859021260018, 95.7262231957661, 125.56802531024006, 97.02789729993863, 131.34425432174197, 1453.8876921314718, 1132.708596554391, 661.7664477622225, 275.77172754664645, 359.85958776130815, 520.436406487571, 1097.1596901830258, 624.2129315237864, 275.224162529039, 290.9981863833645, 282.64682950510695, 338.0503254561556, 1101.9047049270598, 265.26672751527445, 1014.1195803988389, 436.6147556843908, 1031.6007723389528, 637.460812748985, 1912.5012095557915, 99.24124361896209, 79.77007006544149, 66.291401309664, 63.08426456492375, 60.616050387461264, 54.356054203429956, 54.029099928014865, 48.43133002682131, 47.17376657873209, 46.69553596640676, 46.45850780178497, 46.196154462082696, 44.301661329560524, 44.17709451864809, 77.93311558108964, 41.276842264275295, 41.23950285369991, 41.07087057156731, 40.39475771487854, 39.12676181068257, 37.29238926219381, 37.1466373672442, 36.93374506050323, 36.74842317238301, 36.685293360937, 36.16380100844426, 35.58448228314624, 35.07707638774802, 34.629404476150846, 36.85412312248807, 142.61517953045458, 171.1802979829836, 93.5576305851692, 159.48109306837216, 165.2482227497005, 121.15480893933668, 141.8725758496889, 83.98857717524531, 52.164234777034316, 213.5804796814473, 1025.0816793502065, 583.9372712741575, 69.01716232808096, 157.08691691939464, 128.50860950242517, 222.0071878364228, 124.49066172419828, 547.7133145133187, 116.6729065078024, 179.88212005865157, 134.5545633498352, 168.0064975938855, 83.44063840825139, 1390.9193934437046, 1938.7612843317568, 185.91444176608314, 232.6762358694318, 244.1374208581514, 1480.460436036753, 294.0425471732797, 1495.567671734864, 751.1387606865621, 273.37299581745623, 379.5779351067417, 82.65067396821652, 234.9096443606684, 72.49337018277997, 68.04058982993942, 67.8978877919779, 66.48495283105042, 64.2533338735367, 61.14545458760696, 53.991412293773784, 53.373067591911855, 48.848746246105726, 48.83074678538551, 48.45239561546216, 42.07007213159399, 41.17638459227643, 40.97680108800336, 40.25290120416555, 39.82103610618271, 37.75533596088483, 36.19689100027604, 35.606630354023444, 35.34906676959883, 34.71272241303157, 34.30603029062226, 33.87968948098827, 33.11141082378003, 32.8516130192866, 32.51144103618686, 1101.9047049270598, 149.21838525775013, 60.642206305603665, 89.13549562858161, 296.90231483945723, 64.85561427402688, 198.2819583558018, 123.16792161825347, 145.8482638740395, 190.520135998996, 932.2195083496963, 95.28822118658944, 92.07758211448167, 89.44006559793571, 188.01940895039618, 1132.708596554391, 520.436406487571, 171.73035151802287, 197.26539431286992, 243.89242887309436, 133.83832943395353, 301.03497141172437, 1097.1596901830258, 326.37447799488604, 260.2154493574729, 1697.3185339329882, 341.3527613342703, 229.4769925172096, 154.17711914173253, 92.67523132936222, 66.02826539117196, 59.78644691930045, 48.504306071548996, 41.14024372316903, 40.08365569118434, 38.258005088589535, 38.11842606528287, 37.57466474997083, 37.26081886709952, 36.83819360767329, 32.96674117808835, 32.652268510027184, 32.353304038595105, 32.332062646209955, 31.915765517330115, 31.543334624961616, 31.26201204580002, 30.313543268112852, 29.185702635004212, 28.67453541595726, 28.085864976213102, 27.591467437495048, 26.81229277104221, 26.71561661607038, 26.116781562707345, 26.078045693672294, 25.736913613508115, 25.430995654348703, 25.418490259984175, 77.01938031370005, 128.85699898006806, 39.70038180719228, 109.39563139662022, 45.15546935040636, 48.79969189677644, 54.0991401216108, 80.84221845640661, 90.91886956727419, 309.5624305858721, 50.095441641440985], \"Category\": [\"Default\", \"Default\", \"Default\", \"Default\", \"Default\", \"Default\", \"Default\", \"Default\", \"Default\", \"Default\", \"Default\", \"Default\", \"Default\", \"Default\", \"Default\", \"Default\", \"Default\", \"Default\", \"Default\", \"Default\", \"Default\", \"Default\", \"Default\", \"Default\", \"Default\", \"Default\", \"Default\", \"Default\", \"Default\", \"Default\", \"Topic1\", \"Topic1\", \"Topic1\", \"Topic1\", \"Topic1\", \"Topic1\", \"Topic1\", \"Topic1\", \"Topic1\", \"Topic1\", \"Topic1\", \"Topic1\", \"Topic1\", \"Topic1\", \"Topic1\", \"Topic1\", \"Topic1\", \"Topic1\", \"Topic1\", \"Topic1\", \"Topic1\", \"Topic1\", \"Topic1\", \"Topic1\", \"Topic1\", \"Topic1\", \"Topic1\", \"Topic1\", \"Topic1\", \"Topic1\", \"Topic1\", \"Topic1\", \"Topic1\", \"Topic1\", \"Topic1\", \"Topic1\", \"Topic1\", \"Topic1\", \"Topic1\", \"Topic1\", \"Topic1\", \"Topic1\", \"Topic1\", \"Topic1\", \"Topic1\", \"Topic1\", \"Topic1\", \"Topic1\", \"Topic1\", \"Topic1\", \"Topic1\", \"Topic1\", \"Topic1\", \"Topic1\", \"Topic1\", \"Topic1\", \"Topic1\", \"Topic1\", \"Topic1\", \"Topic1\", \"Topic1\", \"Topic1\", \"Topic1\", \"Topic1\", \"Topic1\", \"Topic1\", \"Topic1\", \"Topic1\", \"Topic1\", \"Topic1\", \"Topic1\", \"Topic1\", \"Topic1\", \"Topic1\", \"Topic1\", \"Topic1\", \"Topic2\", \"Topic2\", \"Topic2\", \"Topic2\", \"Topic2\", \"Topic2\", \"Topic2\", \"Topic2\", \"Topic2\", \"Topic2\", \"Topic2\", \"Topic2\", \"Topic2\", \"Topic2\", \"Topic2\", \"Topic2\", \"Topic2\", \"Topic2\", \"Topic2\", \"Topic2\", \"Topic2\", \"Topic2\", \"Topic2\", \"Topic2\", \"Topic2\", \"Topic2\", \"Topic2\", \"Topic2\", \"Topic2\", \"Topic2\", \"Topic2\", \"Topic2\", \"Topic2\", \"Topic2\", \"Topic2\", \"Topic2\", \"Topic2\", \"Topic2\", \"Topic2\", \"Topic2\", \"Topic2\", \"Topic2\", \"Topic2\", \"Topic2\", \"Topic2\", \"Topic2\", \"Topic2\", \"Topic2\", \"Topic2\", \"Topic2\", \"Topic2\", \"Topic2\", \"Topic2\", \"Topic2\", \"Topic2\", \"Topic2\", \"Topic2\", \"Topic2\", \"Topic2\", \"Topic2\", \"Topic2\", \"Topic2\", \"Topic2\", \"Topic2\", \"Topic2\", \"Topic2\", \"Topic2\", \"Topic2\", \"Topic2\", \"Topic2\", \"Topic2\", \"Topic2\", \"Topic2\", \"Topic3\", \"Topic3\", \"Topic3\", \"Topic3\", \"Topic3\", \"Topic3\", \"Topic3\", \"Topic3\", \"Topic3\", \"Topic3\", \"Topic3\", \"Topic3\", \"Topic3\", \"Topic3\", \"Topic3\", \"Topic3\", \"Topic3\", \"Topic3\", \"Topic3\", \"Topic3\", \"Topic3\", \"Topic3\", \"Topic3\", \"Topic3\", \"Topic3\", \"Topic3\", \"Topic3\", \"Topic3\", \"Topic3\", \"Topic3\", \"Topic3\", \"Topic3\", \"Topic3\", \"Topic3\", \"Topic3\", \"Topic3\", \"Topic3\", \"Topic3\", \"Topic3\", \"Topic3\", \"Topic3\", \"Topic3\", \"Topic3\", \"Topic3\", \"Topic3\", \"Topic3\", \"Topic3\", \"Topic3\", \"Topic3\", \"Topic3\", \"Topic3\", \"Topic3\", \"Topic3\", \"Topic3\", \"Topic3\", \"Topic3\", \"Topic3\", \"Topic3\", \"Topic3\", \"Topic3\", \"Topic3\", \"Topic3\", \"Topic3\", \"Topic3\", \"Topic3\", \"Topic3\", \"Topic3\", \"Topic3\", \"Topic3\", \"Topic3\", \"Topic3\", \"Topic3\", \"Topic4\", \"Topic4\", \"Topic4\", \"Topic4\", \"Topic4\", \"Topic4\", \"Topic4\", \"Topic4\", \"Topic4\", \"Topic4\", \"Topic4\", \"Topic4\", \"Topic4\", \"Topic4\", \"Topic4\", \"Topic4\", \"Topic4\", \"Topic4\", \"Topic4\", \"Topic4\", \"Topic4\", \"Topic4\", \"Topic4\", \"Topic4\", \"Topic4\", \"Topic4\", \"Topic4\", \"Topic4\", \"Topic4\", \"Topic4\", \"Topic4\", \"Topic4\", \"Topic4\", \"Topic4\", \"Topic4\", \"Topic4\", \"Topic4\", \"Topic4\", \"Topic4\", \"Topic4\", \"Topic4\", \"Topic4\", \"Topic4\", \"Topic4\", \"Topic4\", \"Topic4\", \"Topic4\", \"Topic4\", \"Topic4\", \"Topic4\", \"Topic4\", \"Topic4\", \"Topic4\", \"Topic4\", \"Topic4\", \"Topic4\", \"Topic4\", \"Topic4\", \"Topic4\", \"Topic4\", \"Topic4\", \"Topic4\", \"Topic4\", \"Topic4\", \"Topic4\", \"Topic4\", \"Topic4\", \"Topic4\", \"Topic4\", \"Topic4\", \"Topic4\", \"Topic4\", \"Topic5\", \"Topic5\", \"Topic5\", \"Topic5\", \"Topic5\", \"Topic5\", \"Topic5\", \"Topic5\", \"Topic5\", \"Topic5\", \"Topic5\", \"Topic5\", \"Topic5\", \"Topic5\", \"Topic5\", \"Topic5\", \"Topic5\", \"Topic5\", \"Topic5\", \"Topic5\", \"Topic5\", \"Topic5\", \"Topic5\", \"Topic5\", \"Topic5\", \"Topic5\", \"Topic5\", \"Topic5\", \"Topic5\", \"Topic5\", \"Topic5\", \"Topic5\", \"Topic5\", \"Topic5\", \"Topic5\", \"Topic5\", \"Topic5\", \"Topic5\", \"Topic5\", \"Topic5\", \"Topic5\", \"Topic5\", \"Topic5\", \"Topic5\", \"Topic5\", \"Topic5\", \"Topic5\", \"Topic5\", \"Topic5\", \"Topic5\", \"Topic5\", \"Topic5\", \"Topic5\", \"Topic5\", \"Topic5\", \"Topic5\", \"Topic5\", \"Topic5\", \"Topic5\", \"Topic5\", \"Topic5\", \"Topic5\", \"Topic5\", \"Topic5\", \"Topic5\", \"Topic5\", \"Topic5\", \"Topic5\", \"Topic6\", \"Topic6\", \"Topic6\", \"Topic6\", \"Topic6\", \"Topic6\", \"Topic6\", \"Topic6\", \"Topic6\", \"Topic6\", \"Topic6\", \"Topic6\", \"Topic6\", \"Topic6\", \"Topic6\", \"Topic6\", \"Topic6\", \"Topic6\", \"Topic6\", \"Topic6\", \"Topic6\", \"Topic6\", \"Topic6\", \"Topic6\", \"Topic6\", \"Topic6\", \"Topic6\", \"Topic6\", \"Topic6\", \"Topic6\", \"Topic6\", \"Topic6\", \"Topic6\", \"Topic6\", \"Topic6\", \"Topic6\", \"Topic6\", \"Topic6\", \"Topic6\", \"Topic6\", \"Topic6\", \"Topic6\", \"Topic6\", \"Topic6\", \"Topic6\", \"Topic6\", \"Topic6\", \"Topic6\", \"Topic6\", \"Topic6\", \"Topic6\", \"Topic6\", \"Topic6\", \"Topic6\", \"Topic6\", \"Topic6\", \"Topic6\", \"Topic6\", \"Topic6\", \"Topic7\", \"Topic7\", \"Topic7\", \"Topic7\", \"Topic7\", \"Topic7\", \"Topic7\", \"Topic7\", \"Topic7\", \"Topic7\", \"Topic7\", \"Topic7\", \"Topic7\", \"Topic7\", \"Topic7\", \"Topic7\", \"Topic7\", \"Topic7\", \"Topic7\", \"Topic7\", \"Topic7\", \"Topic7\", \"Topic7\", \"Topic7\", \"Topic7\", \"Topic7\", \"Topic7\", \"Topic7\", \"Topic7\", \"Topic7\", \"Topic7\", \"Topic7\", \"Topic7\", \"Topic7\", \"Topic7\", \"Topic7\", \"Topic7\", \"Topic7\", \"Topic7\", \"Topic7\", \"Topic7\", \"Topic7\", \"Topic7\", \"Topic7\", \"Topic7\", \"Topic7\", \"Topic7\", \"Topic7\", \"Topic7\", \"Topic7\", \"Topic7\", \"Topic7\", \"Topic7\", \"Topic7\", \"Topic7\", \"Topic7\", \"Topic7\", \"Topic8\", \"Topic8\", \"Topic8\", \"Topic8\", \"Topic8\", \"Topic8\", \"Topic8\", \"Topic8\", \"Topic8\", \"Topic8\", \"Topic8\", \"Topic8\", \"Topic8\", \"Topic8\", \"Topic8\", \"Topic8\", \"Topic8\", \"Topic8\", \"Topic8\", \"Topic8\", \"Topic8\", \"Topic8\", \"Topic8\", \"Topic8\", \"Topic8\", \"Topic8\", \"Topic8\", \"Topic8\", \"Topic8\", \"Topic8\", \"Topic8\", \"Topic8\", \"Topic8\", \"Topic8\", \"Topic8\", \"Topic8\", \"Topic8\", \"Topic8\", \"Topic8\", \"Topic8\", \"Topic8\", \"Topic8\", \"Topic8\", \"Topic8\", \"Topic8\", \"Topic8\", \"Topic8\", \"Topic8\", \"Topic8\", \"Topic8\", \"Topic8\", \"Topic8\", \"Topic8\", \"Topic8\", \"Topic8\", \"Topic8\", \"Topic8\", \"Topic8\", \"Topic8\", \"Topic8\", \"Topic8\", \"Topic8\", \"Topic9\", \"Topic9\", \"Topic9\", \"Topic9\", \"Topic9\", \"Topic9\", \"Topic9\", \"Topic9\", \"Topic9\", \"Topic9\", \"Topic9\", \"Topic9\", \"Topic9\", \"Topic9\", \"Topic9\", \"Topic9\", \"Topic9\", \"Topic9\", \"Topic9\", \"Topic9\", \"Topic9\", \"Topic9\", \"Topic9\", \"Topic9\", \"Topic9\", \"Topic9\", \"Topic9\", \"Topic9\", \"Topic9\", \"Topic9\", \"Topic9\", \"Topic9\", \"Topic9\", \"Topic9\", \"Topic9\", \"Topic9\", \"Topic9\", \"Topic9\", \"Topic9\", \"Topic9\", \"Topic9\", \"Topic9\", \"Topic9\", \"Topic9\", \"Topic9\", \"Topic9\", \"Topic9\", \"Topic9\", \"Topic9\", \"Topic9\", \"Topic9\", \"Topic9\", \"Topic9\", \"Topic9\", \"Topic9\", \"Topic9\", \"Topic9\", \"Topic9\", \"Topic9\", \"Topic10\", \"Topic10\", \"Topic10\", \"Topic10\", \"Topic10\", \"Topic10\", \"Topic10\", \"Topic10\", \"Topic10\", \"Topic10\", \"Topic10\", \"Topic10\", \"Topic10\", \"Topic10\", \"Topic10\", \"Topic10\", \"Topic10\", \"Topic10\", \"Topic10\", \"Topic10\", \"Topic10\", \"Topic10\", \"Topic10\", \"Topic10\", \"Topic10\", \"Topic10\", \"Topic10\", \"Topic10\", \"Topic10\", \"Topic10\", \"Topic10\", \"Topic10\", \"Topic10\", \"Topic10\", \"Topic10\", \"Topic10\", \"Topic10\", \"Topic10\", \"Topic10\", \"Topic10\", \"Topic10\"], \"logprob\": [30.0, 29.0, 28.0, 27.0, 26.0, 25.0, 24.0, 23.0, 22.0, 21.0, 20.0, 19.0, 18.0, 17.0, 16.0, 15.0, 14.0, 13.0, 12.0, 11.0, 10.0, 9.0, 8.0, 7.0, 6.0, 5.0, 4.0, 3.0, 2.0, 1.0, -5.6126, -6.5124, -6.6601, -4.8372, -6.8691, -6.0411, -7.0545, -6.8239, -7.1293, -7.1852, -7.2004, -7.2125, -7.2614, -7.2699, -7.2985, -6.4899, -7.3546, -7.3802, -7.3978, -7.46, -7.4606, -7.4773, -7.4783, -7.491, -7.5191, -7.5394, -7.5462, -7.5708, -7.5744, -7.5914, -4.4897, -7.2137, -6.9684, -7.0179, -5.7242, -4.9863, -6.569, -4.5993, -4.9568, -6.552, -4.5042, -5.7522, -5.0872, -5.5589, -5.9729, -5.9486, -5.2265, -5.8722, -6.355, -5.9477, -5.594, -5.7648, -5.2841, -4.7666, -5.5927, -5.0051, -5.4549, -5.6497, -4.6851, -5.8948, -4.6573, -5.2718, -5.5339, -5.4413, -4.627, -5.456, -5.4129, -5.3419, -4.9523, -5.3761, -5.1124, -5.3085, -5.5108, -5.5354, -5.4993, -5.5701, -5.9236, -6.5137, -6.5621, -6.66, -6.7636, -6.8504, -6.8587, -6.9225, -6.9338, -6.9522, -6.9718, -7.0067, -7.0181, -7.0035, -7.0629, -7.065, -7.0755, -7.0881, -7.1014, -7.0858, -7.1309, -7.1322, -7.1326, -7.2191, -7.2646, -7.2699, -7.3097, -7.3152, -7.3233, -7.3276, -6.7423, -6.6467, -6.8719, -4.0161, -5.3311, -5.8981, -4.2197, -4.8877, -6.7788, -4.6574, -5.6888, -6.7959, -6.3126, -6.6277, -4.053, -5.6707, -6.4162, -5.857, -6.1576, -5.9117, -4.9775, -6.3784, -6.2482, -5.8204, -6.3914, -5.1304, -6.2888, -6.3396, -6.1275, -6.203, -5.6536, -5.3009, -5.4484, -5.3601, -6.1759, -5.9009, -6.1895, -6.0412, -5.8474, -6.0388, -6.1732, -6.0921, -6.1836, -6.1851, -6.279, -6.3445, -6.5406, -6.5738, -6.6051, -6.6775, -6.7673, -6.6882, -6.8285, -6.8315, -6.7722, -6.8387, -6.8609, -6.8694, -6.8758, -6.8831, -6.8926, -6.8978, -6.9297, -7.0335, -7.0527, -7.0685, -7.0901, -7.0973, -7.101, -7.0227, -7.1398, -7.1439, -7.1916, -6.8275, -6.4896, -5.7715, -5.4951, -5.9459, -3.9965, -6.5138, -5.5427, -5.4648, -6.4585, -5.3677, -5.4694, -5.7407, -4.8291, -4.6385, -5.9136, -5.8562, -5.2846, -5.7009, -5.6722, -5.9686, -5.4746, -6.1901, -5.4563, -5.5215, -4.8551, -5.5062, -5.7775, -5.5773, -6.1437, -5.9347, -5.6145, -4.9998, -5.2221, -5.1257, -5.9365, -5.6758, -5.5304, -5.6834, -5.7527, -5.7583, -5.7445, -5.0104, -5.0973, -6.0077, -6.2619, -6.3075, -6.3547, -6.3585, -6.3836, -6.4196, -6.6235, -6.6844, -6.7282, -6.7423, -6.8049, -6.891, -6.9035, -6.9293, -6.9853, -7.0401, -7.054, -7.0703, -7.0772, -7.0788, -7.0972, -7.0988, -7.1088, -7.1333, -7.1518, -7.152, -7.1555, -6.6704, -6.3345, -6.9416, -6.8251, -6.0547, -6.483, -6.1899, -6.2547, -6.9241, -6.2233, -5.6568, -5.3616, -6.4464, -5.3374, -4.642, -6.113, -6.3492, -5.8807, -4.6243, -5.2367, -5.8196, -6.299, -5.065, -5.2534, -5.2668, -5.3653, -5.4883, -5.6576, -5.6204, -5.8189, -5.5822, -6.1011, -5.6179, -6.1222, -6.0268, -5.8233, -5.9353, -5.9513, -5.9438, -6.0174, -6.074, -6.0886, -5.0187, -5.0203, -5.3727, -5.5693, -5.8248, -6.3362, -6.2795, -6.4519, -6.4793, -6.5113, -6.6117, -6.7677, -6.8091, -6.832, -6.8363, -6.8514, -5.3654, -6.8942, -6.9027, -6.9511, -6.9556, -6.9705, -6.9722, -6.9861, -6.9964, -7.0012, -7.0061, -7.0062, -7.0086, -7.012, -4.3496, -6.1799, -5.4297, -5.4877, -5.446, -6.0401, -5.9192, -5.9979, -5.9016, -5.6321, -5.1168, -6.3537, -6.3471, -6.1165, -4.8201, -6.0358, -5.8548, -5.4361, -5.0082, -5.653, -5.1669, -5.9555, -5.758, -5.6861, -5.3884, -5.2461, -5.3662, -5.238, -5.8424, -5.3659, -5.4339, -5.6158, -5.7047, -5.4971, -5.6661, -5.4966, -5.7532, -5.7144, -4.5419, -4.5435, -5.329, -5.4542, -5.5841, -5.69, -5.8832, -5.9373, -5.959, -5.9773, -6.0882, -6.1222, -6.2945, -6.3082, -6.3754, -6.4539, -6.4766, -6.5768, -6.5768, -6.5773, -6.5987, -6.6345, -6.6481, -6.6532, -6.6901, -6.7484, -6.7889, -6.8179, -6.8196, -6.8338, -5.9305, -5.9476, -4.2864, -5.9531, -5.6066, -4.7223, -5.0502, -6.2659, -4.6858, -4.937, -5.6804, -5.3648, -5.6993, -5.0765, -5.3715, -5.3009, -4.9894, -5.4899, -5.3881, -5.4653, -5.2456, -5.4881, -5.5854, -5.797, -5.5383, -5.7992, -5.7563, -5.7674, -5.797, -3.9377, -4.9457, -4.9512, -5.5296, -5.5839, -5.6107, -5.7159, -5.756, -5.7853, -5.8946, -5.2324, -5.9513, -6.1209, -6.1612, -6.2002, -6.3543, -6.4312, -6.4566, -6.4709, -6.4838, -6.4906, -6.5015, -6.5111, -6.3925, -6.5956, -6.624, -6.6105, -6.6327, -6.6336, -6.6342, -5.5156, -5.3212, -4.8295, -6.0745, -5.9405, -5.7256, -5.9906, -5.7925, -4.2836, -4.5271, -4.8762, -5.4044, -5.254, -5.152, -4.9565, -5.318, -5.6325, -5.6799, -5.7326, -5.6938, -5.5069, -5.7798, -5.6419, -5.7365, -5.6759, -5.7486, -5.7486, -5.6923, -5.9129, -6.1003, -6.1507, -6.1911, -6.3018, -6.308, -6.4195, -6.4461, -6.4565, -6.4617, -6.4675, -6.5102, -6.5131, -5.9456, -6.5824, -6.5833, -6.5875, -6.6045, -6.6371, -6.6863, -6.6904, -6.6962, -6.7013, -6.7031, -6.7178, -6.7343, -6.7491, -6.7623, -6.7004, -5.4382, -5.287, -5.8515, -5.3808, -5.3606, -5.6386, -5.5217, -5.9961, -6.401, -5.3205, -4.1199, -4.5651, -6.2031, -5.596, -5.7559, -5.4478, -5.84, -4.9566, -5.9113, -5.6928, -5.8679, -5.7601, -6.1523, -4.9346, -4.9471, -5.8598, -5.8082, -5.8929, -5.5184, -5.8545, -5.5804, -5.8386, -4.4934, -4.1717, -5.6972, -4.654, -5.8298, -5.894, -5.8962, -5.9175, -5.9521, -6.0024, -6.1288, -6.1405, -6.2307, -6.231, -6.239, -6.3831, -6.405, -6.41, -6.4282, -6.4396, -6.4938, -6.537, -6.5539, -6.5613, -6.5799, -6.592, -6.6049, -6.6284, -6.6365, -6.6472, -3.5428, -5.4128, -6.1467, -5.8426, -4.962, -6.1216, -5.3098, -5.6785, -5.5746, -5.4233, -4.419, -5.924, -5.966, -6.011, -5.6737, -4.9463, -5.2774, -5.7512, -5.7093, -5.6678, -5.9009, -5.6899, -5.3541, -5.6903, -5.7524, -5.5591, -5.8017, -5.8606, -5.8899, -4.9739, -5.3169, -5.4177, -5.6303, -5.7984, -5.825, -5.8727, -5.8765, -5.8912, -5.8998, -5.9115, -6.0254, -6.0353, -6.0448, -6.0454, -6.0588, -6.0709, -6.0801, -6.1118, -6.1509, -6.1692, -6.1906, -6.2089, -6.2386, -6.2423, -6.2658, -6.2673, -6.2809, -6.2933, -6.2938, -5.4868, -5.1396, -5.9968, -5.4146, -6.0246, -6.0026, -5.9634, -5.8496, -5.8143, -5.8419, -6.1134], \"loglift\": [30.0, 29.0, 28.0, 27.0, 26.0, 25.0, 24.0, 23.0, 22.0, 21.0, 20.0, 19.0, 18.0, 17.0, 16.0, 15.0, 14.0, 13.0, 12.0, 11.0, 10.0, 9.0, 8.0, 7.0, 6.0, 5.0, 4.0, 3.0, 2.0, 1.0, 1.464, 1.4605, 1.4594, 1.4588, 1.4571, 1.457, 1.4561, 1.4557, 1.4553, 1.4546, 1.4544, 1.454, 1.4537, 1.4536, 1.4532, 1.453, 1.4524, 1.4521, 1.4518, 1.4509, 1.4508, 1.4506, 1.4506, 1.4502, 1.4499, 1.4496, 1.4494, 1.449, 1.449, 1.4487, 1.4204, 1.4464, 1.4377, 1.4313, 1.3504, 1.2949, 1.3923, 1.2502, 1.2564, 1.38, 1.1595, 1.2823, 1.2075, 1.2595, 1.3021, 1.2861, 1.1857, 1.2614, 1.3213, 1.2515, 1.1888, 1.2085, 1.0911, 0.9708, 1.1336, 0.9957, 1.0676, 1.1208, 0.8283, 1.1833, 0.7231, 0.9361, 1.0209, 0.9576, 0.4696, 0.9142, 0.8663, 0.7942, 0.4418, 0.8044, 0.3941, 0.5227, 0.8532, 0.7681, 0.4505, 0.4412, 1.9765, 1.9719, 1.9714, 1.9703, 1.969, 1.9678, 1.9677, 1.9667, 1.9666, 1.9663, 1.966, 1.9654, 1.9652, 1.9652, 1.9644, 1.9644, 1.9642, 1.964, 1.9638, 1.9636, 1.9632, 1.9632, 1.9632, 1.9615, 1.9605, 1.9604, 1.9595, 1.9594, 1.9592, 1.9591, 1.9569, 1.9465, 1.9173, 1.6239, 1.6972, 1.7738, 1.4927, 1.4809, 1.8808, 1.3603, 1.6058, 1.8841, 1.739, 1.8323, 1.0437, 1.4277, 1.7139, 1.3985, 1.5072, 1.3547, 0.6907, 1.5743, 1.4688, 1.1268, 1.5553, 0.3829, 1.4427, 1.448, 1.214, 1.2976, 0.6256, 0.0931, 0.2153, 0.0203, 1.1327, 0.3978, 1.0476, 0.5392, -0.11, 0.3636, 0.8003, 0.0884, 0.8604, 2.0262, 2.0255, 2.0249, 2.0229, 2.0223, 2.0222, 2.0213, 2.0201, 2.0198, 2.0192, 2.0192, 2.019, 2.0189, 2.0187, 2.0186, 2.0185, 2.0184, 2.0182, 2.0182, 2.0176, 2.0159, 2.0155, 2.0152, 2.0148, 2.0147, 2.0146, 2.0142, 2.0139, 2.0138, 2.0128, 2.0109, 2.0032, 1.9797, 1.9056, 1.9269, 1.6536, 1.9494, 1.8266, 1.7854, 1.9228, 1.7064, 1.681, 1.7399, 1.4995, 1.4377, 1.7697, 1.7533, 1.5865, 1.7033, 1.6787, 1.7583, 1.5985, 1.795, 1.4907, 1.5013, 1.1733, 1.4625, 1.5399, 1.2386, 1.6775, 1.491, 1.1581, 0.5067, 0.6957, 0.2683, 1.4715, 0.7554, 0.3009, 0.6153, 0.5508, 0.253, -0.0763, 2.2154, 2.2152, 2.2095, 2.2082, 2.2077, 2.2072, 2.2072, 2.2069, 2.2065, 2.2037, 2.2029, 2.2022, 2.202, 2.201, 2.1994, 2.1992, 2.1987, 2.1976, 2.1964, 2.1961, 2.1957, 2.1956, 2.1955, 2.1951, 2.1951, 2.1948, 2.1943, 2.1938, 2.1938, 2.1937, 2.1632, 2.1039, 2.1694, 2.1314, 1.9708, 2.014, 1.9253, 1.9331, 2.1392, 1.865, 1.6076, 1.4348, 1.8932, 1.319, 0.8645, 1.6739, 1.8179, 1.4793, 0.4723, 0.7746, 1.2818, 1.7499, 0.3154, 0.3865, 0.4014, 0.4659, 0.5879, 0.807, 0.6784, 0.9765, 0.4462, 1.4195, -0.2238, 1.4451, 1.0929, 0.1775, 0.612, 0.2292, -0.4304, 0.1904, 0.29, 0.4041, 2.44, 2.44, 2.4385, 2.4373, 2.4355, 2.43, 2.4297, 2.4283, 2.4279, 2.4274, 2.4257, 2.4227, 2.4218, 2.4213, 2.4212, 2.4209, 2.4207, 2.4199, 2.4197, 2.4185, 2.4184, 2.418, 2.418, 2.4176, 2.4174, 2.4172, 2.4171, 2.4171, 2.417, 2.417, 2.3291, 2.3861, 2.3298, 2.3249, 2.2922, 2.3361, 2.3122, 2.3184, 2.2824, 2.2313, 2.0985, 2.303, 2.2967, 2.228, 1.7061, 2.1295, 1.9901, 1.7868, 1.5586, 1.8207, 1.4775, 2.019, 1.8499, 1.7674, 1.441, 1.2676, 1.144, 0.7904, 1.8077, 0.6349, 0.5158, 1.0455, 1.2991, 0.4207, 1.0294, -0.1025, 1.4296, 0.4217, 2.5914, 2.5914, 2.5883, 2.5875, 2.5866, 2.5857, 2.584, 2.5834, 2.583, 2.583, 2.5817, 2.5812, 2.5788, 2.5786, 2.5776, 2.5762, 2.5758, 2.5739, 2.5739, 2.5739, 2.5735, 2.5727, 2.5724, 2.5723, 2.5715, 2.5702, 2.5692, 2.5685, 2.5684, 2.5681, 2.5236, 2.5168, 2.2237, 2.4295, 2.3519, 2.107, 2.1848, 2.4595, 1.881, 1.9675, 2.2285, 1.858, 2.0016, 1.4497, 1.5972, 1.313, 0.5171, 1.2806, 0.9821, 0.9469, 0.1484, 0.2493, 0.7092, 1.6809, -0.4417, 1.1837, 0.4569, 0.5625, 0.0342, 2.6341, 2.6315, 2.6314, 2.6282, 2.6278, 2.6276, 2.6267, 2.6264, 2.6261, 2.625, 2.6246, 2.6244, 2.6223, 2.6217, 2.6212, 2.6188, 2.6173, 2.617, 2.6167, 2.6165, 2.6163, 2.6161, 2.6159, 2.6158, 2.6142, 2.6136, 2.6135, 2.6134, 2.6134, 2.6134, 2.5462, 2.5079, 2.4613, 2.4937, 2.4482, 2.3918, 2.3846, 2.2798, 1.3846, 1.3907, 1.5791, 1.9262, 1.8105, 1.5435, 0.9932, 1.1957, 1.7001, 1.5969, 1.5734, 1.4332, 0.4385, 1.5897, 0.3865, 1.1346, 0.3354, 0.7441, -0.3546, 2.6603, 2.6581, 2.6558, 2.6551, 2.6545, 2.6528, 2.6527, 2.6506, 2.6502, 2.65, 2.6499, 2.6498, 2.649, 2.6489, 2.6488, 2.6475, 2.6475, 2.6474, 2.647, 2.6463, 2.6451, 2.6449, 2.6449, 2.6447, 2.6447, 2.6443, 2.6439, 2.6436, 2.6432, 2.6428, 2.5518, 2.5204, 2.5601, 2.4975, 2.4821, 2.5145, 2.4736, 2.5234, 2.5948, 2.2657, 1.8978, 2.0153, 2.5128, 2.2974, 2.3383, 2.0997, 2.2859, 1.6879, 2.2796, 2.0651, 2.1804, 2.0661, 2.3737, 0.7779, 0.4333, 1.8651, 1.6923, 1.5596, 0.1317, 1.4119, 0.0595, 0.49, 2.846, 2.8394, 2.8384, 2.837, 2.8369, 2.836, 2.836, 2.8357, 2.8353, 2.8345, 2.8326, 2.8324, 2.8308, 2.8308, 2.8306, 2.8278, 2.8273, 2.8272, 2.8268, 2.8262, 2.8253, 2.8243, 2.8238, 2.8236, 2.8232, 2.8229, 2.8225, 2.8219, 2.8217, 2.8214, 2.4026, 2.532, 2.6985, 2.6174, 2.2948, 2.6564, 2.3507, 2.4581, 2.393, 2.2771, 1.6936, 2.4693, 2.4616, 2.4456, 2.0399, 0.9716, 1.4182, 2.053, 1.9564, 1.7857, 2.1526, 1.553, 0.5956, 1.4718, 1.6363, -0.0458, 1.3156, 1.6538, 2.0222, 3.4472, 3.4432, 3.4417, 3.4382, 3.4348, 3.4342, 3.4331, 3.433, 3.4327, 3.4325, 3.4322, 3.4292, 3.429, 3.4287, 3.4287, 3.4283, 3.428, 3.4277, 3.4268, 3.4256, 3.425, 3.4243, 3.4238, 3.4228, 3.4226, 3.4218, 3.4218, 3.4213, 3.4209, 3.4209, 3.1193, 2.9519, 3.272, 2.8407, 3.1155, 3.0599, 2.996, 2.7081, 2.6259, 1.3731, 2.9229]}, \"token.table\": {\"Topic\": [10, 4, 4, 1, 3, 4, 8, 4, 5, 6, 9, 10, 1, 2, 3, 4, 5, 6, 7, 9, 8, 9, 7, 9, 7, 9, 5, 7, 6, 4, 1, 4, 1, 3, 5, 9, 1, 2, 7, 10, 9, 10, 2, 4, 5, 6, 7, 9, 3, 3, 5, 9, 1, 2, 3, 4, 5, 6, 7, 1, 2, 3, 4, 8, 1, 2, 3, 4, 7, 1, 2, 4, 8, 2, 8, 9, 4, 6, 7, 1, 2, 3, 4, 7, 9, 1, 2, 3, 4, 5, 6, 7, 8, 9, 1, 2, 3, 4, 5, 6, 7, 8, 9, 1, 2, 4, 6, 1, 2, 3, 8, 1, 2, 3, 4, 5, 6, 8, 6, 9, 1, 2, 8, 2, 6, 1, 2, 3, 4, 5, 6, 7, 8, 9, 8, 10, 3, 6, 1, 3, 1, 3, 5, 6, 8, 10, 4, 5, 3, 5, 6, 10, 6, 8, 1, 4, 5, 1, 10, 7, 1, 1, 3, 6, 3, 6, 7, 8, 10, 3, 2, 8, 9, 4, 1, 3, 7, 9, 2, 1, 3, 6, 4, 5, 5, 3, 4, 9, 2, 5, 9, 9, 4, 1, 2, 3, 4, 5, 6, 7, 8, 1, 2, 3, 4, 6, 7, 8, 1, 2, 3, 7, 9, 5, 1, 7, 9, 3, 8, 6, 10, 1, 2, 3, 4, 5, 1, 2, 8, 1, 1, 2, 5, 6, 8, 9, 7, 8, 4, 5, 1, 3, 5, 6, 10, 3, 1, 3, 8, 2, 1, 3, 4, 5, 6, 7, 8, 7, 2, 1, 2, 3, 4, 8, 2, 8, 2, 5, 7, 9, 1, 2, 4, 6, 8, 1, 2, 4, 5, 6, 7, 8, 9, 2, 7, 2, 4, 8, 7, 3, 1, 2, 4, 3, 1, 1, 2, 3, 4, 6, 5, 9, 1, 2, 4, 5, 8, 1, 3, 4, 5, 6, 7, 9, 5, 3, 1, 3, 4, 3, 5, 3, 5, 6, 1, 3, 5, 6, 9, 8, 4, 9, 1, 2, 4, 6, 7, 10, 4, 1, 10, 1, 2, 3, 4, 5, 6, 1, 2, 3, 4, 5, 1, 2, 3, 4, 5, 6, 9, 1, 2, 4, 6, 7, 8, 1, 6, 6, 5, 3, 5, 7, 9, 5, 6, 5, 10, 1, 2, 3, 4, 5, 6, 7, 9, 3, 5, 7, 8, 9, 3, 2, 3, 8, 2, 4, 8, 2, 10, 2, 8, 1, 2, 3, 4, 6, 8, 1, 9, 2, 1, 3, 4, 5, 6, 7, 1, 2, 3, 4, 5, 6, 7, 8, 9, 6, 3, 5, 8, 5, 5, 2, 8, 1, 4, 1, 2, 3, 4, 5, 8, 1, 2, 3, 4, 5, 6, 7, 9, 1, 2, 3, 4, 5, 6, 7, 8, 9, 4, 4, 4, 8, 10, 1, 2, 3, 4, 5, 6, 7, 8, 9, 1, 3, 4, 5, 7, 10, 6, 4, 7, 3, 1, 2, 5, 6, 5, 4, 1, 2, 6, 8, 7, 8, 2, 3, 4, 5, 6, 4, 10, 3, 5, 7, 9, 6, 2, 2, 7, 3, 5, 7, 9, 1, 4, 4, 8, 8, 1, 2, 3, 4, 5, 7, 8, 9, 10, 2, 10, 2, 1, 2, 3, 4, 5, 6, 10, 6, 7, 5, 6, 10, 2, 7, 1, 2, 3, 4, 5, 6, 9, 2, 1, 2, 3, 5, 6, 2, 5, 1, 2, 4, 6, 7, 9, 1, 3, 4, 8, 2, 8, 2, 8, 1, 2, 3, 4, 5, 7, 9, 9, 1, 2, 3, 4, 5, 7, 3, 3, 4, 5, 6, 7, 9, 2, 6, 6, 1, 3, 4, 5, 7, 9, 8, 1, 3, 6, 3, 1, 3, 4, 6, 8, 4, 5, 4, 9, 5, 7, 9, 1, 3, 4, 5, 6, 7, 8, 9, 4, 9, 8, 10, 2, 3, 5, 7, 9, 3, 4, 1, 8, 1, 2, 4, 7, 8, 9, 1, 2, 6, 8, 1, 2, 3, 4, 5, 6, 7, 1, 2, 3, 5, 7, 8, 3, 5, 5, 3, 2, 7, 9, 7, 4, 5, 7, 10, 1, 5, 3, 8, 9, 10, 1, 3, 5, 7, 9, 7, 8, 2, 8, 2, 6, 6, 5, 2, 3, 5, 7, 8, 10, 2, 1, 9, 5, 6, 9, 5, 5, 1, 2, 5, 6, 1, 3, 4, 6, 10, 1, 3, 6, 1, 3, 2, 3, 4, 6, 9, 10, 3, 5, 6, 1, 3, 4, 5, 6, 7, 9, 2, 3, 6, 1, 1, 2, 3, 4, 5, 6, 7, 8, 10, 10, 8, 1, 2, 3, 4, 5, 6, 7, 8, 9, 10, 2, 3, 5, 8, 10, 1, 2, 3, 4, 8, 7, 1, 6, 3, 6, 3, 6, 10, 2, 5, 4, 2, 3, 7, 10, 4, 8, 9, 9, 6, 3, 1, 2, 3, 4, 5, 6, 7, 9, 3, 7, 3, 5, 6, 7, 9, 7, 4, 10, 1, 2, 3, 4, 5, 6, 7, 9, 1, 2, 3, 4, 5, 6, 7, 5, 6, 1, 7, 4, 10, 2, 3, 4, 8, 10, 2, 10, 1, 3, 5, 6, 7, 9, 10, 1, 2, 3, 4, 5, 6, 2, 6, 7, 1, 4, 1, 1, 3, 5, 6, 7, 9, 1, 2, 3, 4, 5, 6, 9, 6, 8, 2, 1, 4, 6, 8, 1, 2, 4, 5, 7, 9, 1, 2, 3, 4, 5, 6, 7, 8, 9, 4, 8, 2, 3, 4, 5, 3, 4, 7, 10, 4, 9, 1, 4, 4, 2, 4, 8, 1, 2, 3, 4, 8, 2, 4, 1, 2, 3, 4, 6, 7, 8, 7, 3, 9, 9, 9, 2, 4, 10, 2, 3, 4, 7, 8, 2, 3, 8, 1, 8, 4, 1, 1, 2, 3, 4, 5, 6, 7, 8, 1, 2, 3, 4, 5, 6, 7, 8, 9, 1, 2, 3, 4, 6, 8, 2, 7, 8, 6, 9, 1, 2, 4, 6, 1, 2, 3, 4, 5, 6, 7, 8, 1, 3, 8, 2, 10, 1, 3, 4, 10, 1, 2, 4, 6, 1, 3, 4, 8, 4, 5, 6, 10, 6, 1, 2, 3, 5, 6, 7, 8, 9, 2, 8, 1, 2, 3, 4, 5, 6, 8, 9, 3, 10, 1, 1, 1, 3, 4, 5, 6, 8, 10, 3, 4, 10, 8, 4, 2, 4, 5, 7, 10, 1, 2, 3, 4, 5, 6, 7, 8, 1, 3, 8, 7, 1, 2, 3, 4, 5, 6, 9, 1, 2, 3, 4, 5, 7, 7, 5, 3, 5, 10, 3, 5, 6, 3, 5, 6, 5, 10, 7, 5, 8, 5, 8, 5, 1, 2, 3, 7, 8, 9, 2, 5, 9, 1, 3, 6, 10, 6, 8, 8, 1, 2, 4, 6, 1, 3, 4, 5, 6, 7, 8, 1, 10, 1, 2, 3, 4, 8, 8, 2, 1, 5, 10, 7, 1, 2, 3, 4, 8, 7, 9, 6, 6, 9, 7, 9, 1, 2, 4, 8, 9, 9, 10, 2, 10, 7, 1, 4, 9, 3, 7, 7, 2, 3, 6, 7, 8, 8, 1, 2, 4, 8, 2, 2, 9, 3, 4, 5, 6, 4, 3, 7, 10, 1, 2, 1, 3, 4, 6, 7, 9, 6, 1, 2, 3, 5, 6, 7, 9, 2, 3, 6, 7, 9, 5, 7, 8, 1, 2, 4, 5, 6, 7, 8, 9, 9, 1, 2, 3, 4, 6, 8, 3, 9, 3, 10, 2, 8, 6, 5, 4, 8, 4, 4, 6, 9, 5, 9, 1, 2, 3, 4, 7, 8, 9, 3, 5, 7, 9, 7, 9, 1, 4, 2, 4, 8, 9, 1, 5, 9, 2, 8, 9, 7, 6, 1, 5, 6, 1, 2, 4, 5, 6, 8, 10, 8, 6, 8, 3, 5, 8, 10, 1, 2, 3, 4, 6, 7, 8, 9, 2, 1, 2, 3, 4, 5, 6, 7, 1, 3, 5, 7, 9, 7, 10, 2, 1, 2, 4, 5, 7, 8, 5, 9, 10, 2, 3, 5, 6, 7, 8, 9, 2, 7, 8, 1, 2, 9, 1, 2, 3, 4, 5, 7, 8, 9, 2, 9, 10, 1, 3, 4, 5, 4, 10, 3, 5, 6, 8, 9, 7, 9, 9, 1, 2, 3, 4, 6, 7, 8, 9, 9, 1, 2, 3, 4, 5, 6, 7, 9, 10, 6, 8, 1, 2, 3, 4, 8, 3, 5, 10, 3, 7, 8, 9, 9, 3, 7, 1, 2, 3, 4, 5, 6, 7, 7, 3, 4, 2, 1, 2, 4, 1, 2, 3, 4, 5, 6, 7, 8, 9, 5, 3, 1, 2, 4, 6, 7, 8, 10, 1, 2, 3, 7, 8, 5, 7, 6, 1, 3, 5, 6, 4, 10, 8, 1, 2, 8, 1, 1, 2, 3, 4, 5, 8, 9, 3, 5, 6, 9], \"Freq\": [0.9847060578239417, 0.9707767045426164, 0.9650446208336086, 0.13270656490036484, 0.7181767041666803, 0.09367522228261048, 0.05074074540308068, 0.9832687812153017, 0.8917917116286401, 0.0982482394167146, 0.007557556878208815, 0.9581710715857424, 0.43207450577137724, 0.02479116016721017, 0.028332754476811623, 0.08853985774003632, 0.08853985774003632, 0.278015153303714, 0.005312391464402179, 0.05312391464402179, 0.9796338697616429, 0.9927058257485304, 0.9901466995922396, 0.9931942716756578, 0.9883261134792239, 0.006138671512293316, 0.08287060453878786, 0.9115766499266664, 0.9837294129728742, 0.9875558660006759, 0.2106789182414319, 0.7773325604080419, 0.060646625229622025, 0.2607804884873747, 0.6367895649110312, 0.04245263766073541, 0.36289791703897567, 0.5977142162994893, 0.026683670370512915, 0.010673468148205167, 0.8574885903383584, 0.1319213215905167, 0.03780092287416688, 0.1065298735544703, 0.1890046143708344, 0.09278408341840962, 0.3539540960035626, 0.21649619464295577, 0.9872652332850393, 0.15426094514193867, 0.16237994225467228, 0.6738767603568899, 0.6707008571056655, 0.07919118553777738, 0.05171669259609951, 0.008080733218140549, 0.014545319792652988, 0.15353393114467043, 0.021009906367165425, 0.09619277932367576, 0.11791372949353802, 0.5512984019303138, 0.1954885515287604, 0.03930457649784601, 0.2652822490159573, 0.198961686761968, 0.12110711368119792, 0.3921563681105456, 0.02018451894686632, 0.3242399014677104, 0.605524944193972, 0.06651074901901752, 0.00277128120912573, 0.03834044549006812, 0.9201706917616349, 0.01917022274503406, 0.9793163759201342, 0.9958601161316931, 0.986389583341472, 0.12557942668097963, 0.12218538812203422, 0.037334424148399346, 0.5430461694312633, 0.11879134956308883, 0.05091057838418093, 0.4755613841947492, 0.1408115595283802, 0.07891636852689439, 0.14906425166191162, 0.001547379775037145, 0.01341062471698859, 0.02991600898405147, 0.106769204477563, 0.00412634606676572, 0.3378084168322349, 0.07523244217661126, 0.2788025798309712, 0.134238279177875, 0.041304085900884614, 0.0221271888754739, 0.050154961451074176, 0.01327631332528434, 0.0457295236759794, 0.8158553946405502, 0.09825995628882539, 0.0655066375258836, 0.02084302103096296, 0.9928135555638842, 0.7662436610439918, 0.1048543957218094, 0.12905156396530387, 0.49724003870696487, 0.09087938044252622, 0.22719845110631556, 0.06491384317323301, 0.0882828267155969, 0.031158644723151847, 0.0012982768634646603, 0.9368233906815571, 0.0557632970643784, 0.040163655094686584, 0.27311285464386875, 0.6827821366096719, 0.9694827749667455, 0.9648118990143031, 0.5106595469646349, 0.03404396979764233, 0.16253250096938918, 0.0197674663341149, 0.13288130146821683, 0.02745481435293736, 0.09005179107763454, 0.007687348018822461, 0.015374696037644922, 0.9739262753220367, 0.9588005670783858, 0.9805037193460521, 0.9910115375660845, 0.09977109579868486, 0.8979398621881638, 0.12653083993593492, 0.03244380511177818, 0.47854612539872826, 0.3179492900954262, 0.030821614856189276, 0.012977522044711275, 0.18534630397173213, 0.8093455273432303, 0.08953795266224036, 0.4122124613129557, 0.4899246466424473, 0.0067575813329992735, 0.1304023477119716, 0.8548598350007027, 0.9852827688621631, 0.9804045159641323, 0.9793728977288326, 0.9771981373242846, 0.9844268907401975, 0.974509529369963, 0.9867257880326253, 0.005159592523942149, 0.7687792860673803, 0.22186247852951244, 0.05777731863293156, 0.008253902661847366, 0.008253902661847366, 0.858405876832126, 0.06603122129477892, 0.9787233131591535, 0.7531685178482023, 0.20102362576019633, 0.04556535517231117, 0.9799516796861857, 0.0069695485949317374, 0.0034847742974658687, 0.8398306056892744, 0.14984529479103234, 0.9746011639368455, 0.9861430461847057, 0.14536445202568385, 0.8514203618647197, 0.946550086891472, 0.021512501974806184, 0.9905532340885855, 0.9768751402176787, 0.9453988967766811, 0.03259996195781659, 0.3761907105468843, 0.1816093085398752, 0.43456513114898704, 0.9829872193223524, 0.9877898133981884, 0.4132607087486998, 0.11464651920125221, 0.09864933047549608, 0.0173302877862358, 0.09465003329405705, 0.13064370792700833, 0.12131201450365059, 0.00799859436287806, 0.16804541482539248, 0.425056049264228, 0.20017174413024694, 0.15321787822315197, 0.017298792702613933, 0.002471256100373419, 0.034597585405227865, 0.2038078865536288, 0.098992402040334, 0.2271002164454721, 0.017469247418882467, 0.4483773504179833, 0.9792314226495857, 0.09077981753488826, 0.2975560685865782, 0.6051987835659217, 0.9892942036186474, 0.9741070555328477, 0.987464469747677, 0.9661623414236664, 0.8055695373777367, 0.05854190087391946, 0.06843630665542697, 0.06513817139492446, 0.0016490676302512524, 0.8898949733438557, 0.05614479327090573, 0.05053031394381515, 0.9924911086029661, 0.339994410189079, 0.14122844730930972, 0.3190716772543664, 0.19876596287976925, 0.9692940091174693, 0.9669338728492756, 0.9951551451330896, 0.9813196706867087, 0.9888179254671347, 0.9904356618168487, 0.006590999845272345, 0.03954599907163407, 0.27682199350143855, 0.665690984372507, 0.009886499767908518, 0.981057196639198, 0.9850934046457275, 0.25167592674990036, 0.7430432123092297, 0.9879622253015343, 0.34229348615351424, 0.2170784330990663, 0.2580366280234184, 0.04329866320574368, 0.12521505305444794, 0.005266053633130988, 0.008776756055218314, 0.9765998280670752, 0.9842589448460215, 0.2703236381350653, 0.007835467772030879, 0.5680714134722387, 0.09794334715038598, 0.05093054051820071, 0.16916588605135013, 0.8246836945003319, 0.9921962124802899, 0.08395581217047522, 0.22038400694749744, 0.6821409738851111, 0.34907734246683414, 0.06867095261642639, 0.5779805178549221, 0.9799033002241054, 0.9699437973804598, 0.548669889711806, 0.25722860880253257, 0.09503520029650218, 0.0012671360039533625, 0.03801408011860087, 0.024075584075113888, 0.02534272007906725, 0.008869952027673537, 0.9040005790638928, 0.08218187082399026, 0.5028446483277971, 0.1160410726910301, 0.37820794062261665, 0.9876276778753427, 0.9683116552916682, 0.7737288465263895, 0.09639900382951738, 0.12937761040277332, 0.9837852936651931, 0.9802042827383755, 0.833485112613356, 0.00658881511947317, 0.10542104191157071, 0.04612170583631219, 0.003294407559736585, 0.8908604222194951, 0.10578967513856505, 0.1580983462091414, 0.5583899036322867, 0.1816449084105029, 0.02018276760116699, 0.08073107040466795, 0.04502481940645451, 0.26220336007288214, 0.0644472905229643, 0.13242593943074857, 0.0547360549647094, 0.2878057083628269, 0.15273125014346334, 0.9922597343015082, 0.9829212627987162, 0.9196603456367654, 0.00661626147940119, 0.07277887627341309, 0.7884594464123429, 0.2093255167466397, 0.23208605830277373, 0.23208605830277373, 0.535218869147213, 0.13577401998814118, 0.01939628856973445, 0.14223944951138598, 0.6918009589871955, 0.9829629945885936, 0.9901308108357421, 0.1696075216175269, 0.8171998768844478, 0.8125992589314243, 0.0021727252912604926, 0.08473628635915922, 0.0890817369416802, 0.010863626456302464, 0.9566681051932789, 0.9827293047743316, 0.9775604087723455, 0.9671178597609436, 0.624480760594753, 0.038370553646375, 0.012470429935071872, 0.1295006185565156, 0.16403411683825309, 0.02973717907594062, 0.19458079887731985, 0.05064431751601476, 0.5864078870275393, 0.10128863503202952, 0.06663725988949311, 0.5365878489156464, 0.02785058039354566, 0.09840538405719468, 0.007426821438278843, 0.24694181282277153, 0.07055480366364901, 0.011140232157418264, 0.06553686011656654, 0.3891251069421138, 0.17613031156327255, 0.028672376300997858, 0.012288161271856226, 0.32768430058283265, 0.9865834465075175, 0.013702547868159965, 0.9840169360771313, 0.9930619690057892, 0.2074253941000798, 0.07977899773079992, 0.26592999243599974, 0.4467623872924796, 0.5176713837530856, 0.47860184535662637, 0.8740207941918969, 0.1229091741832355, 0.36184340670934906, 0.0018228886987876527, 0.06744688185514315, 0.05377521661423575, 0.14583109590301221, 0.07018121490332463, 0.1932262020714912, 0.10481610018029003, 0.6390072629649662, 0.05954906393221908, 0.22216381543943273, 0.009161394451110628, 0.0687104583833297, 0.9877075866203202, 0.18287982190635127, 0.36575964381270254, 0.44644191818315165, 0.3468356171275608, 0.08558281461589162, 0.5675491916632812, 0.989771001337525, 0.9800237919204028, 0.6229842719914618, 0.37480354575096075, 0.21074524682012813, 0.00945651748551857, 0.6835711210960566, 0.01553570729763765, 0.0006754655346798978, 0.07902946755754804, 0.9861529269982405, 0.9826250147377449, 0.9933074590305669, 0.0028057224148444857, 0.7210706606150328, 0.0392801138078228, 0.05050300346720074, 0.18517767937973603, 0.9744629326543185, 0.1748515221361953, 0.10190732885238375, 0.14159755166857532, 0.10190732885238375, 0.09868920267809794, 0.0010727087247619342, 0.023599591944762553, 0.041835640265715436, 0.31537636508000866, 0.9795339431938171, 0.9842871878448481, 0.9653490690656498, 0.9903463784749125, 0.9857141072766539, 0.9712657252457115, 0.9910364287017434, 0.9751182349034373, 0.9903933266421724, 0.004287416998450963, 0.009084813187113377, 0.09690467399587603, 0.7025588864701012, 0.13627219780670066, 0.024226168498969008, 0.030282710623711257, 0.6013101051757044, 0.014282900360468039, 0.09426714237908905, 0.02285264057674886, 0.09569543241513585, 0.025709220648842467, 0.13568755342444636, 0.009998030252327627, 0.35869258360329836, 0.15111101554133125, 0.17098028402081422, 0.08679733072616258, 0.07843132294532763, 0.08679733072616258, 0.05019604668500968, 0.009411758753439315, 0.007320256808230579, 0.9812866507800325, 0.9754930510048676, 0.9970552566875063, 0.9828124402748982, 0.9593738533612645, 0.014418156922878556, 0.022428244102255534, 0.251516737432437, 0.02403026153813093, 0.3091893651239513, 0.03684640102513409, 0.23709858050955848, 0.068886749742642, 0.035244383589258695, 0.4782177041102449, 0.06376236054803265, 0.45696358392756736, 0.9723594570646519, 0.9889613548433414, 0.977246614842192, 0.983326049513344, 0.12500220283163127, 0.8625151995382558, 0.9850252616112053, 0.772117321004708, 0.07335114549544726, 0.0025737244033490264, 0.15184973979759256, 0.9949587381870334, 0.9845317189038346, 0.10768774390948191, 0.21069341199681244, 0.014046227466454161, 0.6695368425676484, 0.012831515749675079, 0.975195196975306, 0.2480858665841094, 0.12863711600657524, 0.45941827145205444, 0.11026038514849307, 0.05053600985972599, 0.5609396623905805, 0.439952676384769, 0.11890488004894034, 0.5084208664161587, 0.024601009665298004, 0.34441413531417203, 0.9890005822250226, 0.9685723922338108, 0.9086614669397621, 0.0838764431021319, 0.10441144595575991, 0.08420277899658056, 0.23239967003056236, 0.575947008336611, 0.543731257522653, 0.4516477381034941, 0.889307556024975, 0.09881195066944168, 0.9733550942751291, 0.7353934290255473, 0.17118096578806968, 0.021911163620872916, 0.04724594655750723, 0.023965335210329754, 0.0006847238631522786, 0.16878868600410676, 0.11685370569515083, 0.714105979248144, 0.39923792154883786, 0.5788949862458148, 0.9741280434400461, 0.5418004389972338, 0.049706462293324205, 0.059647754751989045, 0.20048273124974098, 0.0165688207644414, 0.1275799198861988, 0.0016568820764441402, 0.8776884236237494, 0.11702512314983325, 0.977787744864882, 0.01715417096254179, 0.9613376701364633, 0.8637413954846129, 0.13460904864695267, 0.717300350734469, 0.15257493648219367, 0.03170388290539089, 0.059444780447607926, 0.0019814926815869306, 0.009907463407934653, 0.0257594048606301, 0.9900378179506611, 0.7555428614943711, 0.011579200942442469, 0.008684400706831852, 0.030395402473911485, 0.19250421566810605, 0.9612386907773154, 0.025633031754061744, 0.8101800556347356, 0.0035586239632565257, 0.0023724159755043506, 0.11743459078746535, 0.014234495853026103, 0.05100694347334353, 0.8076830702074919, 0.18761142181985047, 0.0063597092142322195, 0.9768242180217038, 0.5365426102909594, 0.46240217686893587, 0.134361256937912, 0.8587436856466549, 0.030639650690323556, 0.19609376441807075, 0.07659912672580889, 0.24205324045355608, 0.006127930138064711, 0.19609376441807075, 0.25124513566065315, 0.9742741488570552, 0.018130937658046384, 0.09065468829023193, 0.10878562594827831, 0.010878562594827832, 0.2792164399339144, 0.4931615042988617, 0.9890723731628053, 0.23253112311745758, 0.019931239124353507, 0.1561280398074358, 0.03986247824870701, 0.2723936013661646, 0.2723936013661646, 0.06760852878481606, 0.9239832267258195, 0.9894231630634363, 0.21397234537786847, 0.10559674187479223, 0.12504877327278027, 0.055577232565680125, 0.439060137268873, 0.061134955822248135, 0.9750523796603252, 0.06564835238975178, 0.5655858052040154, 0.36864074803476, 0.9939007235029313, 0.7569373535832897, 0.01887101435526207, 0.1950004816710414, 0.02516135247368276, 0.002096779372806897, 0.9876280485521147, 0.9777543128134154, 0.9842553929483991, 0.9761620950863015, 0.7076384635716241, 0.12278658272019048, 0.1680237447749975, 0.021693694141422366, 0.42302703575773615, 0.16960524510566577, 0.19129893924708813, 0.006902539044998025, 0.10551023968782695, 0.023665848154278944, 0.058178543379269074, 0.9859429796722589, 0.9804938701546053, 0.26574853882881877, 0.7086627702101834, 0.0018150389875432914, 0.15246327495363649, 0.09438202735225115, 0.11071737824014079, 0.6398012431090102, 0.9910101457931989, 0.9903615075911321, 0.9672969303331281, 0.021259273194134686, 0.006017781856410394, 0.6987313377720957, 0.15980554040912046, 0.02674569713960175, 0.0735506671339048, 0.03410076385299223, 0.08570970158638552, 0.22284522412460234, 0.008570970158638551, 0.6771066425324456, 0.6088399093360777, 0.12309475164542974, 0.019901546673213193, 0.02948377284920473, 0.05380788544979863, 0.09582226175991537, 0.06854977187440099, 0.3207430827458325, 0.013003097949155372, 0.4507740622373862, 0.06068112376272507, 0.0021671829915258954, 0.15170280940681266, 0.9919210760210944, 0.975082732091479, 0.966962496340771, 0.988614476869304, 0.11945716246583955, 0.780453461443485, 0.08760191914161568, 0.9937591213965066, 0.02387963559508745, 0.08954863348157795, 0.8775766081194638, 0.9785633932361538, 0.9844792659913878, 0.9609161736469927, 0.8141979627612802, 0.0037694350127837045, 0.11308305038351114, 0.07161926524289039, 0.05229282407952101, 0.039219618059640755, 0.2483909143777248, 0.3529765625367668, 0.3006837384572458, 0.9899064767031305, 0.9910939875782384, 0.9745026597777814, 0.9690663773139354, 0.9912722655737581, 0.9848143481921672, 0.971050391032189, 0.9700911477845269, 0.013808024360328923, 0.089752158342138, 0.6558811571156239, 0.08284814616197354, 0.13808024360328924, 0.020712036540493386, 0.9885515142211977, 0.20193975332794623, 0.796540138126899, 0.8747066714728337, 0.10710693936402045, 0.008925578280335036, 0.9825515068771495, 0.9967712286268938, 0.09191067227984676, 0.05013309397082551, 0.7269298625769698, 0.12533273492706376, 0.8472148056437723, 0.054880311296762574, 0.030870175104428948, 0.054880311296762574, 0.006860038912095322, 0.7083020118074762, 0.022781643654626427, 0.2692376068274032, 0.11667945394255798, 0.8789852197006035, 0.28750258819056385, 0.01615183079722269, 0.2907329543500084, 0.2390470957988958, 0.03876439391333445, 0.12598428021833696, 0.9229204837425227, 0.056275639252592845, 0.011255127850518569, 0.2201227583911192, 0.07656443770125886, 0.07656443770125886, 0.550306895977798, 0.009570554712657357, 0.03828221885062943, 0.02392638678164339, 0.01637769231901108, 0.9826615391406648, 0.9737518380431867, 0.9814376652530538, 0.2970839791476758, 0.13317557685930295, 0.03841603178633739, 0.002561068785755826, 0.13573664564505877, 0.24330153464680346, 0.002561068785755826, 0.14341985200232626, 0.005122137571511652, 0.992714004382007, 0.9902275013588425, 0.5278914841775804, 0.20208345878673, 0.024155748717947317, 0.07069975234521166, 0.047133168230141104, 0.053024814258908745, 0.016496608880549386, 0.0011783292057535276, 0.0553814726704158, 0.0017674938086302916, 0.09702961158103032, 0.7795827413234505, 0.043496032777703246, 0.07695451952978268, 0.9732135467298212, 0.06291327133363574, 0.07031483266700465, 0.699447546003362, 0.14433044600069375, 0.022204684000106733, 0.9855323821675498, 0.9840811761122422, 0.9912369294504106, 0.982833974063898, 0.9920889412337004, 0.4410876999891276, 0.5513596249864094, 0.9835359907018948, 0.9815074463354783, 0.9653511303960088, 0.9938104204929794, 0.970339676697925, 0.2164325991223277, 0.7729735682940275, 0.9764761518827648, 0.624709975924866, 0.2974809409166028, 0.06693321170623565, 0.9740349013091779, 0.9973067643281862, 0.9782227103987726, 0.1647160074784804, 0.07529874627587675, 0.23060241046987257, 0.16314728359773298, 0.06588640299139216, 0.08000491791811905, 0.1505974925517535, 0.06902385075288703, 0.9497853027793387, 0.04969806816868633, 0.42771003061266943, 0.13768747560818811, 0.02636568681858921, 0.1874893284877455, 0.21678453606395573, 0.973612458839204, 0.9796029023090416, 0.9896028597789835, 0.10898784018160022, 0.39301675701849775, 0.14861978206581847, 0.0066053236473697105, 0.05614525100264254, 0.046237265531587975, 0.2212783421868853, 0.01981597094210913, 0.3290325250165937, 0.014151936559853492, 0.21935501667772914, 0.07075968279926746, 0.007075968279926746, 0.007075968279926746, 0.3467224457164106, 0.9700920998670153, 0.9968145520671828, 0.9984954855230909, 0.9860852771636751, 0.987891576775586, 0.986845732438959, 0.15630700200840505, 0.7599754235581074, 0.04311917296783588, 0.03233937972587691, 0.9706591750832677, 0.15113204777574749, 0.8312262627666112, 0.032664893900742106, 0.12297371821455852, 0.24402597208201457, 0.021136107818127248, 0.33625626074293347, 0.23826157904070713, 0.005764393041307431, 0.20329520890356642, 0.056297134773295315, 0.1469980741302711, 0.18140187871395158, 0.36280375742790316, 0.050041897576262505, 0.9872267807254624, 0.963905976662583, 0.9876522974351429, 0.9832806563786567, 0.006688984056997665, 0.9911556442196494, 0.07630144027701159, 0.16350308630788196, 0.2870387515182817, 0.010900205753858798, 0.39240740713891675, 0.06540123452315279, 0.6876533644484113, 0.07253138935358495, 0.009763840874521052, 0.0013948344106458647, 0.09903324315585639, 0.10042807756650225, 0.029291522623563156, 0.9848773351304463, 0.9678186203885893, 0.9871735807139456, 0.1509957267789315, 0.747031490379977, 0.06357714811744485, 0.03973571757340303, 0.8418112528380047, 0.03936070714627171, 0.001269700230524894, 0.11681242120829025, 0.007903515253478486, 0.9905739117693036, 0.10729852164254601, 0.2751244144680667, 0.12105474236594935, 0.16232340453615934, 0.01925870901276467, 0.006190299325531501, 0.28612939104678936, 0.0034390551808508338, 0.019946520048934834, 0.09619739131600756, 0.8978423189494039, 0.03347238025149606, 0.3849323728922048, 0.04184047531437008, 0.535558084023937, 0.09207389616037548, 0.6696283357118217, 0.21762920910634204, 0.016740708392795543, 0.7260268898321228, 0.26853049349955227, 0.9922510325701918, 0.006443188523183064, 0.9960003126360862, 0.08778470056007184, 0.06270335754290846, 0.8402249910749734, 0.8658765936343596, 0.02049412055939313, 0.0051235301398482825, 0.10247060279696564, 0.0051235301398482825, 0.9355863352579135, 0.04677931676289567, 0.44339708868856165, 0.017618427365108408, 0.008809213682554204, 0.32594090625450556, 0.014682022804257008, 0.15856584628597567, 0.035236854730216816, 0.994926012039913, 0.36339136711132164, 0.6307925617781432, 0.9812667254609123, 0.9847063373121798, 0.35650418121911315, 0.10055246136949346, 0.5393268382545559, 0.5847029705057452, 0.08662266229714742, 0.03248349836143029, 0.02706958196785857, 0.265281903285014, 0.5841313525456115, 0.034360667796800685, 0.3779673457648075, 0.926635409041775, 0.06813495654718933, 0.9934112632160927, 0.9937517547883585, 0.3894280963826328, 0.06638898940410788, 0.1764975571962868, 0.17325906990828155, 0.028336763770046045, 0.07691407309012498, 0.03400411652405525, 0.05505428389608946, 0.5420386661700831, 0.08551246132963143, 0.07861629509337084, 0.1448194909614726, 0.0275846649450424, 0.038618530923059356, 0.02482619845053816, 0.056548563137336916, 0.00137923324725212, 0.28961747202319343, 0.4655875816069059, 0.09898318664083826, 0.0916510987415169, 0.01833021974830338, 0.03666043949660676, 0.186757915231719, 0.08559737781453788, 0.7159053417215895, 0.43040070053504537, 0.5668692153388403, 0.023281887224297984, 0.1513322669579369, 0.8148660528504295, 0.9782810484074793, 0.3586658811442119, 0.018417977680378447, 0.16866990086241315, 0.2365256081059127, 0.04846836231678539, 0.0067855707243499545, 0.0998448263725779, 0.062039503765485296, 0.9891561328671971, 0.9860857497036126, 0.9835747987424546, 0.9822621331461155, 0.9713067976754981, 0.10056672533033485, 0.16245394091823323, 0.703967077312344, 0.030943607793949186, 0.9548719406651918, 0.0008760293033625613, 0.008760293033625613, 0.03504117213450245, 0.8305976555668823, 0.04314793015931856, 0.12135355357308344, 0.00269674563495741, 0.9850964124016055, 0.21060807133730983, 0.7880818153267077, 0.9697044643671987, 0.9752889342944162, 0.1419906930579941, 0.22481859734182402, 0.17453022688378442, 0.06803720709028885, 0.06507906765158064, 0.30173022274823746, 0.023665115509665685, 0.0029581394387082106, 0.979096275538423, 0.9653444231446977, 0.33818130405896596, 0.049958601735983606, 0.042272663007370745, 0.034586724278757884, 0.11528908092919295, 0.0614875098289029, 0.0614875098289029, 0.2959086410515952, 0.519530522565361, 0.47005142517818377, 0.9900538801174034, 0.9930543748003543, 0.488349900507736, 0.12527236578241924, 0.2887634194306613, 0.04458846917679329, 0.04458846917679329, 0.004246520873980314, 0.002123260436990157, 0.991945621405594, 0.351207060912418, 0.6284757932116953, 0.9898368438140817, 0.9791558262074735, 0.651289018184435, 0.16785799437743168, 0.1275720757268481, 0.02685727910038907, 0.020142959325291802, 0.08129818344928634, 0.1718347968359916, 0.18292091276089428, 0.4064909172464317, 0.049887521662062076, 0.025867603824772926, 0.024019917837289146, 0.055430579624513414, 0.9911624800085073, 0.8917580765640222, 0.09332351964042093, 0.9976767639613859, 0.5154789269446303, 0.1503958561909723, 0.02984955924400977, 0.13661913653989086, 0.11710211703419217, 0.041330158953244295, 0.009184479767387621, 0.24503638510886067, 0.24126659456872435, 0.11309371620408955, 0.026388533780954227, 0.022618743240817907, 0.35059052023267756, 0.9875467990416239, 0.9801190543379321, 0.7456708884814935, 0.1769388548939137, 0.07583093781167731, 0.035120844323258495, 0.27298474451260013, 0.6912420723623149, 0.017572726457401246, 0.366830664798251, 0.6150454260090435, 0.8975358326220314, 0.09284853440917566, 0.9822291244519844, 0.8866204690288729, 0.10568985723522989, 0.9699445488436957, 0.9712022728552269, 0.975605619414784, 0.19509399703372607, 0.4292067934741973, 0.03192447224188245, 0.12060356180266701, 0.010641490747294148, 0.21637697852831436, 0.97294192983201, 0.31495179753899044, 0.6733452223247383, 0.4005842838418721, 0.4171888137420533, 0.17227199771438023, 0.008302264950090614, 0.9853569755267532, 0.9809528581933444, 0.9805193240126041, 0.3360829428046853, 0.16804147140234266, 0.47798462976666356, 0.014937019680208236, 0.035712904476489525, 0.05952150746081587, 0.023808602984326348, 0.15475591939812125, 0.035712904476489525, 0.14880376865203968, 0.547597868639506, 0.9817862824225412, 0.9729651482007249, 0.04764907087692462, 0.19059628350769847, 0.6474667866217404, 0.005605773044344073, 0.10650968784253738, 0.9851048724034962, 0.9827841586306431, 0.9911204849688066, 0.9479492327568892, 0.04989206488194154, 0.9938167716855175, 0.03498038070829001, 0.6856154618824841, 0.10144310405404101, 0.06996076141658002, 0.10843918019569902, 0.9827486330863794, 0.9816375928753375, 0.9825222416236782, 0.008513911829559883, 0.9876137722289465, 0.4931322759267527, 0.5006039770771581, 0.33348122446542394, 0.5749676283886619, 0.05462192469692288, 0.034498057703319714, 0.9921274209032253, 0.9664342051235754, 0.9827749782506618, 0.989205467291827, 0.9706752580467097, 0.985784655775112, 0.9654626061491814, 0.022194542670096126, 0.984268890584776, 0.9945635867757472, 0.9883150822627775, 0.9849652300295235, 0.057293122664175355, 0.05092722014593365, 0.1018544402918673, 0.09548853777362559, 0.6875174719701043, 0.9706182276127875, 0.13943560343271902, 0.5339363350960217, 0.037409552140485594, 0.2856729436182536, 0.9862316361679974, 0.9759690694251696, 0.9867759098084348, 0.7572217310005185, 0.05271796861396015, 0.05751051121522925, 0.13419119283553493, 0.9814746119767889, 0.9898841622196124, 0.30737898984544315, 0.6762337776599749, 0.9929190080557528, 0.9735002033253031, 0.33395467652873045, 0.13146632062443234, 0.1254218920899757, 0.04986653540926744, 0.3475546407312579, 0.010577749935299155, 0.9863526933799147, 0.009982515390764056, 0.0549038346492023, 0.08485138082149447, 0.5290733157104949, 0.009982515390764056, 0.3094579771136857, 0.9799939282313004, 0.005069312858868517, 0.15207938576605554, 0.21291114007247774, 0.21798045293134627, 0.4106143415683499, 0.8612396615082645, 0.043607071468772886, 0.09811591080473898, 0.1065666293741449, 0.3070133846255127, 0.19537215385259898, 0.12432773426983573, 0.030447608392612832, 0.025373006993844024, 0.1979094545519834, 0.01014920279753761, 0.9949775733577831, 0.35391643889938745, 0.3266920974455884, 0.005444868290759806, 0.15245631214127459, 0.051726248762218166, 0.10889736581519613, 0.3242394759677963, 0.6708402951057855, 0.9835364439888951, 0.9830523483937994, 0.13097019106595995, 0.8691658134377341, 0.9890961384935659, 0.9909567748297157, 0.16339056209334596, 0.8290558150662368, 0.9883545260032532, 0.9215824665857869, 0.05529494799514722, 0.01843164933171574, 0.9751101196900238, 0.9714306002354299, 0.18620777107633493, 0.6132634313826784, 0.0014378978461493045, 0.030914803692210047, 0.004313693538447913, 0.15097927384567697, 0.01294108061534374, 0.16749876204031444, 0.10659012129838191, 0.7004493685322241, 0.01522716018548313, 0.26136189540339777, 0.7304729897171887, 0.9927739969267413, 0.9862372968583438, 0.22217025463053575, 0.7519608618264286, 0.017090019586964288, 0.9688742633031405, 0.9911946796691222, 0.9781616516303906, 0.9619300082359202, 0.9844382428320294, 0.9818245654041116, 0.9740769800622382, 0.9789391089246258, 0.991956995473349, 0.12133247789819343, 0.8628087317204866, 0.9917946707566577, 0.13510717749440534, 0.029212362701493046, 0.014606181350746523, 0.3797607151194096, 0.04199277138339625, 0.37428339711287967, 0.0237350446949631, 0.9691321355441097, 0.9632272727173988, 0.9874926635973259, 0.9737992847074124, 0.011592848627469194, 0.011592848627469194, 0.959631131740621, 0.4026586300743246, 0.0991394354349663, 0.08388721459881764, 0.24403553337837858, 0.009151332501689197, 0.1265934329400339, 0.02287833125422299, 0.010676554585304062, 0.9768729587622944, 0.5760075420899471, 0.015267669790335947, 0.022207519695034105, 0.055518799237585265, 0.10687368853235163, 0.19986767725530696, 0.02498345965691337, 0.2361939333895998, 0.6083783132762419, 0.04294435152538178, 0.06083783132762419, 0.05010174344627875, 0.998337715420508, 0.9572389285400305, 0.9932084162885105, 0.17789427870633404, 0.15009829765846933, 0.05003276588615645, 0.016677588628718813, 0.055591962095729384, 0.5448012285381479, 0.8512579810800404, 0.14471385678360685, 0.9713674442641271, 0.23632675424002733, 0.013700101695074048, 0.015412614406958305, 0.07535055932290727, 0.06850050847537024, 0.5206038644128138, 0.0702130211872545, 0.7829935811766268, 0.08202789898040852, 0.12677038933335863, 0.3310041905626259, 0.6620083811252518, 0.9618358589664646, 0.188651797004881, 0.20544955975189094, 0.2416293564377585, 0.21449450892335784, 0.05426969502880138, 0.01033708476739074, 0.07494386456358286, 0.009044949171466896, 0.3492243367157784, 0.03880270407953093, 0.6053221836406826, 0.023691166973237775, 0.6988894257105144, 0.2724484201922344, 0.9672211364538753, 0.9944579315934617, 0.9586607943579961, 0.9911846088661025, 0.2601175250296174, 0.037159646432802486, 0.6168501307845212, 0.08175122215216547, 0.9836564273790973, 0.9906630908603044, 0.979467977056043, 0.1144928267599898, 0.10650495512557191, 0.5857772531906456, 0.0066565596953482445, 0.026626238781392978, 0.04393329398929841, 0.11316151482092016, 0.0026626238781392976, 0.9793818497340597, 0.5887633080511213, 0.047195455555200105, 0.14984557138776033, 0.1321472755545603, 0.008259204722160018, 0.04011613722192009, 0.012978750277680027, 0.020058068610960045, 0.0011798863888800026, 0.1051781447766354, 0.8905082924421797, 0.15155168628437707, 0.08774044995411304, 0.5822775315136592, 0.08375224768347153, 0.09571685449539603, 0.9691224211459829, 0.9974966847090095, 0.972283982301085, 0.05223229156105624, 0.8252702066646886, 0.020892916624422497, 0.09401812480990124, 0.9745645282411964, 0.9724787986060897, 0.9738836799906926, 0.7521082722275721, 0.02816884914710008, 0.04507015863536013, 0.10985851167369032, 0.0028168849147100082, 0.05915458320891017, 0.9916108651437066, 0.9886115810835006, 0.9898033651293727, 0.9840516955640856, 0.9888099551095649, 0.0765185683276108, 0.8110968242726744, 0.1071259956586551, 0.4844654240254446, 0.19779949264944188, 0.1390329767173613, 0.012899966911920123, 0.0415665600495204, 0.01576662622568015, 0.09173309804032087, 0.002866659313760027, 0.012899966911920123, 0.9832972288650037, 0.990453448924545, 0.36894519660047786, 0.39108190839650653, 0.1743751508143311, 0.04815705724048343, 0.0003883633648426083, 0.01631126132338955, 0.0003883633648426083, 0.04941780889775224, 0.16554965980747, 0.5806592545485888, 0.044476028007977016, 0.16060787891769476, 0.884170940557262, 0.10687780600142727, 0.9942882240228046, 0.3991640667309853, 0.12605181054662695, 0.07142935930975527, 0.3991640667309853, 0.9229299012780182, 0.06152866008520121, 0.9747183758653879, 0.9896490199260877, 0.969006012115262, 0.014250088413459736, 0.981836862735155, 0.6409808333660127, 0.02169987196291189, 0.1368761154583673, 0.07010727864940765, 0.11517624349545542, 0.01168454644156794, 0.0016692209202239915, 0.9862594393621491, 0.8095343287665133, 0.109936760696687, 0.07995400777940873], \"Term\": [\"abandona\", \"abuso\", \"acontecimentos\", \"adolescentes\", \"adolescentes\", \"adolescentes\", \"adolescentes\", \"adulta\", \"agente\", \"agente\", \"agente\", \"agir\", \"ajuda\", \"ajuda\", \"ajuda\", \"ajuda\", \"ajuda\", \"ajuda\", \"ajuda\", \"ajuda\", \"al\", \"alemanha\", \"alem\\u00e3es\", \"alem\\u00e3o\", \"alien\\u00edgena\", \"alien\\u00edgena\", \"alien\\u00edgenas\", \"alien\\u00edgenas\", \"aluguel\", \"aluno\", \"alunos\", \"alunos\", \"alvo\", \"alvo\", \"alvo\", \"alvo\", \"al\\u00e9m\", \"al\\u00e9m\", \"al\\u00e9m\", \"al\\u00e9m\", \"ambicioso\", \"ambicioso\", \"amea\\u00e7a\", \"amea\\u00e7a\", \"amea\\u00e7a\", \"amea\\u00e7a\", \"amea\\u00e7a\", \"amea\\u00e7a\", \"amea\\u00e7am\", \"americanos\", \"americanos\", \"americanos\", \"amigo\", \"amigo\", \"amigo\", \"amigo\", \"amigo\", \"amigo\", \"amigo\", \"amigos\", \"amigos\", \"amigos\", \"amigos\", \"amigos\", \"amizade\", \"amizade\", \"amizade\", \"amizade\", \"amizade\", \"amor\", \"amor\", \"amor\", \"amor\", \"and\", \"and\", \"and\", \"andy\", \"angeles\", \"anjo\", \"ano\", \"ano\", \"ano\", \"ano\", \"ano\", \"ano\", \"anos\", \"anos\", \"anos\", \"anos\", \"anos\", \"anos\", \"anos\", \"anos\", \"anos\", \"antes\", \"antes\", \"antes\", \"antes\", \"antes\", \"antes\", \"antes\", \"antes\", \"antes\", \"apaixona\", \"apaixona\", \"apaixona\", \"apaixona\", \"apaixonado\", \"apartamento\", \"apartamento\", \"apartamento\", \"apenas\", \"apenas\", \"apenas\", \"apenas\", \"apenas\", \"apenas\", \"apenas\", \"aposentado\", \"aposentado\", \"apresenta\", \"apresenta\", \"apresenta\", \"apresentando\", \"apuros\", \"ap\\u00f3s\", \"ap\\u00f3s\", \"ap\\u00f3s\", \"ap\\u00f3s\", \"ap\\u00f3s\", \"ap\\u00f3s\", \"ap\\u00f3s\", \"ap\\u00f3s\", \"ap\\u00f3s\", \"ar\", \"arizona\", \"armados\", \"artes\", \"assalto\", \"assalto\", \"assassinato\", \"assassinato\", \"assassinato\", \"assassinato\", \"assassinato\", \"assassinato\", \"assassinatos\", \"assassinatos\", \"assassino\", \"assassino\", \"assassino\", \"assassino\", \"atriz\", \"atriz\", \"australiano\", \"autor\", \"avan\\u00e7a\", \"av\\u00f3\", \"av\\u00f4\", \"a\\u00e9rea\", \"bab\\u00e1\", \"banco\", \"banco\", \"banco\", \"banda\", \"banda\", \"banda\", \"banda\", \"banda\", \"bar\", \"baseado\", \"baseado\", \"baseado\", \"bastante\", \"batalha\", \"batalha\", \"batalha\", \"batalha\", \"beisebol\", \"belo\", \"billy\", \"billy\", \"bolsa\", \"bolsa\", \"bond\", \"boxe\", \"brian\", \"brian\", \"brit\\u00e2nico\", \"brit\\u00e2nico\", \"brit\\u00e2nico\", \"bruxas\", \"buddy\", \"busca\", \"busca\", \"busca\", \"busca\", \"busca\", \"busca\", \"busca\", \"busca\", \"cada\", \"cada\", \"cada\", \"cada\", \"cada\", \"cada\", \"cada\", \"campo\", \"campo\", \"campo\", \"campo\", \"campo\", \"capangas\", \"capit\\u00e3o\", \"capit\\u00e3o\", \"capit\\u00e3o\", \"capturado\", \"caras\", \"carros\", \"cartel\", \"casa\", \"casa\", \"casa\", \"casa\", \"casa\", \"casamento\", \"casamento\", \"casamento\", \"casar\", \"caso\", \"caso\", \"caso\", \"caso\", \"causando\", \"cavaleiro\", \"ca\\u00e7ador\", \"cenas\", \"centrada\", \"chave\", \"chefe\", \"chefe\", \"chefe\", \"chefe\", \"chefe\", \"chef\\u00e3o\", \"chocante\", \"chris\", \"chris\", \"christopher\", \"cidade\", \"cidade\", \"cidade\", \"cidade\", \"cidade\", \"cidade\", \"cidade\", \"cidad\\u00e3os\", \"cient\\u00edfica\", \"cinco\", \"cinco\", \"cinco\", \"cinco\", \"cinco\", \"cinema\", \"cinema\", \"circunst\\u00e2ncias\", \"civil\", \"civil\", \"civil\", \"classe\", \"classe\", \"classe\", \"cliente\", \"comediante\", \"come\\u00e7a\", \"come\\u00e7a\", \"come\\u00e7a\", \"come\\u00e7a\", \"come\\u00e7a\", \"come\\u00e7a\", \"come\\u00e7a\", \"come\\u00e7a\", \"comportamento\", \"comportamento\", \"com\\u00e9dia\", \"com\\u00e9dia\", \"com\\u00e9dia\", \"conde\", \"condicional\", \"conhece\", \"conhece\", \"conhece\", \"conhecem\", \"conheceu\", \"consegue\", \"consegue\", \"consegue\", \"consegue\", \"consegue\", \"conspira\\u00e7\\u00e3o\", \"conspira\\u00e7\\u00e3o\", \"conta\", \"conta\", \"conta\", \"conta\", \"conta\", \"contra\", \"contra\", \"contra\", \"contra\", \"contra\", \"contra\", \"contra\", \"corrupto\", \"corruptos\", \"crian\\u00e7a\", \"crian\\u00e7a\", \"crian\\u00e7a\", \"criaturas\", \"criaturas\", \"crime\", \"crime\", \"crime\", \"criminoso\", \"criminoso\", \"criminoso\", \"criminoso\", \"custo\", \"d\", \"dc\", \"dc\", \"decide\", \"decide\", \"decide\", \"decide\", \"decide\", \"deixada\", \"delegacia\", \"dem\\u00f4nio\", \"depress\\u00e3o\", \"descobre\", \"descobre\", \"descobre\", \"descobre\", \"descobre\", \"descobre\", \"descobrem\", \"descobrem\", \"descobrem\", \"descobrem\", \"descobrem\", \"descobrir\", \"descobrir\", \"descobrir\", \"descobrir\", \"descobrir\", \"descobrir\", \"descobrir\", \"desde\", \"desde\", \"desde\", \"desde\", \"desde\", \"desde\", \"deseja\", \"deseja\", \"desejos\", \"designado\", \"destruir\", \"destruir\", \"destruir\", \"destruir\", \"detetive\", \"detetive\", \"detetives\", \"detetives\", \"deve\", \"deve\", \"deve\", \"deve\", \"deve\", \"deve\", \"deve\", \"deve\", \"devem\", \"devem\", \"devem\", \"devem\", \"devem\", \"diamantes\", \"diferentes\", \"diferentes\", \"diferentes\", \"diretor\", \"diretor\", \"diretor\", \"dirigido\", \"doce\", \"document\\u00e1rio\", \"document\\u00e1rio\", \"dois\", \"dois\", \"dois\", \"dois\", \"dois\", \"dois\", \"dona\", \"drag\\u00e3o\", \"drama\", \"drogas\", \"drogas\", \"drogas\", \"drogas\", \"drogas\", \"dr\\u00e1cula\", \"durante\", \"durante\", \"durante\", \"durante\", \"durante\", \"durante\", \"durante\", \"durante\", \"durante\", \"duro\", \"d\\u00f3lares\", \"editor\", \"elenco\", \"eliminar\", \"emily\", \"emma\", \"emo\\u00e7\\u00f5es\", \"emprego\", \"emprego\", \"encontram\", \"encontram\", \"encontram\", \"encontram\", \"encontram\", \"encontram\", \"encontrar\", \"encontrar\", \"encontrar\", \"encontrar\", \"encontrar\", \"encontrar\", \"encontrar\", \"encontrar\", \"enquanto\", \"enquanto\", \"enquanto\", \"enquanto\", \"enquanto\", \"enquanto\", \"enquanto\", \"enquanto\", \"enquanto\", \"enredo\", \"ensinar\", \"ensino\", \"envolvido\", \"epidemia\", \"equipe\", \"equipe\", \"equipe\", \"equipe\", \"equipe\", \"equipe\", \"equipe\", \"equipe\", \"equipe\", \"escola\", \"escola\", \"escola\", \"esc\\u00e2ndalo\", \"espacial\", \"espada\", \"espanha\", \"espa\\u00e7o\", \"espa\\u00e7o\", \"esperava\", \"esposa\", \"esposa\", \"esposa\", \"esposa\", \"estados\", \"estima\\u00e7\\u00e3o\", \"estrela\", \"estrela\", \"estrela\", \"estrela\", \"estrelas\", \"estrelas\", \"estudante\", \"estudante\", \"estudante\", \"estudante\", \"estudante\", \"estudantes\", \"estudantes\", \"eua\", \"eua\", \"eua\", \"eua\", \"exesposa\", \"exnamorada\", \"explora\", \"explora\", \"ex\\u00e9rcito\", \"ex\\u00e9rcito\", \"ex\\u00e9rcito\", \"ex\\u00e9rcito\", \"faculdade\", \"faculdade\", \"fadas\", \"fadas\", \"falta\", \"fam\\u00edlia\", \"fam\\u00edlia\", \"fam\\u00edlia\", \"fam\\u00edlia\", \"fam\\u00edlia\", \"fam\\u00edlia\", \"fantasma\", \"fantasma\", \"fantasma\", \"far\\u00e1\", \"far\\u00e1\", \"fatal\", \"faz\", \"faz\", \"faz\", \"faz\", \"faz\", \"faz\", \"faz\", \"fazendeiro\", \"fazendeiro\", \"fbi\", \"fbi\", \"feminino\", \"fez\", \"fez\", \"fica\", \"fica\", \"fica\", \"fica\", \"fica\", \"fica\", \"fica\", \"fic\\u00e7\\u00e3o\", \"filha\", \"filha\", \"filha\", \"filha\", \"filha\", \"filhas\", \"filhas\", \"filho\", \"filho\", \"filho\", \"filho\", \"filho\", \"filho\", \"filhos\", \"filhos\", \"filhos\", \"filmagem\", \"filme\", \"filme\", \"filmes\", \"filmes\", \"final\", \"final\", \"final\", \"final\", \"final\", \"final\", \"final\", \"fogo\", \"for\\u00e7a\", \"for\\u00e7a\", \"for\\u00e7a\", \"for\\u00e7a\", \"for\\u00e7a\", \"for\\u00e7a\", \"for\\u00e7ados\", \"for\\u00e7as\", \"for\\u00e7as\", \"for\\u00e7as\", \"for\\u00e7as\", \"for\\u00e7as\", \"for\\u00e7as\", \"francisco\", \"francisco\", \"fugindo\", \"futuro\", \"futuro\", \"futuro\", \"futuro\", \"futuro\", \"futuro\", \"f\\u00e3s\", \"gangue\", \"gangue\", \"gangue\", \"gangues\", \"garota\", \"garota\", \"garota\", \"garota\", \"garota\", \"gar\\u00e7onete\", \"gigantes\", \"gira\", \"gotham\", \"governo\", \"governo\", \"governo\", \"grupo\", \"grupo\", \"grupo\", \"grupo\", \"grupo\", \"grupo\", \"grupo\", \"grupo\", \"gr\\u00e1vida\", \"gr\\u00e3bretanha\", \"guardacostas\", \"guardacostas\", \"guerra\", \"guerra\", \"guerra\", \"guerra\", \"guerra\", \"g\\u00eameos\", \"helen\", \"henry\", \"henry\", \"hist\\u00f3ria\", \"hist\\u00f3ria\", \"hist\\u00f3ria\", \"hist\\u00f3ria\", \"hist\\u00f3ria\", \"hist\\u00f3ria\", \"hollywood\", \"hollywood\", \"hollywood\", \"hollywood\", \"homem\", \"homem\", \"homem\", \"homem\", \"homem\", \"homem\", \"homem\", \"homens\", \"homens\", \"homens\", \"homens\", \"homens\", \"homens\", \"hong\", \"hood\", \"horr\\u00edveis\", \"hotel\", \"humana\", \"humana\", \"humana\", \"humanidade\", \"humanos\", \"humanos\", \"humanos\", \"i\", \"igreja\", \"ilegais\", \"ilha\", \"ilha\", \"ilha\", \"ilha\", \"impedir\", \"impedir\", \"impedir\", \"impedir\", \"impedir\", \"imperador\", \"in\", \"incr\\u00edveis\", \"inesperadas\", \"inesperado\", \"injustamente\", \"inoc\\u00eancia\", \"instala\\u00e7\\u00e3o\", \"internacional\", \"internacional\", \"internacional\", \"internacional\", \"internacional\", \"internacional\", \"invadir\", \"invas\\u00e3o\", \"invas\\u00e3o\", \"investiga\", \"investiga\", \"investiga\", \"investigador\", \"investigar\", \"investiga\\u00e7\\u00e3o\", \"investiga\\u00e7\\u00e3o\", \"investiga\\u00e7\\u00e3o\", \"investiga\\u00e7\\u00e3o\", \"irm\\u00e3\", \"irm\\u00e3\", \"irm\\u00e3\", \"irm\\u00e3\", \"irm\\u00e3\", \"irm\\u00e3o\", \"irm\\u00e3o\", \"irm\\u00e3o\", \"irm\\u00e3os\", \"irm\\u00e3os\", \"jack\", \"jack\", \"jack\", \"jack\", \"jack\", \"jack\", \"jake\", \"jake\", \"jake\", \"james\", \"james\", \"james\", \"james\", \"james\", \"james\", \"james\", \"jap\\u00e3o\", \"jap\\u00e3o\", \"jesse\", \"jogadores\", \"john\", \"john\", \"john\", \"john\", \"john\", \"john\", \"john\", \"john\", \"john\", \"johnny\", \"joias\", \"jovem\", \"jovem\", \"jovem\", \"jovem\", \"jovem\", \"jovem\", \"jovem\", \"jovem\", \"jovem\", \"jovem\", \"jovens\", \"jovens\", \"jovens\", \"jovens\", \"julian\", \"juntos\", \"juntos\", \"juntos\", \"juntos\", \"juntos\", \"juventude\", \"kate\", \"killer\", \"kong\", \"la\", \"ladr\\u00e3o\", \"ladr\\u00e3o\", \"lake\", \"lan\\u00e7ado\", \"larry\", \"las\", \"leste\", \"lidera\", \"lidera\", \"lincoln\", \"livro\", \"livro\", \"livro\", \"localizar\", \"los\", \"luke\", \"luta\", \"luta\", \"luta\", \"luta\", \"luta\", \"luta\", \"luta\", \"luta\", \"lutam\", \"lutam\", \"lutar\", \"lutar\", \"lutar\", \"lutar\", \"lutar\", \"macacos\", \"madison\", \"mafioso\", \"maior\", \"maior\", \"maior\", \"maior\", \"maior\", \"maior\", \"maior\", \"maior\", \"mal\", \"mal\", \"mal\", \"mal\", \"mal\", \"mal\", \"mal\", \"man\\u00edaco\", \"marciais\", \"marido\", \"marinha\", \"mary\", \"matt\", \"melhores\", \"melhores\", \"melhores\", \"melhores\", \"metade\", \"metal\", \"metal\", \"miss\\u00e3o\", \"miss\\u00e3o\", \"miss\\u00e3o\", \"miss\\u00e3o\", \"miss\\u00e3o\", \"miss\\u00e3o\", \"miss\\u00e3o\", \"misterioso\", \"misterioso\", \"misterioso\", \"misterioso\", \"misterioso\", \"misterioso\", \"moderno\", \"molly\", \"monstros\", \"mora\", \"mora\", \"morar\", \"mortal\", \"mortal\", \"mortal\", \"mortal\", \"mortal\", \"mortal\", \"morte\", \"morte\", \"morte\", \"morte\", \"morte\", \"morte\", \"morte\", \"mortosvivos\", \"movie\", \"mudan\\u00e7a\", \"muitas\", \"muitas\", \"muitas\", \"muitas\", \"mulher\", \"mulher\", \"mulher\", \"mulher\", \"mundial\", \"mundial\", \"mundo\", \"mundo\", \"mundo\", \"mundo\", \"mundo\", \"mundo\", \"mundo\", \"mundo\", \"mundo\", \"musical\", \"musical\", \"m\\u00e1fia\", \"m\\u00e1fia\", \"m\\u00e1fia\", \"m\\u00e1fia\", \"m\\u00e1gico\", \"m\\u00e1gico\", \"m\\u00e1gico\", \"m\\u00e1gico\", \"m\\u00e1quina\", \"m\\u00e1quina\", \"m\\u00e3e\", \"m\\u00e3e\", \"m\\u00e9dio\", \"m\\u00fasica\", \"m\\u00fasica\", \"m\\u00fasica\", \"namorado\", \"namorado\", \"namorado\", \"namorado\", \"namorado\", \"narra\", \"narra\", \"natal\", \"natal\", \"natal\", \"natal\", \"natal\", \"natal\", \"natal\", \"nave\", \"navio\", \"navio\", \"nazista\", \"nazistas\", \"nenhum\", \"nenhum\", \"nenhum\", \"nesta\", \"nesta\", \"nesta\", \"nesta\", \"nesta\", \"neste\", \"neste\", \"neste\", \"nick\", \"nick\", \"noel\", \"noivo\", \"nova\", \"nova\", \"nova\", \"nova\", \"nova\", \"nova\", \"nova\", \"nova\", \"novo\", \"novo\", \"novo\", \"novo\", \"novo\", \"novo\", \"novo\", \"novo\", \"novo\", \"nunca\", \"nunca\", \"nunca\", \"nunca\", \"nunca\", \"nunca\", \"of\", \"of\", \"of\", \"oficial\", \"oficial\", \"oito\", \"oito\", \"oito\", \"oliver\", \"onde\", \"onde\", \"onde\", \"onde\", \"onde\", \"onde\", \"onde\", \"onde\", \"online\", \"opera\\u00e7\\u00f5es\", \"orfanato\", \"oscar\", \"ousada\", \"outras\", \"outras\", \"outras\", \"outras\", \"pai\", \"pai\", \"pai\", \"pai\", \"pais\", \"pais\", \"pais\", \"pais\", \"papai\", \"parceiro\", \"parceiro\", \"park\", \"parker\", \"parte\", \"parte\", \"parte\", \"parte\", \"parte\", \"parte\", \"parte\", \"parte\", \"passando\", \"passaram\", \"pa\\u00eds\", \"pa\\u00eds\", \"pa\\u00eds\", \"pa\\u00eds\", \"pa\\u00eds\", \"pa\\u00eds\", \"pa\\u00eds\", \"pa\\u00eds\", \"pega\", \"pega\", \"pena\", \"pensa\", \"pequena\", \"pequena\", \"pequena\", \"pequena\", \"pequena\", \"pequena\", \"pequena\", \"percebem\", \"perseguem\", \"perseguem\", \"personagem\", \"pesadelos\", \"pessoal\", \"pessoal\", \"pessoal\", \"pessoal\", \"pessoal\", \"pessoas\", \"pessoas\", \"pessoas\", \"pessoas\", \"pessoas\", \"pessoas\", \"pessoas\", \"pessoas\", \"petr\\u00f3leo\", \"planejam\", \"planejam\", \"planeta\", \"pode\", \"pode\", \"pode\", \"pode\", \"pode\", \"pode\", \"pode\", \"poder\", \"poder\", \"poder\", \"poder\", \"poder\", \"poder\", \"poderosos\", \"poeta\", \"policiais\", \"policiais\", \"policiais\", \"policial\", \"policial\", \"policial\", \"pol\\u00edcia\", \"pol\\u00edcia\", \"pol\\u00edcia\", \"pol\\u00edtico\", \"pol\\u00edtico\", \"popula\\u00e7\\u00e3o\", \"presidente\", \"presidente\", \"pretende\", \"preto\", \"pre\\u00e7o\", \"primeira\", \"primeira\", \"primeira\", \"primeira\", \"primeira\", \"primeira\", \"primo\", \"prisioneiros\", \"prisioneiros\", \"pris\\u00e3o\", \"pris\\u00e3o\", \"pris\\u00e3o\", \"pris\\u00e3o\", \"procurado\", \"produtor\", \"produ\\u00e7\\u00e3o\", \"professor\", \"professor\", \"professor\", \"professor\", \"programa\", \"programa\", \"programa\", \"programa\", \"programa\", \"programa\", \"programa\", \"promete\", \"prote\\u00e7\\u00e3o\", \"quatro\", \"quatro\", \"quatro\", \"quatro\", \"quatro\", \"quebrar\", \"questionar\", \"rato\", \"ray\", \"ray\", \"ra\\u00e7a\", \"real\", \"real\", \"real\", \"real\", \"real\", \"recompensas\", \"red\", \"ref\\u00e9ns\", \"rei\", \"rei\", \"reino\", \"reino\", \"relacionamento\", \"relacionamento\", \"relacionamento\", \"relacionamento\", \"resist\\u00eancia\", \"resultados\", \"retrata\", \"retrato\", \"revista\", \"revolu\\u00e7\\u00e3o\", \"rica\", \"rica\", \"rick\", \"rivais\", \"rob\\u00f4\", \"rob\\u00f4s\", \"rock\", \"rock\", \"rock\", \"rock\", \"rock\", \"roma\", \"romance\", \"romance\", \"romance\", \"romance\", \"rom\\u00e2ntica\", \"rom\\u00e2ntico\", \"rose\", \"roubar\", \"roubar\", \"roubar\", \"roubar\", \"ruim\", \"ryan\", \"r\\u00fassia\", \"r\\u00fassia\", \"sala\", \"sally\", \"salvar\", \"salvar\", \"salvar\", \"salvar\", \"salvar\", \"salvar\", \"san\", \"sangue\", \"sangue\", \"sangue\", \"sangue\", \"sangue\", \"sangue\", \"sara\", \"secreta\", \"secreta\", \"secreta\", \"secreta\", \"secreta\", \"secreto\", \"secreto\", \"secreto\", \"segue\", \"segue\", \"segue\", \"segue\", \"segue\", \"segue\", \"segue\", \"segue\", \"segunda\", \"sempre\", \"sempre\", \"sempre\", \"sempre\", \"sempre\", \"sempre\", \"senhor\", \"senhor\", \"separados\", \"separa\\u00e7\\u00e3o\", \"sequ\\u00eancia\", \"sequ\\u00eancia\", \"serial\", \"servi\\u00e7o\", \"show\", \"show\", \"shows\", \"simon\", \"simon\", \"simon\", \"sindicato\", \"sir\", \"sobre\", \"sobre\", \"sobre\", \"sobre\", \"sobre\", \"sobre\", \"sobre\", \"sobreviventes\", \"sobreviventes\", \"sobreviventes\", \"sobreviventes\", \"soldados\", \"soldados\", \"solteira\", \"sonha\", \"sonho\", \"sonho\", \"sonho\", \"sovi\\u00e9tica\", \"sozinho\", \"stone\", \"submarino\", \"suburbana\", \"sub\\u00farbio\", \"superf\\u00edcie\", \"superman\", \"susan\", \"suspeito\", \"suspeito\", \"s\\u00e1dico\", \"s\\u00e9rie\", \"s\\u00e9rie\", \"s\\u00e9rie\", \"s\\u00e9rie\", \"s\\u00e9rie\", \"s\\u00e9rie\", \"s\\u00e9rie\", \"teatro\", \"tela\", \"televis\\u00e3o\", \"tempestade\", \"tempestade\", \"tempestade\", \"templo\", \"tempo\", \"tempo\", \"tempo\", \"tempo\", \"tempo\", \"tempo\", \"tempo\", \"tempo\", \"tenso\", \"tenta\", \"tenta\", \"tenta\", \"tenta\", \"tenta\", \"tenta\", \"tenta\", \"tentam\", \"tentam\", \"tentam\", \"tentam\", \"tentam\", \"terra\", \"terremoto\", \"terrivelmente\", \"terror\", \"terror\", \"terror\", \"terror\", \"terror\", \"terror\", \"terrorista\", \"terrorista\", \"testemunhas\", \"the\", \"the\", \"the\", \"the\", \"the\", \"the\", \"the\", \"thriller\", \"thriller\", \"thriller\", \"time\", \"time\", \"tira\", \"todos\", \"todos\", \"todos\", \"todos\", \"todos\", \"todos\", \"todos\", \"todos\", \"tom\", \"tom\", \"tom\", \"tornam\", \"tornam\", \"tornam\", \"tornamse\", \"torno\", \"tour\", \"traficantes\", \"trama\", \"trama\", \"trama\", \"trama\", \"tranquila\", \"trono\", \"tropas\", \"tr\\u00eas\", \"tr\\u00eas\", \"tr\\u00eas\", \"tr\\u00eas\", \"tr\\u00eas\", \"tr\\u00eas\", \"tr\\u00eas\", \"tr\\u00eas\", \"tubar\\u00e3o\", \"tudo\", \"tudo\", \"tudo\", \"tudo\", \"tudo\", \"tudo\", \"tudo\", \"tudo\", \"tudo\", \"tv\", \"tv\", \"t\\u00eam\", \"t\\u00eam\", \"t\\u00eam\", \"t\\u00eam\", \"t\\u00eam\", \"t\\u00f3quio\", \"unidos\", \"universit\\u00e1rios\", \"universo\", \"universo\", \"universo\", \"universo\", \"uni\\u00e3o\", \"uns\", \"urso\", \"vai\", \"vai\", \"vai\", \"vai\", \"vai\", \"vai\", \"vampiro\", \"vampiros\", \"veem\", \"vegas\", \"vencedor\", \"verdadeira\", \"verdadeira\", \"verdadeira\", \"vez\", \"vez\", \"vez\", \"vez\", \"vez\", \"vez\", \"vez\", \"vez\", \"vez\", \"viajando\", \"viciado\", \"vida\", \"vida\", \"vida\", \"vida\", \"vida\", \"vida\", \"vida\", \"vidas\", \"vidas\", \"vidas\", \"vidas\", \"vidas\", \"vietn\\u00e3\", \"vietn\\u00e3\", \"vigarista\", \"vingar\", \"vingar\", \"vingar\", \"vingar\", \"violentos\", \"violentos\", \"virada\", \"visita\", \"vista\", \"vista\", \"vi\\u00favo\", \"volta\", \"volta\", \"volta\", \"volta\", \"volta\", \"volta\", \"volta\", \"voltam\", \"zumbis\", \"zumbis\", \"zumbis\"]}, \"R\": 30, \"lambda.step\": 0.01, \"plot.opts\": {\"xlab\": \"PC1\", \"ylab\": \"PC2\"}, \"topic.order\": [7, 4, 1, 3, 6, 9, 8, 10, 2, 5]};\n",
              "\n",
              "function LDAvis_load_lib(url, callback){\n",
              "  var s = document.createElement('script');\n",
              "  s.src = url;\n",
              "  s.async = true;\n",
              "  s.onreadystatechange = s.onload = callback;\n",
              "  s.onerror = function(){console.warn(\"failed to load library \" + url);};\n",
              "  document.getElementsByTagName(\"head\")[0].appendChild(s);\n",
              "}\n",
              "\n",
              "if(typeof(LDAvis) !== \"undefined\"){\n",
              "   // already loaded: just create the visualization\n",
              "   !function(LDAvis){\n",
              "       new LDAvis(\"#\" + \"ldavis_el78391391424688699682714417633\", ldavis_el78391391424688699682714417633_data);\n",
              "   }(LDAvis);\n",
              "}else if(typeof define === \"function\" && define.amd){\n",
              "   // require.js is available: use it to load d3/LDAvis\n",
              "   require.config({paths: {d3: \"https://d3js.org/d3.v5\"}});\n",
              "   require([\"d3\"], function(d3){\n",
              "      window.d3 = d3;\n",
              "      LDAvis_load_lib(\"https://cdn.jsdelivr.net/gh/bmabey/pyLDAvis@3.4.0/pyLDAvis/js/ldavis.v3.0.0.js\", function(){\n",
              "        new LDAvis(\"#\" + \"ldavis_el78391391424688699682714417633\", ldavis_el78391391424688699682714417633_data);\n",
              "      });\n",
              "    });\n",
              "}else{\n",
              "    // require.js not available: dynamically load d3 & LDAvis\n",
              "    LDAvis_load_lib(\"https://d3js.org/d3.v5.js\", function(){\n",
              "         LDAvis_load_lib(\"https://cdn.jsdelivr.net/gh/bmabey/pyLDAvis@3.4.0/pyLDAvis/js/ldavis.v3.0.0.js\", function(){\n",
              "                 new LDAvis(\"#\" + \"ldavis_el78391391424688699682714417633\", ldavis_el78391391424688699682714417633_data);\n",
              "            })\n",
              "         });\n",
              "}\n",
              "</script>"
            ]
          },
          "metadata": {},
          "execution_count": 44
        }
      ],
      "source": [
        "import pyLDAvis\n",
        "import pyLDAvis.gensim_models\n",
        "\n",
        "pyLDAvis.enable_notebook()\n",
        "vis = pyLDAvis.gensim_models.prepare(lda_model, corpus_gensim, id2word)\n",
        "vis"
      ]
    },
    {
      "cell_type": "code",
      "source": [],
      "metadata": {
        "id": "7aGvalL92SJR"
      },
      "id": "7aGvalL92SJR",
      "execution_count": null,
      "outputs": []
    }
  ],
  "metadata": {
    "colab": {
      "provenance": []
    },
    "kernelspec": {
      "display_name": "Python 3",
      "language": "python",
      "name": "python3"
    },
    "language_info": {
      "codemirror_mode": {
        "name": "ipython",
        "version": 3
      },
      "file_extension": ".py",
      "mimetype": "text/x-python",
      "name": "python",
      "nbconvert_exporter": "python",
      "pygments_lexer": "ipython3",
      "version": "3.13.2"
    }
  },
  "nbformat": 4,
  "nbformat_minor": 5
}